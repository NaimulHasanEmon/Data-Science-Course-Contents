from bs4 import BeautifulSoup


with open("htmls/page-10.html") as file:
    content = file.read()


soup = BeautifulSoup(content, 'html.parser')


articles = soup.select("article.product_pod")


items = []

for article in articles:
    title = article.find("h3").find("a")["title"]
    price = article.select_one("p.price_color").text.split("£")[1]
    stock = article.select_one("p.instock").text.strip()
    rating_element = article.select_one("p.star-rating")
    rating = rating_element['class'][1]
    items.append([title, price, stock, rating])


items


import pandas as pd


df = pd.DataFrame(items, columns=["Title", "Price", "Availability", "Rating (Star)"])


df


df.to_csv("My Practice (page-10).csv", index=False)
