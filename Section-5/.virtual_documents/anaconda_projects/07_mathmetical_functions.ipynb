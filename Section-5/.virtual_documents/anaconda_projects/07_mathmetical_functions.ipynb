


import numpy as np


arr = np.array([4, 6, 34, 27, 10])


np.mean(arr)


np.max(arr)


np.min(arr)


np.std(arr)


np.var(arr)


np.sum(arr)


np.prod(arr)


np.median(arr)


np.percentile(arr, 50)


np.argmin(arr)    # Index of min value


np.argmax(arr)    # Index of max value


arr2 = np.array([2, 5, 4, 2, 8, 19, 22, 4, 5])
np.unique(arr2)      # Returns unique valus by removing duplicate values
