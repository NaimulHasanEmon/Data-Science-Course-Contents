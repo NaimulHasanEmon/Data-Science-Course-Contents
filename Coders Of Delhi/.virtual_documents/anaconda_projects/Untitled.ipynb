import json





def load_file(filename):
    with open(filename, 'r') as f:
        data = json.load(f)
    return data


def people_you_may_know(user_id, data):
    pass


# Load the data
data = load
