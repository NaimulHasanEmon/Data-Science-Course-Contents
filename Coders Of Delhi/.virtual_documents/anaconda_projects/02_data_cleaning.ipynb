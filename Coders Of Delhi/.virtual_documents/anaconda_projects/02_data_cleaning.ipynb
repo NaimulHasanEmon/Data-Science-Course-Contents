


import json


def clean_data(data):
    # Remove users with missing names
    data["users"] = [user for user in data["users"] if user["name"].strip()]

    # Remove duplicate friends
    for user in data["users"]:
        user["friends"] = list(set(user["friends"]))

    # Remove inactive users
    data["users"] = [user for user in data["users"] if (user["friends"] or user["liked_pages"])]

    # Remove duplicate pages
    unique_pages = {}
    for page in data["pages"]:
        unique_pages[page["id"]] = page
    data["pages"] = list(unique_pages.values())
    
    return data


# Function for loading data
def load_file(filename):
    with open(filename, 'r') as f:
        data = json.load(f)
    return data


data = load_file("data2.json")


data


data = clean_data(data)


data


json.dump(data, open("cleaned_data2.json", "w"), indent=4)
print("Data has been cleaned successfully!")



