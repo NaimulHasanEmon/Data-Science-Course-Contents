import pandas as pd


data = pd.read_csv("xlsx/California Housing Prices/housing.csv")


data.head()


import numpy as np


def shuffle_and_split(data, test_ratio):
    np.random.seed(42)
    shuffled_indices = np.random.permutation(len(data))
    test_data_size = int(len(data) * test_ratio)
    test_indices = shuffled_indices[:test_data_size]
    train_indices = shuffled_indices[test_data_size:]
    return data.iloc[test_indices], data.iloc[train_indices]


test_dataset, train_dataset = shuffle_and_split(data, 0.4)


test_dataset.head()


train_dataset.head()
