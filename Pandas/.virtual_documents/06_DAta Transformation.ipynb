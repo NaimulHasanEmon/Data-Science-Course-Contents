


import pandas as pd


df = pd.read_csv("data2.csv")


df


df.sort_values("Year")


df.sort_values("Year", ascending=False)


df2 = df.sort_values(["Year", "IMDb"]).copy()


df2


# df2.reset_index(drop=True, inplace=True)     # Drop true does not add another column named "Index" and inplace changes the original df2


df2


df2.sort_index()       # Sort according to index number


df2["Rank"] = df2["IMDb"].rank(ascending=False, method="dense")    # Method dense gives the intiger value to the same values ranks
df2


df = df[["Film", "Actor", "Year", "Genre", "IMDb", "BoxOffice(INR Crore)"]]    # Rearrange columns


df
