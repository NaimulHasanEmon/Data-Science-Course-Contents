{
 "cells": [
  {
   "cell_type": "code",
   "execution_count": 2,
   "id": "d43f2cdb-81f1-445d-874e-b137a28bc285",
   "metadata": {},
   "outputs": [],
   "source": [
    "import json"
   ]
  },
  {
   "cell_type": "code",
   "execution_count": 3,
   "id": "53174b34-20be-42d6-ba67-fda064811e0f",
   "metadata": {},
   "outputs": [],
   "source": [
    "obj = {\"name\": \"Emon\", \"company\": \"IBM\", \"salary\": 45000}\n",
    "s = json.dumps(obj)"
   ]
  },
  {
   "cell_type": "code",
   "execution_count": 4,
   "id": "7eb975f7-167e-4d7d-ad33-99b25780b771",
   "metadata": {},
   "outputs": [
    {
     "data": {
      "text/plain": [
       "'{\"name\": \"Emon\", \"company\": \"IBM\", \"salary\": 45000}'"
      ]
     },
     "execution_count": 4,
     "metadata": {},
     "output_type": "execute_result"
    }
   ],
   "source": [
    "s"
   ]
  },
  {
   "cell_type": "code",
   "execution_count": 5,
   "id": "163945b0-6ea5-48e5-b2aa-cdc149bced2f",
   "metadata": {},
   "outputs": [
    {
     "data": {
      "text/plain": [
       "str"
      ]
     },
     "execution_count": 5,
     "metadata": {},
     "output_type": "execute_result"
    }
   ],
   "source": [
    "type(s)"
   ]
  },
  {
   "cell_type": "code",
   "execution_count": 6,
   "id": "0f3aeba2-6d23-4f58-a39d-8ed1c6baa041",
   "metadata": {},
   "outputs": [],
   "source": [
    "d = json.loads(s)"
   ]
  },
  {
   "cell_type": "code",
   "execution_count": 7,
   "id": "108aae03-893c-47d4-89e0-0c625e04c165",
   "metadata": {},
   "outputs": [
    {
     "data": {
      "text/plain": [
       "{'name': 'Emon', 'company': 'IBM', 'salary': 45000}"
      ]
     },
     "execution_count": 7,
     "metadata": {},
     "output_type": "execute_result"
    }
   ],
   "source": [
    "d"
   ]
  },
  {
   "cell_type": "code",
   "execution_count": 8,
   "id": "b749ee3d-b91a-46ed-bfbf-3fa81727ac9d",
   "metadata": {},
   "outputs": [
    {
     "data": {
      "text/plain": [
       "dict"
      ]
     },
     "execution_count": 8,
     "metadata": {},
     "output_type": "execute_result"
    }
   ],
   "source": [
    "type(d)"
   ]
  },
  {
   "cell_type": "code",
   "execution_count": 9,
   "id": "bbce286b-bb74-4266-a774-303eec4ab267",
   "metadata": {},
   "outputs": [],
   "source": [
    "file = open(\"data.json\", \"w\")"
   ]
  },
  {
   "cell_type": "code",
   "execution_count": 10,
   "id": "4cd3aa6a-dc65-49d6-a2da-88e6717a914e",
   "metadata": {},
   "outputs": [],
   "source": [
    "json.dump(obj, file)"
   ]
  },
  {
   "cell_type": "code",
   "execution_count": 11,
   "id": "3352ac3a-75e8-4506-b0f9-0076a5f17f51",
   "metadata": {},
   "outputs": [],
   "source": [
    "file.close()"
   ]
  },
  {
   "cell_type": "code",
   "execution_count": 12,
   "id": "043bb391-c506-4db4-b87e-fc42f7f58b7a",
   "metadata": {},
   "outputs": [],
   "source": [
    "student = {\"name\": \"Naimul Hasan\", \"age\": 25, \"Id\": 5601}"
   ]
  },
  {
   "cell_type": "code",
   "execution_count": 13,
   "id": "0c453c6c-99b3-4ec6-b486-b41e08597edf",
   "metadata": {},
   "outputs": [
    {
     "data": {
      "text/plain": [
       "{'name': 'Naimul Hasan', 'age': 25, 'Id': 5601}"
      ]
     },
     "execution_count": 13,
     "metadata": {},
     "output_type": "execute_result"
    }
   ],
   "source": [
    "student"
   ]
  },
  {
   "cell_type": "code",
   "execution_count": 14,
   "id": "ae98312d-f554-4f1f-a6c2-0cb2b8c7af1a",
   "metadata": {},
   "outputs": [
    {
     "data": {
      "text/plain": [
       "'{\"name\": \"Naimul Hasan\", \"age\": 25, \"Id\": 5601}'"
      ]
     },
     "execution_count": 14,
     "metadata": {},
     "output_type": "execute_result"
    }
   ],
   "source": [
    "infoJson = json.dumps(student)\n",
    "infoJson"
   ]
  },
  {
   "cell_type": "code",
   "execution_count": 15,
   "id": "07049970-3e6b-415c-87f9-a3a6c61dd12a",
   "metadata": {},
   "outputs": [
    {
     "data": {
      "text/plain": [
       "{'name': 'Naimul Hasan', 'age': 25, 'Id': 5601}"
      ]
     },
     "execution_count": 15,
     "metadata": {},
     "output_type": "execute_result"
    }
   ],
   "source": [
    "infoDict = json.loads(infoJson)\n",
    "infoDict"
   ]
  },
  {
   "cell_type": "code",
   "execution_count": 16,
   "id": "916cb6a6-475d-4fa2-8370-23835e47b842",
   "metadata": {},
   "outputs": [],
   "source": [
    "studentFile = open(\"student.json\", \"w\")"
   ]
  },
  {
   "cell_type": "code",
   "execution_count": 17,
   "id": "5f9cced9-a106-45d2-a5fa-bf64122ae2ab",
   "metadata": {},
   "outputs": [],
   "source": [
    "json.dump(infoDict, studentFile)"
   ]
  },
  {
   "cell_type": "code",
   "execution_count": 35,
   "id": "0ec59ffb-2138-49bb-9cee-04c951919ecd",
   "metadata": {},
   "outputs": [],
   "source": [
    "studentFile.close()"
   ]
  },
  {
   "cell_type": "code",
   "execution_count": null,
   "id": "29b4870e-9431-4a00-9de4-dd8a3c735c81",
   "metadata": {},
   "outputs": [],
   "source": []
  }
 ],
 "metadata": {
  "kernelspec": {
   "display_name": "Python [conda env:base] *",
   "language": "python",
   "name": "conda-base-py"
  },
  "language_info": {
   "codemirror_mode": {
    "name": "ipython",
    "version": 3
   },
   "file_extension": ".py",
   "mimetype": "text/x-python",
   "name": "python",
   "nbconvert_exporter": "python",
   "pygments_lexer": "ipython3",
   "version": "3.12.7"
  }
 },
 "nbformat": 4,
 "nbformat_minor": 5
}
