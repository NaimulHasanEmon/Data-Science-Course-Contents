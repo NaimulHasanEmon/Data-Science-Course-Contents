


import pandas as pd


df = pd.read_csv("data_cleaning_sample.csv")


df


df.isnull()           # Returns true and false value to show if there is any null values or not


df.isnull().sum()      # Returns how many null values are there in each column


df.dropna()            # Returns a view of the dataset where there is no null values in any column


df.dropna(axis=1)       # It drops the whole column where there is null value


df.fillna(0)        # Replace null with 0


df["Age"].fillna(df["Age"].mean())      # Replace the Age column with the mean of Age


df.fillna(method="ffill")


df.fillna(method="bfill")


df.ffill()


df.bfill()


df.duplicated()           # Return true if that whole row is a duplicate row


df.drop_duplicates()      # Remove all duplicate rows


df["Name"].str.lower()


df["City"].str.contains('delhi', case=False)     # Case sensitive is turned off


df["Email"].str.split('@')


type(df["Email"].str.split('@')[0])


df2 = df.dropna().copy()


df2


df2["Age"] = df2["Age"].astype(int)


df2


df2.info()


df2["Age Group"] = df2["Age"].apply(lambda x: "Adult" if x >= 25 else "Minor")


df2


gender_map = {"M": "Male", "F": "Female", "O": "Other"}
df2["Gender"] = df2["Gender"].map(gender_map)


df2


df2["City"] = df2["City"].replace({"Delhi": "New Delhi", "Mumbai": "New Mumbai"})


df2
