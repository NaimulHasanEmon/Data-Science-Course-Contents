{
 "cells": [
  {
   "cell_type": "code",
   "execution_count": 1,
   "id": "e1842913-7d91-4f8c-8702-5f1f8c6aac79",
   "metadata": {},
   "outputs": [],
   "source": [
    "a = {}"
   ]
  },
  {
   "cell_type": "code",
   "execution_count": 2,
   "id": "c6c94089-3765-45aa-9225-46f22824c7cc",
   "metadata": {},
   "outputs": [
    {
     "data": {
      "text/plain": [
       "dict"
      ]
     },
     "execution_count": 2,
     "metadata": {},
     "output_type": "execute_result"
    }
   ],
   "source": [
    "type(a)"
   ]
  },
  {
   "cell_type": "code",
   "execution_count": 3,
   "id": "4a08447e-b550-4fc3-b483-f2b9d345b13a",
   "metadata": {},
   "outputs": [],
   "source": [
    "b = set()"
   ]
  },
  {
   "cell_type": "code",
   "execution_count": 4,
   "id": "deb0302e-e7c9-4153-86e1-987c82675e5b",
   "metadata": {},
   "outputs": [
    {
     "data": {
      "text/plain": [
       "set"
      ]
     },
     "execution_count": 4,
     "metadata": {},
     "output_type": "execute_result"
    }
   ],
   "source": [
    "type(b)"
   ]
  },
  {
   "cell_type": "code",
   "execution_count": 5,
   "id": "7102ea01-707c-41fc-9c88-bf9cc0a30022",
   "metadata": {},
   "outputs": [],
   "source": [
    "s = {4, 3, 6, 2, 66}"
   ]
  },
  {
   "cell_type": "code",
   "execution_count": 6,
   "id": "5e748a4a-dbb1-467e-8f8e-7fb03cfcae34",
   "metadata": {},
   "outputs": [
    {
     "data": {
      "text/plain": [
       "{2, 3, 4, 6, 66}"
      ]
     },
     "execution_count": 6,
     "metadata": {},
     "output_type": "execute_result"
    }
   ],
   "source": [
    "s"
   ]
  },
  {
   "cell_type": "code",
   "execution_count": 7,
   "id": "ade35e14-ef40-4bec-b757-5ab654133c7d",
   "metadata": {},
   "outputs": [],
   "source": [
    "s.add(5)"
   ]
  },
  {
   "cell_type": "code",
   "execution_count": 8,
   "id": "4dc2d4c3-a3cf-4de3-afbe-00808d7bef1e",
   "metadata": {},
   "outputs": [
    {
     "data": {
      "text/plain": [
       "{2, 3, 4, 5, 6, 66}"
      ]
     },
     "execution_count": 8,
     "metadata": {},
     "output_type": "execute_result"
    }
   ],
   "source": [
    "s      # set auto sort"
   ]
  },
  {
   "cell_type": "code",
   "execution_count": 22,
   "id": "fc347f3c-c8ee-424f-8a6c-20910ec72c3d",
   "metadata": {},
   "outputs": [],
   "source": [
    "u = set([1, 2, 2, 3, 4, 4, 5])"
   ]
  },
  {
   "cell_type": "code",
   "execution_count": 26,
   "id": "5b811c84-1637-44fa-80ef-019f675315af",
   "metadata": {},
   "outputs": [
    {
     "data": {
      "text/plain": [
       "{1, 2, 3, 4, 5}"
      ]
     },
     "execution_count": 26,
     "metadata": {},
     "output_type": "execute_result"
    }
   ],
   "source": [
    "u     # remove multiple same elements"
   ]
  },
  {
   "cell_type": "code",
   "execution_count": 28,
   "id": "77a0b92f-335b-4f72-98d4-2b65d65b5afc",
   "metadata": {},
   "outputs": [
    {
     "ename": "KeyError",
     "evalue": "10",
     "output_type": "error",
     "traceback": [
      "\u001b[1;31m---------------------------------------------------------------------------\u001b[0m",
      "\u001b[1;31mKeyError\u001b[0m                                  Traceback (most recent call last)",
      "Cell \u001b[1;32mIn[28], line 1\u001b[0m\n\u001b[1;32m----> 1\u001b[0m u\u001b[38;5;241m.\u001b[39mremove(\u001b[38;5;241m10\u001b[39m)\n",
      "\u001b[1;31mKeyError\u001b[0m: 10"
     ]
    }
   ],
   "source": [
    "u.remove(10)        # throws error if not present"
   ]
  },
  {
   "cell_type": "code",
   "execution_count": 32,
   "id": "f4f3fc75-51c0-411d-8761-efbe415b9f51",
   "metadata": {},
   "outputs": [],
   "source": [
    "u.discard(10)      # does not throws error if not present"
   ]
  },
  {
   "cell_type": "code",
   "execution_count": 36,
   "id": "51f5e32f-32ea-46b0-a104-6024009b8a2e",
   "metadata": {},
   "outputs": [],
   "source": [
    "set1 = {1, 2, 3, 4}\n",
    "set2 = {3, 4, 5, 6}"
   ]
  },
  {
   "cell_type": "code",
   "execution_count": 38,
   "id": "f06ceb1c-8204-4911-8a0a-215252f1cb68",
   "metadata": {},
   "outputs": [
    {
     "data": {
      "text/plain": [
       "{1, 2, 3, 4, 5, 6}"
      ]
     },
     "execution_count": 38,
     "metadata": {},
     "output_type": "execute_result"
    }
   ],
   "source": [
    "set1.union(set2)"
   ]
  },
  {
   "cell_type": "code",
   "execution_count": 40,
   "id": "b9d7ae84-aea8-4db5-8920-41d3943c16f2",
   "metadata": {},
   "outputs": [
    {
     "data": {
      "text/plain": [
       "{3, 4}"
      ]
     },
     "execution_count": 40,
     "metadata": {},
     "output_type": "execute_result"
    }
   ],
   "source": [
    "set1.intersection(set2)"
   ]
  },
  {
   "cell_type": "code",
   "execution_count": null,
   "id": "74c4dd73-a19d-45d1-864c-7af5bb041a4d",
   "metadata": {},
   "outputs": [],
   "source": []
  }
 ],
 "metadata": {
  "kernelspec": {
   "display_name": "Python [conda env:base] *",
   "language": "python",
   "name": "conda-base-py"
  },
  "language_info": {
   "codemirror_mode": {
    "name": "ipython",
    "version": 3
   },
   "file_extension": ".py",
   "mimetype": "text/x-python",
   "name": "python",
   "nbconvert_exporter": "python",
   "pygments_lexer": "ipython3",
   "version": "3.12.7"
  }
 },
 "nbformat": 4,
 "nbformat_minor": 5
}
