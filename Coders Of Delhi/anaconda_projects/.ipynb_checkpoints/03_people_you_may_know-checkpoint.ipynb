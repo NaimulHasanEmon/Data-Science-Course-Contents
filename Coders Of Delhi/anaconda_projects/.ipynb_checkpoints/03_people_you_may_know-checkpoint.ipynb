{
 "cells": [
  {
   "cell_type": "code",
   "execution_count": 1,
   "id": "06d3c485-f29d-47db-9bb0-564934eef8d2",
   "metadata": {},
   "outputs": [],
   "source": [
    "import json"
   ]
  },
  {
   "cell_type": "code",
   "execution_count": 2,
   "id": "ae3da830-66d0-4612-9a49-c34dc9e2abac",
   "metadata": {},
   "outputs": [],
   "source": [
    "def load_file(filename):\n",
    "    with open(filename, 'r') as f:\n",
    "        data = json.load(f)\n",
    "    return data"
   ]
  },
  {
   "cell_type": "code",
   "execution_count": 3,
   "id": "4bf0c6ab-42be-4626-814e-cca1d36e444f",
   "metadata": {},
   "outputs": [],
   "source": [
    "# Load the data\n",
    "data = load_file(\"massive_data.json\")\n",
    "# data"
   ]
  },
  {
   "cell_type": "code",
   "execution_count": 4,
   "id": "cfd1da22-2a43-4ffc-bab8-632e26acb047",
   "metadata": {},
   "outputs": [
    {
     "name": "stdout",
     "output_type": "stream",
     "text": [
      "ID: 1 may know [7, 8, 9, 10, 11, 12]\n",
      "ID: 2 may know [4, 8, 10, 11, 12, 9, 13]\n",
      "ID: 3 may know [6, 5, 9, 13, 10, 14]\n",
      "ID: 4 may know [2, 7, 5, 10, 12, 14, 11, 15]\n",
      "ID: 5 may know [12, 3, 4, 9, 7, 8, 16, 14, 17]\n",
      "ID: 6 may know [3, 10, 11, 7, 8, 9, 13, 18]\n",
      "ID: 7 may know [4, 1, 10, 14, 15, 5, 6, 11, 12, 19]\n",
      "ID: 8 may know [9, 1, 2, 13, 16, 6, 5, 12, 11, 20]\n",
      "ID: 9 may know [8, 3, 13, 5, 12, 16, 17, 1, 6, 2, 14, 21]\n",
      "ID: 10 may know [11, 6, 4, 7, 14, 15, 18, 1, 2, 3, 13, 22]\n",
      "ID: 11 may know [10, 6, 15, 13, 18, 1, 2, 4, 7, 8, 16, 20, 19, 23]\n",
      "ID: 12 may know [5, 9, 16, 14, 17, 1, 2, 4, 8, 7, 15, 19, 20, 24]\n",
      "ID: 13 may know [8, 9, 11, 16, 20, 17, 21, 2, 3, 6, 10, 18, 25]\n",
      "ID: 14 may know [7, 10, 12, 15, 19, 18, 22, 3, 4, 5, 9, 17, 26]\n",
      "ID: 15 may know [19, 7, 10, 11, 14, 18, 22, 23, 4, 12, 27]\n",
      "ID: 16 may know [20, 8, 9, 12, 13, 17, 21, 24, 5, 11, 28]\n",
      "ID: 17 may know [21, 9, 12, 13, 16, 20, 24, 25, 5, 14, 29]\n",
      "ID: 18 may know [22, 10, 11, 14, 15, 19, 23, 26, 6, 13, 30]\n",
      "ID: 19 may know [15, 23, 14, 18, 22, 26, 27, 7, 12, 11, 1]\n",
      "ID: 20 may know [16, 24, 13, 17, 21, 25, 28, 8, 11, 12, 3]\n",
      "ID: 21 may know [17, 25, 13, 16, 20, 24, 28, 29, 9, 5]\n",
      "ID: 22 may know [18, 26, 14, 15, 19, 23, 27, 30, 10, 7]\n",
      "ID: 23 may know [19, 27, 11, 15, 18, 22, 26, 30, 1, 9]\n",
      "ID: 24 may know [20, 28, 16, 17, 21, 25, 29, 12, 3, 13, 15]\n",
      "ID: 25 may know [21, 3, 5, 17, 20, 24, 29, 28, 2, 4, 6, 13]\n",
      "ID: 26 may know [22, 1, 7, 18, 19, 23, 30, 27, 2, 4, 8, 14]\n",
      "ID: 27 may know [23, 1, 11, 19, 22, 26, 30, 2, 6, 10, 15, 7, 9]\n",
      "ID: 28 may know [24, 3, 13, 20, 21, 25, 29, 2, 8, 9, 16, 5, 15]\n",
      "ID: 29 may know [15, 5, 17, 21, 24, 25, 28, 4, 7, 10, 12, 14, 13]\n",
      "ID: 30 may know [7, 9, 22, 23, 26, 27, 12, 14, 19, 16, 17, 21, 18, 11]\n"
     ]
    }
   ],
   "source": [
    "def people_you_may_know(user_id, data):\n",
    "    user_friends = {}\n",
    "    for user in data[\"users\"]:\n",
    "        user_friends[user[\"id\"]] = set(user[\"friends\"])\n",
    "\n",
    "    # print(user_friends)   # show the friends list of current user.\n",
    "\n",
    "    if user_id not in user_friends:\n",
    "        return[]\n",
    "\n",
    "    direct_friends = user_friends[user_id]\n",
    "    suggestions = {}\n",
    "    for friend in direct_friends:\n",
    "        for mutual_friends in user_friends[friend]:\n",
    "            if mutual_friends != user_id and mutual_friends not in direct_friends:\n",
    "                # Count mutual friends\n",
    "                suggestions[mutual_friends] = suggestions.get(mutual_friends, 0) + 1\n",
    "    sorted_suggestions = sorted(suggestions.items(), key=lambda x: x[1], reverse = True)\n",
    "    return [user_id for user_id, murual_count in sorted_suggestions]\n",
    "\n",
    "user_data = data[\"users\"]\n",
    "\n",
    "for demo_id in user_data:\n",
    "    user_id = demo_id[\"id\"]\n",
    "    recc = people_you_may_know(user_id, data)\n",
    "    print(f\"ID: {user_id} may know {recc}\")"
   ]
  }
 ],
 "metadata": {
  "kernelspec": {
   "display_name": "Python [conda env:base] *",
   "language": "python",
   "name": "conda-base-py"
  },
  "language_info": {
   "codemirror_mode": {
    "name": "ipython",
    "version": 3
   },
   "file_extension": ".py",
   "mimetype": "text/x-python",
   "name": "python",
   "nbconvert_exporter": "python",
   "pygments_lexer": "ipython3",
   "version": "3.12.7"
  }
 },
 "nbformat": 4,
 "nbformat_minor": 5
}
