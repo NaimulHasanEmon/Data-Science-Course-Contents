


import pandas as pd


s1 = pd.Series([78, 69, 83, 91, 85])


s1


type(s1)


s2 = pd.Series([78, 69, 83, 91, 85], index=["Emon", "Naimul", "Hasan", "Tasnim", "Bindu"])


s2


s2["Hasan"]


s2["Tasnim"]


data = {
    "name": ["Alice", "Bob", "Charlie"],
    "age": [25, 30, 35],
    "city": ["Dhaka", "Bogura", "Chattogram"]
}


df = pd.DataFrame(data)
df


df.index


df.columns
