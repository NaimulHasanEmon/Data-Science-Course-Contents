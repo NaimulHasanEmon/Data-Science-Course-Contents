


import pandas as pd
import numpy as np


data = pd.read_csv("xlsx/California Housing Prices/housing.csv")


data["income_cat"] = pd.cut(data["median_income"], bins=[0, 1.5, 3.0, 4.5, 6.0, np.inf], labels=[1, 2, 3, 4, 5])


from sklearn.model_selection import StratifiedShuffleSplit


split = StratifiedShuffleSplit(n_splits=1, test_size=0.2, random_state=42)


for train_index, test_index in split.split(data, data["income_cat"]):
    strat_train_set = data.loc[train_index]
    strat_test_set = data.loc[test_index]


# Remove the income_cat column
for sett in (strat_train_set, strat_test_set):
    sett.drop("income_cat", axis=1, inplace=True)


df = strat_train_set.copy()


df.head()


housing = strat_train_set.drop("median_house_value", axis=1)
housing_labels = strat_train_set["median_house_value"].copy()


housing = housing.drop("ocean_proximity", axis=1)


housing.head()


from sklearn.pipeline import Pipeline
from sklearn.impute import SimpleImputer
from sklearn.preprocessing import StandardScaler


my_pipeline = Pipeline([
    ("impute", SimpleImputer(strategy="median")),
     ("standardize", StandardScaler())
])


my_pipeline.fit_transform(housing)
