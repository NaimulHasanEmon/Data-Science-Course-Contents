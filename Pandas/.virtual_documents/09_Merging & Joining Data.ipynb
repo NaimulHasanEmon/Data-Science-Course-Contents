


import pandas as pd


employees = pd.DataFrame({
    "EmpID": [1, 2, 3],
    "Name": ["Alice", "Bob", "Charlie"],
    "DeptID": [10, 20, 30]
})


employees


departments = pd.DataFrame({
    "DeptID": [10, 20, 40],
    "DeptName": ["HR", "Engineering", "Marketing"]
})


departments


pd.merge(employees, departments, on="DeptID")        # Inner Join, join where they are common


pd.merge(employees, departments, on="DeptID", how="left")     # Left Join


pd.merge(employees, departments, on="DeptID", how="right")     # Right Join


pd.merge(employees, departments, on="DeptID", how="outer")     # Outer Join


df1 = pd.DataFrame({"Name": ["Alice", "Bob"], "Score": [423, 634]})
df2 = pd.DataFrame({"Name": ["Charlie", "David"], "Age": [25, 30]})


df1


df2


pd.concat([df1, df2])


pd.concat([df1, df2], axis=1)


pd.concat([df1, df2], axis=0)
