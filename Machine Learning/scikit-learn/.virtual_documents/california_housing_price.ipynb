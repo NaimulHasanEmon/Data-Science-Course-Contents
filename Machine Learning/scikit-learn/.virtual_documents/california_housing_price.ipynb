


import pandas as pd


data = pd.read_csv("xlsx/California Housing Prices/housing.csv")


data


data.head()


data.tail()


data.info()


data['ocean_proximity'].value_counts()


data.describe()


import matplotlib.pyplot as plt


data.hist(bins=50, figsize=(12, 8))
