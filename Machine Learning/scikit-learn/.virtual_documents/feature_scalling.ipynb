


import pandas as pd
import numpy as np


data = pd.read_csv("xlsx/California Housing Prices/housing.csv")


data["income_cat"] = pd.cut(data["median_income"], bins=[0, 1.5, 3.0, 4.5, 6.0, np.inf], labels=[1, 2, 3, 4, 5])


import matplotlib.pyplot as plt


from sklearn.model_selection import StratifiedShuffleSplit


split = StratifiedShuffleSplit(n_splits=1, test_size=0.2, random_state=42)


for train_index, test_index in split.split(data, data["income_cat"]):
    strat_train_set = data.loc[train_index]
    strat_test_set = data.loc[test_index]


# Remove the income_cat column
for sett in (strat_train_set, strat_test_set):
    sett.drop("income_cat", axis=1, inplace=True)


df = strat_train_set.copy()


housing = strat_train_set.drop("median_house_value", axis=1)
housing_labels = strat_train_set["median_house_value"].copy()


from sklearn.impute import SimpleImputer


imputer = SimpleImputer(strategy="median")


housing_num = housing.select_dtypes(include=[np.number])


imputer.fit(housing_num)


imputer.statistics_


X = imputer.transform(housing_num)


housing = pd.DataFrame(X, columns=housing_num.columns, index=housing_num.index)


housing["ocean_proximity"] = df["ocean_proximity"]


housing_for_onehot = housing[["ocean_proximity"]]


housing.head()


housing["ocean_proximity"].unique()


from sklearn.preprocessing import OrdinalEncoder


ordinal_encoder = OrdinalEncoder()


housing_cat = ordinal_encoder.fit_transform(housing)


housing_cat = pd.DataFrame(housing_cat, columns=housing.columns, index=housing.index)


housing_cat.head()


from sklearn.preprocessing import OneHotEncoder


one_hot_encoder = OneHotEncoder()


housing_cat = one_hot_encoder.fit_transform(housing_for_onehot)


housing_cat


housing_cat.toarray()


one_hot_encoder.categories_


housing_cat = pd.DataFrame(housing_cat.toarray(), columns=['<1H OCEAN', 'INLAND', 'ISLAND', 'NEAR BAY', 'NEAR OCEAN'], index=housing.index)


housing_cat


df = pd.concat([df, housing_cat], axis=1)


df.head()


df = df.drop("ocean_proximity", axis=1)


df.head()


from sklearn.preprocessing import MinMaxScaler


scaller = MinMaxScaler(feature_range=(-1, 1))


df_scaled = scaller.fit_transform(df)


df_scaled


df_scaled = pd.DataFrame(df_scaled, columns=df.columns, index=df.index)


df_scaled.head()


from sklearn.preprocessing import StandardScaler


std_scaller = StandardScaler()


df_std_scaled = std_scaller.fit_transform(df)


df_std_scaled


df_std_scaled = pd.DataFrame(df_std_scaled, columns=df.columns, index=df.index)


df_std_scaled.head()
