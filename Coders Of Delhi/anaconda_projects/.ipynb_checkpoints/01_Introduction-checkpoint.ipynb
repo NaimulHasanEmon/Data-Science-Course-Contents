{
 "cells": [
  {
   "attachments": {},
   "cell_type": "markdown",
   "id": "1387e41d-5d72-4f8f-b505-908d9df93917",
   "metadata": {},
   "source": [
    "# **Welcome to CodeBook – Your Data Science Internship Begins!**\n",
    "\n",
    "---\n",
    "\n",
    "### **Introduction**\n",
    "\n",
    "Congratulations! You have just been hired as a Data Scientist Intern at **CodeBook** – The Social Media for Coders. This Delhi-based company is offering you a **₹10 LPA** job if you successfully complete this 1-month internship. But before you get there, you must prove your skills using **only Python**—no pandas, NumPy, or fancy libraries!\n",
    "\n",
    "Your manager, **Puneet Kumar**, has assigned you your first task: analyzing a data dump of **CodeBook users** using pure Python. Your job is to load and explore the data to understand its structure.\n",
    "\n",
    "---\n",
    "\n",
    "### **Task 1: Load the User Data**\n",
    "\n",
    "Your manager has given you a dataset containing information about CodeBook users, their connections (friends), and the pages they have liked.\n",
    "\n",
    "The data is in JSON format and looks like this:\n",
    "\n",
    "```json\n",
    "{\n",
    "    \"users\": [\n",
    "        {\"id\": 1, \"name\": \"Amit\", \"friends\": [2, 3], \"liked_pages\": [101]},\n",
    "        {\"id\": 2, \"name\": \"Priya\", \"friends\": [1, 4], \"liked_pages\": [102]},\n",
    "        {\"id\": 3, \"name\": \"Rahul\", \"friends\": [1], \"liked_pages\": [101, 103]},\n",
    "        {\"id\": 4, \"name\": \"Sara\", \"friends\": [2], \"liked_pages\": [104]}\n",
    "    ],\n",
    "    \"pages\": [\n",
    "        {\"id\": 101, \"name\": \"Python Developers\"},\n",
    "        {\"id\": 102, \"name\": \"Data Science Enthusiasts\"},\n",
    "        {\"id\": 103, \"name\": \"AI & ML Community\"},\n",
    "        {\"id\": 104, \"name\": \"Web Dev Hub\"}\n",
    "    ]\n",
    "}\n",
    "```\n",
    "\n",
    "We need to **read** this data and **understand its structure**. The data contains three main components:\n",
    "\n",
    "1. **Users**: Each user has:\n",
    "   - An ID\n",
    "   - A name\n",
    "   - A list of friends (by their IDs)\n",
    "   - A list of liked pages (by their IDs)\n",
    "\n",
    "2. **Pages**: Each page has:\n",
    "   - An ID\n",
    "   - A name\n",
    "\n",
    "3. **Connections**: Users can have multiple friends and can like multiple pages."
   ]
  },
  {
   "cell_type": "code",
   "execution_count": 3,
   "id": "6c7dd7e2-1c4b-4a91-9930-ad10baf03f54",
   "metadata": {},
   "outputs": [],
   "source": [
    "import json"
   ]
  },
  {
   "cell_type": "code",
   "execution_count": 4,
   "id": "615dacc8-e89c-4c88-b5d3-a4600cec089f",
   "metadata": {},
   "outputs": [],
   "source": [
    "#Let's write a function to load the data\n",
    "def load_data(filename):\n",
    "    with open(filename, 'r') as f:\n",
    "        data = json.load(f)\n",
    "    return data"
   ]
  },
  {
   "cell_type": "code",
   "execution_count": 5,
   "id": "9c917c68-a8fd-4c90-96f7-2e1195ccc690",
   "metadata": {},
   "outputs": [],
   "source": [
    "data = load_data(\"data.json\")"
   ]
  },
  {
   "cell_type": "code",
   "execution_count": 6,
   "id": "366ec6b5-684d-4c64-9d69-dc779b9082d0",
   "metadata": {},
   "outputs": [
    {
     "data": {
      "text/plain": [
       "{'users': [{'id': 1, 'name': 'Amit', 'friends': [2, 3], 'liked_pages': [101]},\n",
       "  {'id': 2, 'name': 'Priya', 'friends': [1, 4], 'liked_pages': [102]},\n",
       "  {'id': 3, 'name': 'Rahul', 'friends': [1], 'liked_pages': [101, 103]},\n",
       "  {'id': 4, 'name': 'Sara', 'friends': [2], 'liked_pages': [104]}],\n",
       " 'pages': [{'id': 101, 'name': 'Python Developers'},\n",
       "  {'id': 102, 'name': 'Data Science Enthusiasts'},\n",
       "  {'id': 103, 'name': 'AI & ML Community'},\n",
       "  {'id': 104, 'name': 'Web Dev Hub'}]}"
      ]
     },
     "execution_count": 6,
     "metadata": {},
     "output_type": "execute_result"
    }
   ],
   "source": [
    "data"
   ]
  },
  {
   "cell_type": "code",
   "execution_count": 11,
   "id": "9d9cab0a-9627-40ad-bf2c-1c38f3e49f84",
   "metadata": {},
   "outputs": [
    {
     "data": {
      "text/plain": [
       "dict"
      ]
     },
     "execution_count": 11,
     "metadata": {},
     "output_type": "execute_result"
    }
   ],
   "source": [
    "type(data)"
   ]
  },
  {
   "cell_type": "code",
   "execution_count": null,
   "id": "073f2fdc-1113-4bdc-a88b-7a2416beb21b",
   "metadata": {},
   "outputs": [],
   "source": [
    "# Write a function to display users and their connections\n",
    "def display_users(data):\n",
    "    for user in data:\n",
    "        "
   ]
  }
 ],
 "metadata": {
  "kernelspec": {
   "display_name": "Python [conda env:base] *",
   "language": "python",
   "name": "conda-base-py"
  },
  "language_info": {
   "codemirror_mode": {
    "name": "ipython",
    "version": 3
   },
   "file_extension": ".py",
   "mimetype": "text/x-python",
   "name": "python",
   "nbconvert_exporter": "python",
   "pygments_lexer": "ipython3",
   "version": "3.12.7"
  }
 },
 "nbformat": 4,
 "nbformat_minor": 5
}
