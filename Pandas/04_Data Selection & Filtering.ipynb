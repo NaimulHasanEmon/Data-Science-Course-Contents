{
 "cells": [
  {
   "cell_type": "markdown",
   "id": "a8fa060c-02c0-458d-8444-696fe5367c1b",
   "metadata": {},
   "source": [
    "# 📊 Data Selection & Filtering in Pandas\n",
    "\n",
    "Selecting the right rows and columns is the first step in analyzing any dataset. Pandas gives you several powerful ways to do this.\n",
    "\n",
    "---\n",
    "\n",
    "## 🔹 Selecting Rows & Columns\n",
    "\n",
    "### Selecting Columns\n",
    "\n",
    "```python\n",
    "df[\"column_name\"]        # Single column (as Series)\n",
    "df[[\"col1\", \"col2\"]]     # Multiple columns (as DataFrame)\n",
    "```\n",
    "\n",
    "### Selecting Rows by Index\n",
    "\n",
    "Use `.loc[]` (label-based) and `.iloc[]` (position-based):\n",
    "\n",
    "```python\n",
    "df.loc[0]                # First row (by label)\n",
    "df.iloc[0]               # First row (by position)\n",
    "```\n",
    "\n",
    "### Selecting Specific Rows and Columns\n",
    "\n",
    "```python\n",
    "df.loc[0, \"Name\"]        # Value at row 0, column 'Name'\n",
    "df.iloc[0, 1]            # Value at row 0, column at index 1\n",
    "```\n",
    "\n",
    "You can also **slice**:\n",
    "\n",
    "```python\n",
    "df.loc[0:2, [\"Name\", \"Age\"]]   # Rows 0 to 2, selected columns\n",
    "df.iloc[0:2, 0:2]              # Rows and cols by index position\n",
    "```\n",
    "\n",
    "---\n",
    "\n",
    "## ⚡ Fast Access: `.at` and `.iat`\n",
    "\n",
    "These are optimized for **single element access**:\n",
    "\n",
    "```python\n",
    "df.at[0, \"Name\"]       # Fast label-based access\n",
    "df.iat[0, 1]           # Fast position-based access\n",
    "```\n",
    "\n",
    "---\n",
    "\n",
    "## 🔍 Filtering with Conditions\n",
    "\n",
    "### Simple Condition\n",
    "\n",
    "```python\n",
    "df[df[\"Age\"] > 30]\n",
    "```\n",
    "\n",
    "### Multiple Conditions (AND / OR)\n",
    "\n",
    "```python\n",
    "df[(df[\"Age\"] > 25) & (df[\"City\"] == \"Dhaka\")]\n",
    "df[(df[\"Name\"] == \"Bob\") | (df[\"Age\"] < 30)]\n",
    "```\n",
    "\n",
    "> ✅ **Use parentheses around each condition!**\n",
    "\n",
    "---\n",
    "\n",
    "## 🔎 Querying with `.query()`\n",
    "\n",
    "The `.query()` method in pandas lets you filter DataFrame rows using a string expression — it's a more readable and often more concise alternative to boolean indexing.\n",
    "\n",
    "### ✅ Example\n",
    "\n",
    "```python\n",
    "df.query(\"Age > 25 and City == 'Dhaka'\")\n",
    "```\n",
    "\n",
    "### 🔁 Dynamic column names\n",
    "\n",
    "```python\n",
    "col = \"Age\"\n",
    "df.query(f\"{col} > 25\")\n",
    "```\n",
    "\n",
    "---\n",
    "\n",
    "## 🧠 Rules and Tips for `.query()`\n",
    "\n",
    "1. **Column names become variables**\n",
    "\n",
    "   ```python\n",
    "   df.query(\"age > 25 and city == 'Dhaka'\")\n",
    "   ```\n",
    "\n",
    "2. **String values must be in quotes**\n",
    "\n",
    "   ```python\n",
    "   df.query(\"name == 'Harry'\")\n",
    "   df.query('city == \"Mumbai\"')  # Mix quotes if needed\n",
    "   ```\n",
    "\n",
    "3. **Use backticks for special column names**\n",
    "\n",
    "   ```python\n",
    "   df.query(\"`first name` == 'Alice'\")\n",
    "   ```\n",
    "\n",
    "4. **Reference Python variables with `@`**\n",
    "\n",
    "   ```python\n",
    "   age_limit = 30\n",
    "   df.query(\"age > @age_limit\")\n",
    "   ```\n",
    "\n",
    "5. **Logical operators**\n",
    "\n",
    "   * Use: `and`, `or`, `not`\n",
    "   * Avoid: `&`, `|`, `~`\n",
    "\n",
    "   ❌ Bad:\n",
    "\n",
    "   ```python\n",
    "   df.query(\"age > 30 & city == 'Dhaka'\")\n",
    "   ```\n",
    "\n",
    "   ✅ Good:\n",
    "\n",
    "   ```python\n",
    "   df.query(\"age > 30 and city == 'Dhaka'\")\n",
    "   ```\n",
    "\n",
    "6. **Chained comparisons**\n",
    "\n",
    "   ```python\n",
    "   df.query(\"25 < age <= 40\")\n",
    "   ```\n",
    "\n",
    "7. **Avoid reserved keywords as column names**\n",
    "\n",
    "   ```python\n",
    "   df.query(\"`class` == 'Physics'\")\n",
    "   ```\n",
    "\n",
    "8. **Case-sensitive**\n",
    "\n",
    "   ```python\n",
    "   df.query(\"City == 'Dhaka'\")  # ❌ if actual value is 'Dhaka'\n",
    "   ```\n",
    "\n",
    "9. **Returns a copy, not a view**\n",
    "\n",
    "   ```python\n",
    "   filtered = df.query(\"age < 50\")\n",
    "   ```\n",
    "\n",
    "---\n",
    "\n",
    "## ✅ Summary\n",
    "\n",
    "* Use `df[col]`, `.loc[]`, `.iloc[]`, `.at[]`, `.iat[]` to access data\n",
    "* Filter with logical conditions or `.query()` for readable code\n",
    "* Mastering selection makes the rest of pandas feel easy"
   ]
  },
  {
   "cell_type": "code",
   "execution_count": 2,
   "id": "d159a841-5cbc-4f9e-9e09-053383544338",
   "metadata": {},
   "outputs": [],
   "source": [
    "import pandas as pd"
   ]
  },
  {
   "cell_type": "code",
   "execution_count": 3,
   "id": "4b8d0896-3ef5-4a33-ae93-9639f1326256",
   "metadata": {},
   "outputs": [],
   "source": [
    "df = pd.read_csv(\"data2.csv\")"
   ]
  },
  {
   "cell_type": "code",
   "execution_count": 4,
   "id": "4802659d-8b0d-4a29-b4de-9fbe9fc86ae8",
   "metadata": {},
   "outputs": [
    {
     "data": {
      "text/html": [
       "<div>\n",
       "<style scoped>\n",
       "    .dataframe tbody tr th:only-of-type {\n",
       "        vertical-align: middle;\n",
       "    }\n",
       "\n",
       "    .dataframe tbody tr th {\n",
       "        vertical-align: top;\n",
       "    }\n",
       "\n",
       "    .dataframe thead th {\n",
       "        text-align: right;\n",
       "    }\n",
       "</style>\n",
       "<table border=\"1\" class=\"dataframe\">\n",
       "  <thead>\n",
       "    <tr style=\"text-align: right;\">\n",
       "      <th></th>\n",
       "      <th>Actor</th>\n",
       "      <th>Film</th>\n",
       "      <th>Year</th>\n",
       "      <th>Genre</th>\n",
       "      <th>BoxOffice(INR Crore)</th>\n",
       "      <th>IMDb</th>\n",
       "    </tr>\n",
       "  </thead>\n",
       "  <tbody>\n",
       "    <tr>\n",
       "      <th>0</th>\n",
       "      <td>Shah Rukh Khan</td>\n",
       "      <td>Pathaan</td>\n",
       "      <td>2023</td>\n",
       "      <td>Action</td>\n",
       "      <td>1050</td>\n",
       "      <td>7.2</td>\n",
       "    </tr>\n",
       "    <tr>\n",
       "      <th>1</th>\n",
       "      <td>Salman Khan</td>\n",
       "      <td>Tiger Zinda Hai</td>\n",
       "      <td>2017</td>\n",
       "      <td>Action</td>\n",
       "      <td>565</td>\n",
       "      <td>6.0</td>\n",
       "    </tr>\n",
       "    <tr>\n",
       "      <th>2</th>\n",
       "      <td>Aamir Khan</td>\n",
       "      <td>Dangal</td>\n",
       "      <td>2016</td>\n",
       "      <td>Biography</td>\n",
       "      <td>2024</td>\n",
       "      <td>8.4</td>\n",
       "    </tr>\n",
       "    <tr>\n",
       "      <th>3</th>\n",
       "      <td>Ranbir Kapoor</td>\n",
       "      <td>Brahmastra</td>\n",
       "      <td>2022</td>\n",
       "      <td>Fantasy</td>\n",
       "      <td>431</td>\n",
       "      <td>5.6</td>\n",
       "    </tr>\n",
       "    <tr>\n",
       "      <th>4</th>\n",
       "      <td>Ranveer Singh</td>\n",
       "      <td>Padmaavat</td>\n",
       "      <td>2018</td>\n",
       "      <td>Historical</td>\n",
       "      <td>585</td>\n",
       "      <td>7.0</td>\n",
       "    </tr>\n",
       "    <tr>\n",
       "      <th>5</th>\n",
       "      <td>Ayushmann Khurrana</td>\n",
       "      <td>Andhadhun</td>\n",
       "      <td>2018</td>\n",
       "      <td>Thriller</td>\n",
       "      <td>111</td>\n",
       "      <td>8.3</td>\n",
       "    </tr>\n",
       "    <tr>\n",
       "      <th>6</th>\n",
       "      <td>Rajkummar Rao</td>\n",
       "      <td>Stree</td>\n",
       "      <td>2018</td>\n",
       "      <td>Horror Comedy</td>\n",
       "      <td>180</td>\n",
       "      <td>7.5</td>\n",
       "    </tr>\n",
       "    <tr>\n",
       "      <th>7</th>\n",
       "      <td>Hrithik Roshan</td>\n",
       "      <td>War</td>\n",
       "      <td>2019</td>\n",
       "      <td>Action</td>\n",
       "      <td>475</td>\n",
       "      <td>6.5</td>\n",
       "    </tr>\n",
       "    <tr>\n",
       "      <th>8</th>\n",
       "      <td>Akshay Kumar</td>\n",
       "      <td>Good Newwz</td>\n",
       "      <td>2019</td>\n",
       "      <td>Comedy</td>\n",
       "      <td>318</td>\n",
       "      <td>7.0</td>\n",
       "    </tr>\n",
       "    <tr>\n",
       "      <th>9</th>\n",
       "      <td>Kartik Aaryan</td>\n",
       "      <td>Bhool Bhulaiyaa 2</td>\n",
       "      <td>2022</td>\n",
       "      <td>Horror Comedy</td>\n",
       "      <td>266</td>\n",
       "      <td>5.9</td>\n",
       "    </tr>\n",
       "    <tr>\n",
       "      <th>10</th>\n",
       "      <td>Varun Dhawan</td>\n",
       "      <td>Badrinath Ki Dulhania</td>\n",
       "      <td>2017</td>\n",
       "      <td>Romantic Comedy</td>\n",
       "      <td>201</td>\n",
       "      <td>6.1</td>\n",
       "    </tr>\n",
       "    <tr>\n",
       "      <th>11</th>\n",
       "      <td>Vicky Kaushal</td>\n",
       "      <td>Uri: The Surgical Strike</td>\n",
       "      <td>2019</td>\n",
       "      <td>Action</td>\n",
       "      <td>342</td>\n",
       "      <td>8.2</td>\n",
       "    </tr>\n",
       "  </tbody>\n",
       "</table>\n",
       "</div>"
      ],
      "text/plain": [
       "                 Actor                      Film  Year            Genre  \\\n",
       "0       Shah Rukh Khan                   Pathaan  2023           Action   \n",
       "1          Salman Khan           Tiger Zinda Hai  2017           Action   \n",
       "2           Aamir Khan                    Dangal  2016        Biography   \n",
       "3        Ranbir Kapoor                Brahmastra  2022          Fantasy   \n",
       "4        Ranveer Singh                 Padmaavat  2018       Historical   \n",
       "5   Ayushmann Khurrana                 Andhadhun  2018         Thriller   \n",
       "6        Rajkummar Rao                     Stree  2018    Horror Comedy   \n",
       "7       Hrithik Roshan                       War  2019           Action   \n",
       "8         Akshay Kumar                Good Newwz  2019           Comedy   \n",
       "9        Kartik Aaryan         Bhool Bhulaiyaa 2  2022    Horror Comedy   \n",
       "10        Varun Dhawan     Badrinath Ki Dulhania  2017  Romantic Comedy   \n",
       "11       Vicky Kaushal  Uri: The Surgical Strike  2019           Action   \n",
       "\n",
       "    BoxOffice(INR Crore)  IMDb  \n",
       "0                   1050   7.2  \n",
       "1                    565   6.0  \n",
       "2                   2024   8.4  \n",
       "3                    431   5.6  \n",
       "4                    585   7.0  \n",
       "5                    111   8.3  \n",
       "6                    180   7.5  \n",
       "7                    475   6.5  \n",
       "8                    318   7.0  \n",
       "9                    266   5.9  \n",
       "10                   201   6.1  \n",
       "11                   342   8.2  "
      ]
     },
     "execution_count": 4,
     "metadata": {},
     "output_type": "execute_result"
    }
   ],
   "source": [
    "df"
   ]
  },
  {
   "cell_type": "code",
   "execution_count": 5,
   "id": "5a406b07-44db-4222-af85-398c39529af2",
   "metadata": {},
   "outputs": [
    {
     "data": {
      "text/plain": [
       "0         Shah Rukh Khan\n",
       "1            Salman Khan\n",
       "2             Aamir Khan\n",
       "3          Ranbir Kapoor\n",
       "4          Ranveer Singh\n",
       "5     Ayushmann Khurrana\n",
       "6          Rajkummar Rao\n",
       "7         Hrithik Roshan\n",
       "8           Akshay Kumar\n",
       "9          Kartik Aaryan\n",
       "10          Varun Dhawan\n",
       "11         Vicky Kaushal\n",
       "Name: Actor, dtype: object"
      ]
     },
     "execution_count": 5,
     "metadata": {},
     "output_type": "execute_result"
    }
   ],
   "source": [
    "df[\"Actor\"]"
   ]
  },
  {
   "cell_type": "code",
   "execution_count": 6,
   "id": "20fa6d0a-d64b-44a7-8926-5cb748908b54",
   "metadata": {},
   "outputs": [
    {
     "data": {
      "text/plain": [
       "'Shah Rukh Khan'"
      ]
     },
     "execution_count": 6,
     "metadata": {},
     "output_type": "execute_result"
    }
   ],
   "source": [
    "df[\"Actor\"][0]"
   ]
  },
  {
   "cell_type": "code",
   "execution_count": 7,
   "id": "759c8df1-48bf-4367-adcf-8f9c2ed53a24",
   "metadata": {},
   "outputs": [
    {
     "data": {
      "text/plain": [
       "pandas.core.series.Series"
      ]
     },
     "execution_count": 7,
     "metadata": {},
     "output_type": "execute_result"
    }
   ],
   "source": [
    "type(df[\"Actor\"])"
   ]
  },
  {
   "cell_type": "code",
   "execution_count": 8,
   "id": "3d1a1c35-36be-44e7-8864-145149985e30",
   "metadata": {},
   "outputs": [
    {
     "data": {
      "text/html": [
       "<div>\n",
       "<style scoped>\n",
       "    .dataframe tbody tr th:only-of-type {\n",
       "        vertical-align: middle;\n",
       "    }\n",
       "\n",
       "    .dataframe tbody tr th {\n",
       "        vertical-align: top;\n",
       "    }\n",
       "\n",
       "    .dataframe thead th {\n",
       "        text-align: right;\n",
       "    }\n",
       "</style>\n",
       "<table border=\"1\" class=\"dataframe\">\n",
       "  <thead>\n",
       "    <tr style=\"text-align: right;\">\n",
       "      <th></th>\n",
       "      <th>Actor</th>\n",
       "      <th>IMDb</th>\n",
       "    </tr>\n",
       "  </thead>\n",
       "  <tbody>\n",
       "    <tr>\n",
       "      <th>0</th>\n",
       "      <td>Shah Rukh Khan</td>\n",
       "      <td>7.2</td>\n",
       "    </tr>\n",
       "    <tr>\n",
       "      <th>1</th>\n",
       "      <td>Salman Khan</td>\n",
       "      <td>6.0</td>\n",
       "    </tr>\n",
       "    <tr>\n",
       "      <th>2</th>\n",
       "      <td>Aamir Khan</td>\n",
       "      <td>8.4</td>\n",
       "    </tr>\n",
       "    <tr>\n",
       "      <th>3</th>\n",
       "      <td>Ranbir Kapoor</td>\n",
       "      <td>5.6</td>\n",
       "    </tr>\n",
       "    <tr>\n",
       "      <th>4</th>\n",
       "      <td>Ranveer Singh</td>\n",
       "      <td>7.0</td>\n",
       "    </tr>\n",
       "    <tr>\n",
       "      <th>5</th>\n",
       "      <td>Ayushmann Khurrana</td>\n",
       "      <td>8.3</td>\n",
       "    </tr>\n",
       "    <tr>\n",
       "      <th>6</th>\n",
       "      <td>Rajkummar Rao</td>\n",
       "      <td>7.5</td>\n",
       "    </tr>\n",
       "    <tr>\n",
       "      <th>7</th>\n",
       "      <td>Hrithik Roshan</td>\n",
       "      <td>6.5</td>\n",
       "    </tr>\n",
       "    <tr>\n",
       "      <th>8</th>\n",
       "      <td>Akshay Kumar</td>\n",
       "      <td>7.0</td>\n",
       "    </tr>\n",
       "    <tr>\n",
       "      <th>9</th>\n",
       "      <td>Kartik Aaryan</td>\n",
       "      <td>5.9</td>\n",
       "    </tr>\n",
       "    <tr>\n",
       "      <th>10</th>\n",
       "      <td>Varun Dhawan</td>\n",
       "      <td>6.1</td>\n",
       "    </tr>\n",
       "    <tr>\n",
       "      <th>11</th>\n",
       "      <td>Vicky Kaushal</td>\n",
       "      <td>8.2</td>\n",
       "    </tr>\n",
       "  </tbody>\n",
       "</table>\n",
       "</div>"
      ],
      "text/plain": [
       "                 Actor  IMDb\n",
       "0       Shah Rukh Khan   7.2\n",
       "1          Salman Khan   6.0\n",
       "2           Aamir Khan   8.4\n",
       "3        Ranbir Kapoor   5.6\n",
       "4        Ranveer Singh   7.0\n",
       "5   Ayushmann Khurrana   8.3\n",
       "6        Rajkummar Rao   7.5\n",
       "7       Hrithik Roshan   6.5\n",
       "8         Akshay Kumar   7.0\n",
       "9        Kartik Aaryan   5.9\n",
       "10        Varun Dhawan   6.1\n",
       "11       Vicky Kaushal   8.2"
      ]
     },
     "execution_count": 8,
     "metadata": {},
     "output_type": "execute_result"
    }
   ],
   "source": [
    "df[[\"Actor\", \"IMDb\"]]"
   ]
  },
  {
   "cell_type": "code",
   "execution_count": 9,
   "id": "de8b7d39-8a6b-40af-8b22-7b24ce1b36e3",
   "metadata": {},
   "outputs": [
    {
     "data": {
      "text/plain": [
       "Actor                       Salman Khan\n",
       "Film                    Tiger Zinda Hai\n",
       "Year                               2017\n",
       "Genre                            Action\n",
       "BoxOffice(INR Crore)                565\n",
       "IMDb                                6.0\n",
       "Name: 1, dtype: object"
      ]
     },
     "execution_count": 9,
     "metadata": {},
     "output_type": "execute_result"
    }
   ],
   "source": [
    "df.loc[1]        # Shows result by the label name. If the label name were with a, b, c.... then we would use a, b, c....."
   ]
  },
  {
   "cell_type": "code",
   "execution_count": 10,
   "id": "64466b98-bbf9-4abd-89b4-98ddbf808594",
   "metadata": {},
   "outputs": [
    {
     "data": {
      "text/plain": [
       "Actor                       Salman Khan\n",
       "Film                    Tiger Zinda Hai\n",
       "Year                               2017\n",
       "Genre                            Action\n",
       "BoxOffice(INR Crore)                565\n",
       "IMDb                                6.0\n",
       "Name: 1, dtype: object"
      ]
     },
     "execution_count": 10,
     "metadata": {},
     "output_type": "execute_result"
    }
   ],
   "source": [
    "df.iloc[1]       # Shows result by the row number"
   ]
  },
  {
   "cell_type": "code",
   "execution_count": 11,
   "id": "0d6200f5-85c5-4cf5-8f6e-cdfd2e09daf3",
   "metadata": {},
   "outputs": [
    {
     "data": {
      "text/plain": [
       "7.0"
      ]
     },
     "execution_count": 11,
     "metadata": {},
     "output_type": "execute_result"
    }
   ],
   "source": [
    "df.loc[8, 'IMDb']       # for getting specific infor of that pertucular row column"
   ]
  },
  {
   "cell_type": "code",
   "execution_count": 12,
   "id": "da49b400-b1e8-43d8-9968-6ad770e361e9",
   "metadata": {},
   "outputs": [
    {
     "data": {
      "text/plain": [
       "Actor                   Akshay Kumar\n",
       "Film                      Good Newwz\n",
       "Year                            2019\n",
       "Genre                         Comedy\n",
       "BoxOffice(INR Crore)             318\n",
       "IMDb                             7.0\n",
       "Name: 8, dtype: object"
      ]
     },
     "execution_count": 12,
     "metadata": {},
     "output_type": "execute_result"
    }
   ],
   "source": [
    "df.iloc[8]              # for getting all the informationons of row 8"
   ]
  },
  {
   "cell_type": "code",
   "execution_count": 13,
   "id": "a3f34de0-227f-48a3-896d-0196cbd55894",
   "metadata": {},
   "outputs": [
    {
     "data": {
      "text/plain": [
       "7.0"
      ]
     },
     "execution_count": 13,
     "metadata": {},
     "output_type": "execute_result"
    }
   ],
   "source": [
    "df.iloc[8, 5]          # 8 is the index of row and 5 is the index of column"
   ]
  },
  {
   "cell_type": "code",
   "execution_count": 14,
   "id": "4c47a0cd-a5a8-41aa-8513-e6d0488bd9a2",
   "metadata": {},
   "outputs": [
    {
     "data": {
      "text/html": [
       "<div>\n",
       "<style scoped>\n",
       "    .dataframe tbody tr th:only-of-type {\n",
       "        vertical-align: middle;\n",
       "    }\n",
       "\n",
       "    .dataframe tbody tr th {\n",
       "        vertical-align: top;\n",
       "    }\n",
       "\n",
       "    .dataframe thead th {\n",
       "        text-align: right;\n",
       "    }\n",
       "</style>\n",
       "<table border=\"1\" class=\"dataframe\">\n",
       "  <thead>\n",
       "    <tr style=\"text-align: right;\">\n",
       "      <th></th>\n",
       "      <th>Actor</th>\n",
       "      <th>Film</th>\n",
       "      <th>IMDb</th>\n",
       "    </tr>\n",
       "  </thead>\n",
       "  <tbody>\n",
       "    <tr>\n",
       "      <th>0</th>\n",
       "      <td>Shah Rukh Khan</td>\n",
       "      <td>Pathaan</td>\n",
       "      <td>7.2</td>\n",
       "    </tr>\n",
       "    <tr>\n",
       "      <th>1</th>\n",
       "      <td>Salman Khan</td>\n",
       "      <td>Tiger Zinda Hai</td>\n",
       "      <td>6.0</td>\n",
       "    </tr>\n",
       "    <tr>\n",
       "      <th>2</th>\n",
       "      <td>Aamir Khan</td>\n",
       "      <td>Dangal</td>\n",
       "      <td>8.4</td>\n",
       "    </tr>\n",
       "  </tbody>\n",
       "</table>\n",
       "</div>"
      ],
      "text/plain": [
       "            Actor             Film  IMDb\n",
       "0  Shah Rukh Khan          Pathaan   7.2\n",
       "1     Salman Khan  Tiger Zinda Hai   6.0\n",
       "2      Aamir Khan           Dangal   8.4"
      ]
     },
     "execution_count": 14,
     "metadata": {},
     "output_type": "execute_result"
    }
   ],
   "source": [
    "df.loc[:2, [\"Actor\", \"Film\", \"IMDb\"]]"
   ]
  },
  {
   "cell_type": "code",
   "execution_count": 15,
   "id": "4d4a18a4-bfa8-4239-b4e2-25df68e6b0ec",
   "metadata": {},
   "outputs": [
    {
     "data": {
      "text/plain": [
       "'Shah Rukh Khan'"
      ]
     },
     "execution_count": 15,
     "metadata": {},
     "output_type": "execute_result"
    }
   ],
   "source": [
    "df.at[0, \"Actor\"]"
   ]
  },
  {
   "cell_type": "code",
   "execution_count": 16,
   "id": "1d1a5ea7-fb15-4ac3-aca2-7938f993b25d",
   "metadata": {},
   "outputs": [
    {
     "data": {
      "text/plain": [
       "'Shah Rukh Khan'"
      ]
     },
     "execution_count": 16,
     "metadata": {},
     "output_type": "execute_result"
    }
   ],
   "source": [
    "df.iat[0, 0]"
   ]
  },
  {
   "cell_type": "code",
   "execution_count": 17,
   "id": "d3f2cf9f-fd03-48ce-ad7b-3dcd3274b59c",
   "metadata": {},
   "outputs": [
    {
     "data": {
      "text/html": [
       "<div>\n",
       "<style scoped>\n",
       "    .dataframe tbody tr th:only-of-type {\n",
       "        vertical-align: middle;\n",
       "    }\n",
       "\n",
       "    .dataframe tbody tr th {\n",
       "        vertical-align: top;\n",
       "    }\n",
       "\n",
       "    .dataframe thead th {\n",
       "        text-align: right;\n",
       "    }\n",
       "</style>\n",
       "<table border=\"1\" class=\"dataframe\">\n",
       "  <thead>\n",
       "    <tr style=\"text-align: right;\">\n",
       "      <th></th>\n",
       "      <th>Actor</th>\n",
       "      <th>Film</th>\n",
       "      <th>Year</th>\n",
       "      <th>Genre</th>\n",
       "      <th>BoxOffice(INR Crore)</th>\n",
       "      <th>IMDb</th>\n",
       "    </tr>\n",
       "  </thead>\n",
       "  <tbody>\n",
       "    <tr>\n",
       "      <th>0</th>\n",
       "      <td>Shah Rukh Khan</td>\n",
       "      <td>Pathaan</td>\n",
       "      <td>2023</td>\n",
       "      <td>Action</td>\n",
       "      <td>1050</td>\n",
       "      <td>7.2</td>\n",
       "    </tr>\n",
       "    <tr>\n",
       "      <th>2</th>\n",
       "      <td>Aamir Khan</td>\n",
       "      <td>Dangal</td>\n",
       "      <td>2016</td>\n",
       "      <td>Biography</td>\n",
       "      <td>2024</td>\n",
       "      <td>8.4</td>\n",
       "    </tr>\n",
       "    <tr>\n",
       "      <th>5</th>\n",
       "      <td>Ayushmann Khurrana</td>\n",
       "      <td>Andhadhun</td>\n",
       "      <td>2018</td>\n",
       "      <td>Thriller</td>\n",
       "      <td>111</td>\n",
       "      <td>8.3</td>\n",
       "    </tr>\n",
       "    <tr>\n",
       "      <th>6</th>\n",
       "      <td>Rajkummar Rao</td>\n",
       "      <td>Stree</td>\n",
       "      <td>2018</td>\n",
       "      <td>Horror Comedy</td>\n",
       "      <td>180</td>\n",
       "      <td>7.5</td>\n",
       "    </tr>\n",
       "    <tr>\n",
       "      <th>11</th>\n",
       "      <td>Vicky Kaushal</td>\n",
       "      <td>Uri: The Surgical Strike</td>\n",
       "      <td>2019</td>\n",
       "      <td>Action</td>\n",
       "      <td>342</td>\n",
       "      <td>8.2</td>\n",
       "    </tr>\n",
       "  </tbody>\n",
       "</table>\n",
       "</div>"
      ],
      "text/plain": [
       "                 Actor                      Film  Year          Genre  \\\n",
       "0       Shah Rukh Khan                   Pathaan  2023         Action   \n",
       "2           Aamir Khan                    Dangal  2016      Biography   \n",
       "5   Ayushmann Khurrana                 Andhadhun  2018       Thriller   \n",
       "6        Rajkummar Rao                     Stree  2018  Horror Comedy   \n",
       "11       Vicky Kaushal  Uri: The Surgical Strike  2019         Action   \n",
       "\n",
       "    BoxOffice(INR Crore)  IMDb  \n",
       "0                   1050   7.2  \n",
       "2                   2024   8.4  \n",
       "5                    111   8.3  \n",
       "6                    180   7.5  \n",
       "11                   342   8.2  "
      ]
     },
     "execution_count": 17,
     "metadata": {},
     "output_type": "execute_result"
    }
   ],
   "source": [
    "df[df[\"IMDb\"] > 7]"
   ]
  },
  {
   "cell_type": "code",
   "execution_count": 18,
   "id": "184a2d35-493e-44a4-be38-15b7c0d4a812",
   "metadata": {},
   "outputs": [
    {
     "data": {
      "text/plain": [
       "0         Shah Rukh Khan\n",
       "2             Aamir Khan\n",
       "5     Ayushmann Khurrana\n",
       "6          Rajkummar Rao\n",
       "11         Vicky Kaushal\n",
       "Name: Actor, dtype: object"
      ]
     },
     "execution_count": 18,
     "metadata": {},
     "output_type": "execute_result"
    }
   ],
   "source": [
    "df[df[\"IMDb\"] > 7][\"Actor\"]"
   ]
  },
  {
   "cell_type": "code",
   "execution_count": 19,
   "id": "0cc4087b-f48a-4e8a-8735-7358227b8e00",
   "metadata": {},
   "outputs": [
    {
     "data": {
      "text/html": [
       "<div>\n",
       "<style scoped>\n",
       "    .dataframe tbody tr th:only-of-type {\n",
       "        vertical-align: middle;\n",
       "    }\n",
       "\n",
       "    .dataframe tbody tr th {\n",
       "        vertical-align: top;\n",
       "    }\n",
       "\n",
       "    .dataframe thead th {\n",
       "        text-align: right;\n",
       "    }\n",
       "</style>\n",
       "<table border=\"1\" class=\"dataframe\">\n",
       "  <thead>\n",
       "    <tr style=\"text-align: right;\">\n",
       "      <th></th>\n",
       "      <th>Actor</th>\n",
       "      <th>Film</th>\n",
       "      <th>Year</th>\n",
       "      <th>Genre</th>\n",
       "      <th>BoxOffice(INR Crore)</th>\n",
       "      <th>IMDb</th>\n",
       "    </tr>\n",
       "  </thead>\n",
       "  <tbody>\n",
       "    <tr>\n",
       "      <th>0</th>\n",
       "      <td>Shah Rukh Khan</td>\n",
       "      <td>Pathaan</td>\n",
       "      <td>2023</td>\n",
       "      <td>Action</td>\n",
       "      <td>1050</td>\n",
       "      <td>7.2</td>\n",
       "    </tr>\n",
       "    <tr>\n",
       "      <th>11</th>\n",
       "      <td>Vicky Kaushal</td>\n",
       "      <td>Uri: The Surgical Strike</td>\n",
       "      <td>2019</td>\n",
       "      <td>Action</td>\n",
       "      <td>342</td>\n",
       "      <td>8.2</td>\n",
       "    </tr>\n",
       "  </tbody>\n",
       "</table>\n",
       "</div>"
      ],
      "text/plain": [
       "             Actor                      Film  Year   Genre  \\\n",
       "0   Shah Rukh Khan                   Pathaan  2023  Action   \n",
       "11   Vicky Kaushal  Uri: The Surgical Strike  2019  Action   \n",
       "\n",
       "    BoxOffice(INR Crore)  IMDb  \n",
       "0                   1050   7.2  \n",
       "11                   342   8.2  "
      ]
     },
     "execution_count": 19,
     "metadata": {},
     "output_type": "execute_result"
    }
   ],
   "source": [
    "df[(df[\"IMDb\"] > 7) & (df[\"Year\"] > 2018)]"
   ]
  },
  {
   "cell_type": "code",
   "execution_count": 20,
   "id": "70fa27d8-821b-4546-bc64-4c684055e884",
   "metadata": {},
   "outputs": [
    {
     "data": {
      "text/html": [
       "<div>\n",
       "<style scoped>\n",
       "    .dataframe tbody tr th:only-of-type {\n",
       "        vertical-align: middle;\n",
       "    }\n",
       "\n",
       "    .dataframe tbody tr th {\n",
       "        vertical-align: top;\n",
       "    }\n",
       "\n",
       "    .dataframe thead th {\n",
       "        text-align: right;\n",
       "    }\n",
       "</style>\n",
       "<table border=\"1\" class=\"dataframe\">\n",
       "  <thead>\n",
       "    <tr style=\"text-align: right;\">\n",
       "      <th></th>\n",
       "      <th>Actor</th>\n",
       "      <th>Film</th>\n",
       "      <th>Year</th>\n",
       "      <th>Genre</th>\n",
       "      <th>BoxOffice(INR Crore)</th>\n",
       "      <th>IMDb</th>\n",
       "    </tr>\n",
       "  </thead>\n",
       "  <tbody>\n",
       "    <tr>\n",
       "      <th>0</th>\n",
       "      <td>Shah Rukh Khan</td>\n",
       "      <td>Pathaan</td>\n",
       "      <td>2023</td>\n",
       "      <td>Action</td>\n",
       "      <td>1050</td>\n",
       "      <td>7.2</td>\n",
       "    </tr>\n",
       "    <tr>\n",
       "      <th>11</th>\n",
       "      <td>Vicky Kaushal</td>\n",
       "      <td>Uri: The Surgical Strike</td>\n",
       "      <td>2019</td>\n",
       "      <td>Action</td>\n",
       "      <td>342</td>\n",
       "      <td>8.2</td>\n",
       "    </tr>\n",
       "  </tbody>\n",
       "</table>\n",
       "</div>"
      ],
      "text/plain": [
       "             Actor                      Film  Year   Genre  \\\n",
       "0   Shah Rukh Khan                   Pathaan  2023  Action   \n",
       "11   Vicky Kaushal  Uri: The Surgical Strike  2019  Action   \n",
       "\n",
       "    BoxOffice(INR Crore)  IMDb  \n",
       "0                   1050   7.2  \n",
       "11                   342   8.2  "
      ]
     },
     "execution_count": 20,
     "metadata": {},
     "output_type": "execute_result"
    }
   ],
   "source": [
    "df.query(\"Year > 2018 and IMDb > 7\")"
   ]
  },
  {
   "cell_type": "code",
   "execution_count": null,
   "id": "8026d9db-6685-4caf-bbd3-4de6b280cbd0",
   "metadata": {},
   "outputs": [],
   "source": []
  }
 ],
 "metadata": {
  "kernelspec": {
   "display_name": "Python [conda env:base] *",
   "language": "python",
   "name": "conda-base-py"
  },
  "language_info": {
   "codemirror_mode": {
    "name": "ipython",
    "version": 3
   },
   "file_extension": ".py",
   "mimetype": "text/x-python",
   "name": "python",
   "nbconvert_exporter": "python",
   "pygments_lexer": "ipython3",
   "version": "3.12.7"
  }
 },
 "nbformat": 4,
 "nbformat_minor": 5
}
