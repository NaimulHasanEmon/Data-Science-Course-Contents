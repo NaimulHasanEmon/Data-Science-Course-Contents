import json


def load_file(loadfile):
    with open(loadfile, 'r') as f:
        data = json.load(f)
    return data


data = load_file("massive_data.json")


# Function to find pages a user might like based on common interest
def pages_you_might_like(user_id, data):
    # Dictionary to store user interactions with pages
    user_pages = {}

    # Populate the dictonary
    for user in data["users"]:
        user_pages[user["id"]] = set(user["liked_pages"])
    # print(user_pages)

    # If the user is not found, return an empty list
    if user_id not in user_pages:
        return []

    user_liked_pages = user_pages[user_id]
    page_suggestions = {}

    for other_user, pages in user_pages.items():
        if other_user != user_id:
            shared_pages = user_liked_pages.intersection(pages)

        for page in pages:
            if page not in user_liked_pages:
                page_suggestions[page] = page_suggestions.get(page, 0) + len(shared_pages)

    sorted_pages = sorted(page_suggestions.items(), key=lambda x:x[1], reverse=True)
    return [(page_id, score) for page_id, score in sorted_pages]


user_id = 1
pages_you_might_like(user_id, data)
