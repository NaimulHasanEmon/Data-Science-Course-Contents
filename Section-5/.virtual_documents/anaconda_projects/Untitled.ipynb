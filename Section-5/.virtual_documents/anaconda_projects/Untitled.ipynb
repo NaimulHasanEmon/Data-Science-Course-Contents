import numpy as np


arr = np.array([1, 2, 3])
arr


zeroArr = np.zeros((3, 4))
zeroArr


onesArr = np.ones((3, 4))
onesArr



