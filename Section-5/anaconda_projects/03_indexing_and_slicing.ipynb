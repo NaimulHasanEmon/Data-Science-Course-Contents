{
 "cells": [
  {
   "cell_type": "code",
   "execution_count": 1,
   "id": "33efd1f4-4f5c-4d1f-822d-1e25e7e6cf1b",
   "metadata": {},
   "outputs": [],
   "source": [
    "import numpy as np"
   ]
  },
  {
   "cell_type": "code",
   "execution_count": 2,
   "id": "34d6c09d-39a2-4b7c-b118-ec999ee7fe6e",
   "metadata": {},
   "outputs": [
    {
     "data": {
      "text/plain": [
       "array([[ 1,  2,  3],\n",
       "       [ 4,  5,  6],\n",
       "       [ 7,  8,  9],\n",
       "       [10, 11, 12]])"
      ]
     },
     "execution_count": 2,
     "metadata": {},
     "output_type": "execute_result"
    }
   ],
   "source": [
    "arr = np.array([[1, 2, 3], [4, 5, 6], [7, 8, 9], [10, 11, 12]])\n",
    "arr"
   ]
  },
  {
   "cell_type": "code",
   "execution_count": 3,
   "id": "4e88c26b-f407-4f00-a727-69525f4f195a",
   "metadata": {},
   "outputs": [
    {
     "data": {
      "text/plain": [
       "array([ 1,  2,  3,  4,  5,  6,  7,  8,  9, 10, 11, 12])"
      ]
     },
     "execution_count": 3,
     "metadata": {},
     "output_type": "execute_result"
    }
   ],
   "source": [
    "flat = arr.flatten()\n",
    "flat"
   ]
  },
  {
   "cell_type": "code",
   "execution_count": 4,
   "id": "9b65c56e-0c1b-4b6e-a02b-b3c00b66f047",
   "metadata": {},
   "outputs": [
    {
     "data": {
      "text/plain": [
       "1"
      ]
     },
     "execution_count": 4,
     "metadata": {},
     "output_type": "execute_result"
    }
   ],
   "source": [
    "flat[0]"
   ]
  },
  {
   "cell_type": "code",
   "execution_count": 5,
   "id": "01c4446e-e084-4761-a8b0-620638476368",
   "metadata": {},
   "outputs": [
    {
     "data": {
      "text/plain": [
       "6"
      ]
     },
     "execution_count": 5,
     "metadata": {},
     "output_type": "execute_result"
    }
   ],
   "source": [
    "flat[5]"
   ]
  },
  {
   "cell_type": "code",
   "execution_count": 6,
   "id": "b6d2c56f-0507-416e-9e4e-5b30abe4d8ce",
   "metadata": {},
   "outputs": [
    {
     "data": {
      "text/plain": [
       "array([4, 5, 6])"
      ]
     },
     "execution_count": 6,
     "metadata": {},
     "output_type": "execute_result"
    }
   ],
   "source": [
    "flat[3:6]"
   ]
  },
  {
   "cell_type": "code",
   "execution_count": 7,
   "id": "35c8ed70-6d45-410f-90a3-b60f4b11e100",
   "metadata": {},
   "outputs": [
    {
     "data": {
      "text/plain": [
       "array([1, 2, 3, 4, 5])"
      ]
     },
     "execution_count": 7,
     "metadata": {},
     "output_type": "execute_result"
    }
   ],
   "source": [
    "flat[:5]"
   ]
  },
  {
   "cell_type": "code",
   "execution_count": 8,
   "id": "ac660f9a-0319-41a7-b2e0-74af5c1c16fe",
   "metadata": {},
   "outputs": [
    {
     "data": {
      "text/plain": [
       "array([ 5,  6,  7,  8,  9, 10, 11, 12])"
      ]
     },
     "execution_count": 8,
     "metadata": {},
     "output_type": "execute_result"
    }
   ],
   "source": [
    "flat[4:]"
   ]
  },
  {
   "cell_type": "code",
   "execution_count": 9,
   "id": "8bf1466b-891e-461c-a2e9-78016331881b",
   "metadata": {},
   "outputs": [
    {
     "data": {
      "text/plain": [
       "array([ 1,  3,  5,  7,  9, 11])"
      ]
     },
     "execution_count": 9,
     "metadata": {},
     "output_type": "execute_result"
    }
   ],
   "source": [
    "flat[::2]       # Every second (2nd) element"
   ]
  },
  {
   "cell_type": "code",
   "execution_count": 20,
   "id": "748282d3-4bde-4435-96e1-f9c9291a3521",
   "metadata": {},
   "outputs": [
    {
     "data": {
      "text/plain": [
       "array([ 1,  2,  3,  4,  5,  6,  7,  8,  9, 10, 11, 12])"
      ]
     },
     "execution_count": 20,
     "metadata": {},
     "output_type": "execute_result"
    }
   ],
   "source": [
    "flat"
   ]
  },
  {
   "cell_type": "code",
   "execution_count": 22,
   "id": "7ce31f76-ffce-4e09-b573-b80b32bb0268",
   "metadata": {},
   "outputs": [],
   "source": [
    "b = flat[3: 7]"
   ]
  },
  {
   "cell_type": "code",
   "execution_count": 24,
   "id": "26f65861-3dc3-4ac3-adf1-ffac5ce1dc03",
   "metadata": {},
   "outputs": [
    {
     "data": {
      "text/plain": [
       "array([4, 5, 6, 7])"
      ]
     },
     "execution_count": 24,
     "metadata": {},
     "output_type": "execute_result"
    }
   ],
   "source": [
    "b"
   ]
  },
  {
   "cell_type": "code",
   "execution_count": 26,
   "id": "bba72aca-d7f2-4012-854d-2468ab8fe01c",
   "metadata": {},
   "outputs": [
    {
     "data": {
      "text/plain": [
       "4"
      ]
     },
     "execution_count": 26,
     "metadata": {},
     "output_type": "execute_result"
    }
   ],
   "source": [
    "b[0]"
   ]
  },
  {
   "cell_type": "code",
   "execution_count": 28,
   "id": "964fb18a-a614-4779-a818-980c662449b2",
   "metadata": {},
   "outputs": [],
   "source": [
    "b[0] = 4444"
   ]
  },
  {
   "cell_type": "code",
   "execution_count": 30,
   "id": "164fd2c6-7e69-43a2-bc82-0b98b6b67bb0",
   "metadata": {},
   "outputs": [
    {
     "data": {
      "text/plain": [
       "array([4444,    5,    6,    7])"
      ]
     },
     "execution_count": 30,
     "metadata": {},
     "output_type": "execute_result"
    }
   ],
   "source": [
    "b"
   ]
  },
  {
   "cell_type": "code",
   "execution_count": 32,
   "id": "45ad193e-8e46-4d22-a2c1-8e40396ff1e0",
   "metadata": {},
   "outputs": [
    {
     "data": {
      "text/plain": [
       "array([   1,    2,    3, 4444,    5,    6,    7,    8,    9,   10,   11,\n",
       "         12])"
      ]
     },
     "execution_count": 32,
     "metadata": {},
     "output_type": "execute_result"
    }
   ],
   "source": [
    "flat"
   ]
  },
  {
   "cell_type": "code",
   "execution_count": 34,
   "id": "191cc4eb-0b43-4940-a78e-c5eef24d2d7d",
   "metadata": {},
   "outputs": [],
   "source": [
    "c = flat[0:5].copy()"
   ]
  },
  {
   "cell_type": "code",
   "execution_count": 36,
   "id": "8542c392-5078-4a0b-bbf7-a4d055b03b77",
   "metadata": {},
   "outputs": [
    {
     "data": {
      "text/plain": [
       "array([   1,    2,    3, 4444,    5])"
      ]
     },
     "execution_count": 36,
     "metadata": {},
     "output_type": "execute_result"
    }
   ],
   "source": [
    "c"
   ]
  },
  {
   "cell_type": "code",
   "execution_count": 38,
   "id": "1f1cebee-dfee-4a30-8be3-0c4324b42f09",
   "metadata": {},
   "outputs": [],
   "source": [
    "c[0] = 333"
   ]
  },
  {
   "cell_type": "code",
   "execution_count": 40,
   "id": "9cddedf3-3bb9-46f0-9984-5c4975c5a2d1",
   "metadata": {},
   "outputs": [
    {
     "data": {
      "text/plain": [
       "array([ 333,    2,    3, 4444,    5])"
      ]
     },
     "execution_count": 40,
     "metadata": {},
     "output_type": "execute_result"
    }
   ],
   "source": [
    "c"
   ]
  },
  {
   "cell_type": "code",
   "execution_count": 42,
   "id": "d102b4db-e144-4d94-891c-3a135562b4fb",
   "metadata": {},
   "outputs": [
    {
     "data": {
      "text/plain": [
       "array([   1,    2,    3, 4444,    5,    6,    7,    8,    9,   10,   11,\n",
       "         12])"
      ]
     },
     "execution_count": 42,
     "metadata": {},
     "output_type": "execute_result"
    }
   ],
   "source": [
    "flat"
   ]
  },
  {
   "cell_type": "code",
   "execution_count": 46,
   "id": "3ee23512-2d74-44dc-8693-712f7f965a20",
   "metadata": {},
   "outputs": [],
   "source": [
    "arr = np.array([1, 43, 45, 34, 67, 28, 12])"
   ]
  },
  {
   "cell_type": "code",
   "execution_count": 52,
   "id": "bf2cbaa3-bea1-48fb-a515-2d5770084429",
   "metadata": {},
   "outputs": [
    {
     "data": {
      "text/plain": [
       "array([43, 67, 28])"
      ]
     },
     "execution_count": 52,
     "metadata": {},
     "output_type": "execute_result"
    }
   ],
   "source": [
    "# Fancy Indexing\n",
    "\n",
    "arr[[1, 4, 5]]     # Will return the elements of these index"
   ]
  },
  {
   "cell_type": "code",
   "execution_count": 54,
   "id": "8400e23e-f651-41ce-a301-e9786fc33f0d",
   "metadata": {},
   "outputs": [
    {
     "data": {
      "text/plain": [
       "array([43, 45, 34, 67, 28, 12])"
      ]
     },
     "execution_count": 54,
     "metadata": {},
     "output_type": "execute_result"
    }
   ],
   "source": [
    "# Boolean Masking\n",
    "\n",
    "arr[arr > 3]        # Will return the elements that are greater than 3"
   ]
  },
  {
   "cell_type": "code",
   "execution_count": 94,
   "id": "10fd69f6-63ab-47d2-a4c1-399e4b487322",
   "metadata": {},
   "outputs": [
    {
     "data": {
      "text/plain": [
       "array([[6, 5, 7],\n",
       "       [6, 7, 6],\n",
       "       [1, 7, 2]])"
      ]
     },
     "execution_count": 94,
     "metadata": {},
     "output_type": "execute_result"
    }
   ],
   "source": [
    "newArr = np.random.randint(0, 10, size=(3, 3))\n",
    "newArr"
   ]
  },
  {
   "cell_type": "code",
   "execution_count": 96,
   "id": "9f85b825-07f2-4d72-9441-c3735fc75380",
   "metadata": {},
   "outputs": [
    {
     "data": {
      "text/plain": [
       "(3, 3)"
      ]
     },
     "execution_count": 96,
     "metadata": {},
     "output_type": "execute_result"
    }
   ],
   "source": [
    "newArr.shape"
   ]
  },
  {
   "cell_type": "code",
   "execution_count": 100,
   "id": "8d053e54-fc57-4f14-98bd-53053b68011c",
   "metadata": {},
   "outputs": [
    {
     "data": {
      "text/plain": [
       "array([1, 2, 3])"
      ]
     },
     "execution_count": 100,
     "metadata": {},
     "output_type": "execute_result"
    }
   ],
   "source": [
    "floarArr = np.array([1.1, 2.2, 3.3], dtype='int32')\n",
    "floarArr"
   ]
  },
  {
   "cell_type": "code",
   "execution_count": 110,
   "id": "899a9981-0d20-4e48-a26b-6beaf8e339b1",
   "metadata": {},
   "outputs": [
    {
     "data": {
      "text/plain": [
       "array([2, 4, 6])"
      ]
     },
     "execution_count": 110,
     "metadata": {},
     "output_type": "execute_result"
    }
   ],
   "source": [
    "arr = np.array([1, 2, 3, 4, 5, 6])\n",
    "arr[arr % 2 == 0]"
   ]
  },
  {
   "cell_type": "code",
   "execution_count": 112,
   "id": "fbcdedd7-2837-458d-a3f7-b499c1852307",
   "metadata": {},
   "outputs": [],
   "source": [
    "demo = np.array([1, 2, 3, 4, 5, 6, 7, 8, 9])"
   ]
  },
  {
   "cell_type": "code",
   "execution_count": 116,
   "id": "83be557b-9d8d-491a-b494-78df6b8eeae9",
   "metadata": {},
   "outputs": [
    {
     "data": {
      "text/plain": [
       "array([[1, 2, 3],\n",
       "       [4, 5, 6],\n",
       "       [7, 8, 9]])"
      ]
     },
     "execution_count": 116,
     "metadata": {},
     "output_type": "execute_result"
    }
   ],
   "source": [
    "demo.reshape(3, 3)"
   ]
  },
  {
   "cell_type": "code",
   "execution_count": 120,
   "id": "ab3cbb78-2cf3-4c2d-ba2d-bd6ab06b17c1",
   "metadata": {},
   "outputs": [
    {
     "data": {
      "text/plain": [
       "array([[47, 68, 17, 62, 29, 17, 37, 38, 38, 70, 75, 76, 85, 30, 32, 45,\n",
       "        92, 49, 55, 72, 93, 70, 37, 23, 51, 33, 74, 37, 97, 84, 81, 93,\n",
       "        89, 34, 43, 35,  5, 69, 77, 69, 17, 71, 74, 56, 24, 46,  5, 86,\n",
       "        60, 79]])"
      ]
     },
     "execution_count": 120,
     "metadata": {},
     "output_type": "execute_result"
    }
   ],
   "source": [
    "boolFind = np.random.randint(1, 100, size=(1, 50))\n",
    "boolFind"
   ]
  },
  {
   "cell_type": "code",
   "execution_count": null,
   "id": "afb6ef50-a871-4953-a192-041af3d2b214",
   "metadata": {},
   "outputs": [],
   "source": []
  }
 ],
 "metadata": {
  "kernelspec": {
   "display_name": "Python [conda env:base] *",
   "language": "python",
   "name": "conda-base-py"
  },
  "language_info": {
   "codemirror_mode": {
    "name": "ipython",
    "version": 3
   },
   "file_extension": ".py",
   "mimetype": "text/x-python",
   "name": "python",
   "nbconvert_exporter": "python",
   "pygments_lexer": "ipython3",
   "version": "3.12.7"
  }
 },
 "nbformat": 4,
 "nbformat_minor": 5
}
