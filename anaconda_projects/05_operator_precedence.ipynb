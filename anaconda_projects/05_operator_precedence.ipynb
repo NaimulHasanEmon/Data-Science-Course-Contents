{
 "cells": [
  {
   "cell_type": "code",
   "execution_count": 1,
   "id": "e7f408cd-af5f-40ab-a84f-531e6fefa59f",
   "metadata": {},
   "outputs": [],
   "source": [
    " result = 10 + 2 * 3"
   ]
  },
  {
   "cell_type": "code",
   "execution_count": 3,
   "id": "1074cb6c-bdd5-4c52-88f5-f9616c4171a4",
   "metadata": {},
   "outputs": [
    {
     "data": {
      "text/plain": [
       "16"
      ]
     },
     "execution_count": 3,
     "metadata": {},
     "output_type": "execute_result"
    }
   ],
   "source": [
    "result"
   ]
  },
  {
   "cell_type": "code",
   "execution_count": null,
   "id": "ae0cd9ef-0d84-4332-991b-c60e3cb44423",
   "metadata": {},
   "outputs": [],
   "source": []
  }
 ],
 "metadata": {
  "kernelspec": {
   "display_name": "Python [conda env:base] *",
   "language": "python",
   "name": "conda-base-py"
  },
  "language_info": {
   "codemirror_mode": {
    "name": "ipython",
    "version": 3
   },
   "file_extension": ".py",
   "mimetype": "text/x-python",
   "name": "python",
   "nbconvert_exporter": "python",
   "pygments_lexer": "ipython3",
   "version": "3.12.7"
  }
 },
 "nbformat": 4,
 "nbformat_minor": 5
}
