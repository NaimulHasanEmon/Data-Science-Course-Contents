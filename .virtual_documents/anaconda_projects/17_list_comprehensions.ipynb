table = []


for i in range(1, 11):
    print(f'2 x {i} = {2*i}')
    table.append(2*i)


table


lis = [2*i for i in range(1, 11)]


lis


lis2 = [2*i for i in range (1, 11) if i%2==0]


lis2
