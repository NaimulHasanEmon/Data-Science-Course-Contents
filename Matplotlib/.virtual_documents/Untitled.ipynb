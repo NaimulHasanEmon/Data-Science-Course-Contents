


import matplotlib.pyplot as plt


years = [1990, 1992, 1994, 1996, 1998, 2000, 2003, 2005, 2007, 2010]
runs =  [500, 700, 1100, 1500, 1800, 1200, 1700, 1300, 900, 1500]


plt.bar(years, runs)
plt.xlabel("Year")
plt.ylabel("Runs")
plt.title("Sachin Tendulkar's Yearly Runs")


import numpy as np


sachin = [500, 700, 1100, 1500, 1800, 1200, 1700, 1300, 900, 1500]
sehwag = [0, 200, 900, 1400, 1600, 1800, 1500, 1100, 800, 0]
kohli  = [0, 0, 500, 800, 1100, 1300, 1500, 1800, 1900, 2100]

x = np.arange(len(years))       # Index positions
width = 0.25


plt.bar(x - width, sachin, width = width, label = "Sachin")
plt.bar(x, sehwag, width = width, label = "Sehwag")
plt.bar(x + width, kohli, width = width, label = "Kohli")

plt.xlabel("Year")
plt.ylabel("Runs")
plt.title("Run Comparison")
plt.xticks(x, years)
plt.tight_layout()
plt.legend()


sachin = [500, 700, 1100, 1500, 1800, 1200, 1700, 1300, 900, 1500]
sehwag = [0, 200, 900, 1400, 1600, 1800, 1500, 1100, 800, 0]
kohli  = [0, 0, 500, 800, 1100, 1300, 1500, 1800, 1900, 2100]

x = np.arange(len(years))
width = 0.2

plt.bar(x - width, sachin, width = width, label = "Sachin")
plt.bar(x, sehwag, width = width, label = "Sehwag")
plt.bar(x + width, kohli, width = width, label = "Kohli")

plt.xlabel("Year")
plt.ylabel("Runs")
plt.title("Run comparisons")
plt.xticks(x, years)
plt.tight_layout()
plt.legend()



