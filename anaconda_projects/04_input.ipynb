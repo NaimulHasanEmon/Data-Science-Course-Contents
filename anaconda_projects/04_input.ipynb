{
 "cells": [
  {
   "cell_type": "code",
   "execution_count": 1,
   "id": "f40c2a09-3787-4dcd-ae33-37c0f071f898",
   "metadata": {},
   "outputs": [
    {
     "name": "stdin",
     "output_type": "stream",
     "text": [
      "Enter the value of a:  10\n"
     ]
    }
   ],
   "source": [
    "a = input('Enter the value of a: ')   # by default it takes user input as string"
   ]
  },
  {
   "cell_type": "code",
   "execution_count": 2,
   "id": "348161ff-d816-4ab8-bdfc-1118603f7907",
   "metadata": {},
   "outputs": [
    {
     "data": {
      "text/plain": [
       "'10'"
      ]
     },
     "execution_count": 2,
     "metadata": {},
     "output_type": "execute_result"
    }
   ],
   "source": [
    "a "
   ]
  },
  {
   "cell_type": "code",
   "execution_count": 3,
   "id": "b0c45ac1-47cc-4883-9723-3e33e3935f3c",
   "metadata": {},
   "outputs": [
    {
     "name": "stdin",
     "output_type": "stream",
     "text": [
      "Enter the value of b:  5\n"
     ]
    }
   ],
   "source": [
    "b = input('Enter the value of b: ')"
   ]
  },
  {
   "cell_type": "code",
   "execution_count": 4,
   "id": "a64b3349-facf-4fa7-9f62-92f9985529e6",
   "metadata": {},
   "outputs": [
    {
     "data": {
      "text/plain": [
       "'105'"
      ]
     },
     "execution_count": 4,
     "metadata": {},
     "output_type": "execute_result"
    }
   ],
   "source": [
    "a + b"
   ]
  },
  {
   "cell_type": "code",
   "execution_count": 5,
   "id": "14a94367-554f-4e64-8eca-a02fc0e8174f",
   "metadata": {},
   "outputs": [
    {
     "data": {
      "text/plain": [
       "15"
      ]
     },
     "execution_count": 5,
     "metadata": {},
     "output_type": "execute_result"
    }
   ],
   "source": [
    "int(a) + int(b)"
   ]
  },
  {
   "cell_type": "markdown",
   "id": "be3a2377-f87c-4243-b0c8-59901236ed5e",
   "metadata": {},
   "source": [
    "# "
   ]
  }
 ],
 "metadata": {
  "kernelspec": {
   "display_name": "Python [conda env:base] *",
   "language": "python",
   "name": "conda-base-py"
  },
  "language_info": {
   "codemirror_mode": {
    "name": "ipython",
    "version": 3
   },
   "file_extension": ".py",
   "mimetype": "text/x-python",
   "name": "python",
   "nbconvert_exporter": "python",
   "pygments_lexer": "ipython3",
   "version": "3.12.7"
  }
 },
 "nbformat": 4,
 "nbformat_minor": 5
}
