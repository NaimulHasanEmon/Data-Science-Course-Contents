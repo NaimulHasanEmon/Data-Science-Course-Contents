{
 "cells": [
  {
   "cell_type": "markdown",
   "id": "79f936b1-a6e2-4725-b408-349baf0bee68",
   "metadata": {},
   "source": [
    "# Broadcasting in NumPy\n",
    "\n",
    "Boost your code’s performance using **vectorization** and **broadcasting** in NumPy. These techniques eliminate slow Python loops and make numerical operations more efficient.\n",
    "\n",
    "---\n",
    "\n",
    "## 1. Why Loops Are Slow\n",
    "\n",
    "Loops in Python are typically inefficient because:\n",
    "\n",
    "- **Interpreter overhead**: Each iteration requires Python to interpret logic at runtime.\n",
    "- **Function and memory access overhead**: Every loop iteration involves function calls, memory management, and index handling.\n",
    "\n",
    "### Example: Looping Over Arrays in Python\n",
    "\n",
    "```python\n",
    "import numpy as np\n",
    "\n",
    "arr = np.array([1, 2, 3, 4, 5])\n",
    "result = []\n",
    "\n",
    "# Slow loop\n",
    "for num in arr:\n",
    "    result.append(num ** 2)\n",
    "\n",
    "print(result)  # Output: [1, 4, 9, 16, 25]\n",
    "```\n",
    "\n",
    "---\n",
    "\n",
    "## 2. Vectorization: Fixing the Loop Problem\n",
    "\n",
    "**Vectorization** performs operations on entire arrays using NumPy’s optimized backend (written in C), enabling faster, cleaner code.\n",
    "\n",
    "### Example: Vectorized Operation\n",
    "\n",
    "```python\n",
    "arr = np.array([1, 2, 3, 4, 5])\n",
    "result = arr ** 2  # Vectorized operation\n",
    "print(result)  # Output: [1 4 9 16 25]\n",
    "```\n",
    "\n",
    "### Why is it Faster?\n",
    "\n",
    "- **Low-level implementation**: Uses fast C code.\n",
    "- **Parallel computation**: Leverages SIMD (Single Instruction, Multiple Data) for bulk operations.\n",
    "\n",
    "---\n",
    "\n",
    "## 3. Broadcasting: Scaling Arrays Without Extra Memory\n",
    "\n",
    "**Broadcasting** allows operations between arrays of different shapes without explicitly copying data.\n",
    "\n",
    "### Example: Broadcasting with a Scalar\n",
    "\n",
    "```python\n",
    "arr = np.array([1, 2, 3, 4, 5])\n",
    "result = arr + 10  # Broadcasting scalar\n",
    "print(result)  # Output: [11 12 13 14 15]\n",
    "```\n",
    "\n",
    "---\n",
    "\n",
    "## 4. Broadcasting with Arrays of Different Shapes\n",
    "\n",
    "NumPy automatically adjusts array shapes for element-wise operations.\n",
    "\n",
    "### Example: Two Arrays\n",
    "\n",
    "```python\n",
    "arr1 = np.array([1, 2, 3])\n",
    "arr2 = np.array([10, 20, 30])\n",
    "result = arr1 + arr2\n",
    "print(result)  # Output: [11 22 33]\n",
    "```\n",
    "\n",
    "### Example: 2D and 1D Array\n",
    "\n",
    "```python\n",
    "arr1 = np.array([[1, 2, 3], [4, 5, 6]])\n",
    "arr2 = np.array([1, 2, 3])\n",
    "result = arr1 + arr2\n",
    "print(result)\n",
    "# Output:\n",
    "# [[2 4 6]\n",
    "#  [5 7 9]]\n",
    "```\n",
    "\n",
    "### How Broadcasting Works\n",
    "\n",
    "- **Compatible dimensions**: Trailing dimensions must match or be `1`.\n",
    "- **No data duplication**: Smaller array is “stretched” in memory-efficient fashion.\n",
    "\n",
    "---\n",
    "\n",
    "## 5. Hands-on: Applying Broadcasting to Real-World Scenarios\n",
    "\n",
    "### Example: Normalizing Data in Machine Learning\n",
    "\n",
    "```python\n",
    "# Simulated dataset (5 samples, 3 features)\n",
    "data = np.array([[10, 20, 30],\n",
    "                 [15, 25, 35],\n",
    "                 [20, 30, 40],\n",
    "                 [25, 35, 45],\n",
    "                 [30, 40, 50]])\n",
    "\n",
    "# Compute column-wise mean and std\n",
    "mean = data.mean(axis=0)\n",
    "std = data.std(axis=0)\n",
    "\n",
    "# Normalize using broadcasting\n",
    "normalized_data = (data - mean) / std\n",
    "print(normalized_data)\n",
    "```\n",
    "\n",
    "---\n",
    "\n",
    "## Summary\n",
    "\n",
    "- 🔁 **Loops are slow** due to Python's overhead.\n",
    "- ⚡ **Vectorization** performs fast, whole-array operations.\n",
    "- 🧠 **Broadcasting** enables memory-efficient operations on different-shaped arrays.\n",
    "- 🧪 **Real-world usage**: Perfect for data preprocessing, such as feature scaling."
   ]
  },
  {
   "cell_type": "code",
   "execution_count": 2,
   "id": "fb740657-9df5-440a-8b7a-54eb29c6bb7f",
   "metadata": {},
   "outputs": [],
   "source": [
    "import numpy as np"
   ]
  },
  {
   "cell_type": "code",
   "execution_count": 3,
   "id": "1416e145-abe9-443a-9865-d4c393061b30",
   "metadata": {
    "scrolled": true
   },
   "outputs": [
    {
     "name": "stdout",
     "output_type": "stream",
     "text": [
      "[1, 4, 9, 16, 25]\n"
     ]
    }
   ],
   "source": [
    "arr = [1, 2, 3, 4, 5]\n",
    "res = []\n",
    "\n",
    "for i in arr:\n",
    "    res.append(i**2)\n",
    "\n",
    "print(res)"
   ]
  },
  {
   "cell_type": "code",
   "execution_count": 4,
   "id": "c7684747-f30b-43a3-b3d4-ca5b7b3f1b7d",
   "metadata": {},
   "outputs": [
    {
     "name": "stdout",
     "output_type": "stream",
     "text": [
      "[ 1  4  9 16 25]\n"
     ]
    }
   ],
   "source": [
    "arr = np.array([1, 2, 3, 4, 5])\n",
    "result = arr**2\n",
    "print(result)"
   ]
  },
  {
   "cell_type": "code",
   "execution_count": 5,
   "id": "6990cd3c-a604-41bf-a908-9e53c1773ea1",
   "metadata": {},
   "outputs": [
    {
     "data": {
      "text/plain": [
       "array([11, 14, 19, 26, 35])"
      ]
     },
     "execution_count": 5,
     "metadata": {},
     "output_type": "execute_result"
    }
   ],
   "source": [
    "result + 10"
   ]
  },
  {
   "cell_type": "code",
   "execution_count": 12,
   "id": "a44d1821-29a8-4be5-ac90-5dc0fa804bb5",
   "metadata": {},
   "outputs": [
    {
     "name": "stdout",
     "output_type": "stream",
     "text": [
      "[[2 4 6]\n",
      " [5 7 9]]\n"
     ]
    }
   ],
   "source": [
    "arr1 = np.array([[1, 2, 3], [4, 5, 6]])\n",
    "arr2 = np.array([1, 2, 3])\n",
    "res = arr1 + arr2         # Broadcasting arr2 across arr1\n",
    "print(res)"
   ]
  }
 ],
 "metadata": {
  "kernelspec": {
   "display_name": "Python [conda env:base] *",
   "language": "python",
   "name": "conda-base-py"
  },
  "language_info": {
   "codemirror_mode": {
    "name": "ipython",
    "version": 3
   },
   "file_extension": ".py",
   "mimetype": "text/x-python",
   "name": "python",
   "nbconvert_exporter": "python",
   "pygments_lexer": "ipython3",
   "version": "3.12.7"
  }
 },
 "nbformat": 4,
 "nbformat_minor": 5
}
