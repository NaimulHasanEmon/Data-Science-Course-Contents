# Using Python List
import numpy as np
import time

size = 100_000_000
l1 = list(range(size))
l2 = list(range(size))

start = time.time()
add = [x + y for x, y in zip(l1, l2)]
end = time.time()

print(add[0: 10])
print(end-start)


# Using Numpy Arrays

import numpy as np
import time

size = 100_000_000
l1 = np.array(list(range(size)))
l2 = np.array(list(range(size)))

start = time.time()
add = l1 + l2
end = time.time()

print(add)
print(end-start)


# Python Zip Expalined
lis1 = [1, 2, 3]
lis2 = [4, 5, 6]


list(zip(lis1, lis2))


# 1D Array
np.array([1, 2, 3, 4, 5, 6])


# 2D Array
arr = np.array([[1, 2, 3], [4, 5, 6]])
arr


type(arr)


arr.shape


# Squaring using Python List
start_time = time.time()
list_square = [x**2 for x in range(100_000_000)]
end_time = time.time()

print(list_square[0: 10])
print(end_time-start_time)


# Squaring using Numpy
start_time = time.time()
arr = np.arange(100_000_000)
list_square = arr**2
end_time = time.time()

print(list_square[0: 10])
print(end_time-start_time)
