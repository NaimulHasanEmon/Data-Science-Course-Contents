


data = load_data(data.json")


data


type(data)






