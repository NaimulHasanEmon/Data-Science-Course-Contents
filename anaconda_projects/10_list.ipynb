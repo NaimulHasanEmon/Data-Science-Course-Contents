{
 "cells": [
  {
   "cell_type": "code",
   "execution_count": 1,
   "id": "36862df7-20a4-4eff-a07c-dbd16b126ed4",
   "metadata": {},
   "outputs": [],
   "source": [
    "l = [3, 5, 23, 3]"
   ]
  },
  {
   "cell_type": "code",
   "execution_count": 2,
   "id": "322b2d47-6244-475f-9429-afe6ef71e7a6",
   "metadata": {},
   "outputs": [
    {
     "data": {
      "text/plain": [
       "[3, 5, 23, 3]"
      ]
     },
     "execution_count": 2,
     "metadata": {},
     "output_type": "execute_result"
    }
   ],
   "source": [
    "l"
   ]
  },
  {
   "cell_type": "code",
   "execution_count": 3,
   "id": "78be948a-0187-438e-b17f-9e395310e1dd",
   "metadata": {},
   "outputs": [],
   "source": [
    "l[0] = 10"
   ]
  },
  {
   "cell_type": "code",
   "execution_count": 4,
   "id": "8cf78eae-0e0d-42de-82cd-7fe192ff49c3",
   "metadata": {},
   "outputs": [
    {
     "data": {
      "text/plain": [
       "[10, 5, 23, 3]"
      ]
     },
     "execution_count": 4,
     "metadata": {},
     "output_type": "execute_result"
    }
   ],
   "source": [
    "l"
   ]
  },
  {
   "cell_type": "code",
   "execution_count": 5,
   "id": "1564afc3-c16e-4d39-85ba-7d66d9fdd282",
   "metadata": {},
   "outputs": [],
   "source": [
    "l.append(9)"
   ]
  },
  {
   "cell_type": "code",
   "execution_count": 6,
   "id": "ad27af03-42eb-460f-9ff8-480eac51cd5b",
   "metadata": {},
   "outputs": [
    {
     "data": {
      "text/plain": [
       "[10, 5, 23, 3, 9]"
      ]
     },
     "execution_count": 6,
     "metadata": {},
     "output_type": "execute_result"
    }
   ],
   "source": [
    "l"
   ]
  },
  {
   "cell_type": "code",
   "execution_count": 7,
   "id": "87c4d50a-db25-4216-a31a-5bfb7b46a154",
   "metadata": {},
   "outputs": [],
   "source": [
    "l2 = [5, 7]"
   ]
  },
  {
   "cell_type": "code",
   "execution_count": 8,
   "id": "b9479e70-870c-4674-969c-5b0ec3198a8f",
   "metadata": {},
   "outputs": [
    {
     "data": {
      "text/plain": [
       "[5, 7]"
      ]
     },
     "execution_count": 8,
     "metadata": {},
     "output_type": "execute_result"
    }
   ],
   "source": [
    "l2"
   ]
  },
  {
   "cell_type": "code",
   "execution_count": 9,
   "id": "49d36e55-3e52-4fd4-9508-27caf25cf230",
   "metadata": {},
   "outputs": [],
   "source": [
    "l.extend(l2)"
   ]
  },
  {
   "cell_type": "code",
   "execution_count": 10,
   "id": "d8c71fab-0fde-46ce-9d22-7e531074fa98",
   "metadata": {},
   "outputs": [
    {
     "data": {
      "text/plain": [
       "[10, 5, 23, 3, 9, 5, 7]"
      ]
     },
     "execution_count": 10,
     "metadata": {},
     "output_type": "execute_result"
    }
   ],
   "source": [
    "l"
   ]
  },
  {
   "cell_type": "code",
   "execution_count": 11,
   "id": "1862acd8-347e-4155-a608-50af243dc650",
   "metadata": {},
   "outputs": [],
   "source": [
    "l.insert(1, 200)     # insert 200 ar index 1"
   ]
  },
  {
   "cell_type": "code",
   "execution_count": 12,
   "id": "316df0c5-1028-48ef-a49b-01b1c16e26c6",
   "metadata": {},
   "outputs": [
    {
     "data": {
      "text/plain": [
       "[10, 200, 5, 23, 3, 9, 5, 7]"
      ]
     },
     "execution_count": 12,
     "metadata": {},
     "output_type": "execute_result"
    }
   ],
   "source": [
    "l"
   ]
  },
  {
   "cell_type": "code",
   "execution_count": 13,
   "id": "15bccc5e-b8fe-44c2-b659-d0c615c10d21",
   "metadata": {},
   "outputs": [
    {
     "data": {
      "text/plain": [
       "7"
      ]
     },
     "execution_count": 13,
     "metadata": {},
     "output_type": "execute_result"
    }
   ],
   "source": [
    "l.pop()"
   ]
  },
  {
   "cell_type": "code",
   "execution_count": 14,
   "id": "e9229269-1b0d-44d8-a819-01fcfd7d1689",
   "metadata": {},
   "outputs": [
    {
     "data": {
      "text/plain": [
       "3"
      ]
     },
     "execution_count": 14,
     "metadata": {},
     "output_type": "execute_result"
    }
   ],
   "source": [
    "l.pop(4)"
   ]
  },
  {
   "cell_type": "code",
   "execution_count": 15,
   "id": "d3a45a56-5253-4948-be66-22856e9e4e39",
   "metadata": {},
   "outputs": [
    {
     "data": {
      "text/plain": [
       "2"
      ]
     },
     "execution_count": 15,
     "metadata": {},
     "output_type": "execute_result"
    }
   ],
   "source": [
    "l.index(5)"
   ]
  },
  {
   "cell_type": "code",
   "execution_count": 16,
   "id": "5edae4a2-fafd-4cd4-9f77-7031977d7237",
   "metadata": {},
   "outputs": [],
   "source": [
    "l.sort()"
   ]
  },
  {
   "cell_type": "code",
   "execution_count": 17,
   "id": "2f019f95-d45b-4b82-b115-05e6dab586fa",
   "metadata": {},
   "outputs": [
    {
     "data": {
      "text/plain": [
       "[5, 5, 9, 10, 23, 200]"
      ]
     },
     "execution_count": 17,
     "metadata": {},
     "output_type": "execute_result"
    }
   ],
   "source": [
    "l"
   ]
  },
  {
   "cell_type": "code",
   "execution_count": 18,
   "id": "683a3c6b-e77f-47e7-8647-19a10b8ba29a",
   "metadata": {},
   "outputs": [
    {
     "data": {
      "text/plain": [
       "[5, 5, 9, 10, 23, 200]"
      ]
     },
     "execution_count": 18,
     "metadata": {},
     "output_type": "execute_result"
    }
   ],
   "source": [
    "sorted(l)"
   ]
  },
  {
   "cell_type": "code",
   "execution_count": 56,
   "id": "e22a9531-be87-4c5c-9653-f195433dea66",
   "metadata": {},
   "outputs": [],
   "source": [
    "y = [1, 2, True, False, [4, 5], True, [12, 15]]"
   ]
  },
  {
   "cell_type": "code",
   "execution_count": 58,
   "id": "29465d5b-c073-48af-a4c5-d4bcbf0e20ae",
   "metadata": {},
   "outputs": [
    {
     "data": {
      "text/plain": [
       "[1, 2, True, False, [4, 5], True, [12, 15]]"
      ]
     },
     "execution_count": 58,
     "metadata": {},
     "output_type": "execute_result"
    }
   ],
   "source": [
    "y"
   ]
  },
  {
   "cell_type": "code",
   "execution_count": 62,
   "id": "693e3c2c-8289-4b49-bfc4-a0aa2cb010bc",
   "metadata": {},
   "outputs": [
    {
     "name": "stdout",
     "output_type": "stream",
     "text": [
      "From [4, 5]:\n",
      "4\n",
      "5\n",
      "From [12, 15]:\n",
      "12\n",
      "15\n"
     ]
    }
   ],
   "source": [
    "for i in y:\n",
    "    if (type(i) == list):\n",
    "        print(f'From {i}:') \n",
    "        for j in i:\n",
    "            print(j)"
   ]
  },
  {
   "cell_type": "code",
   "execution_count": 64,
   "id": "f98f5b35-1ac9-4f2a-a34f-e35f4e563f46",
   "metadata": {},
   "outputs": [],
   "source": [
    "lis1 = [1, 2, 3]"
   ]
  },
  {
   "cell_type": "code",
   "execution_count": 66,
   "id": "29d3470e-5664-4b74-8316-3e5f3b2a59f3",
   "metadata": {},
   "outputs": [],
   "source": [
    "lis2 = [4, 5, 6]"
   ]
  },
  {
   "cell_type": "code",
   "execution_count": 68,
   "id": "d0be1348-69ce-4e2f-9306-129b3ad4a0f7",
   "metadata": {},
   "outputs": [
    {
     "data": {
      "text/plain": [
       "[1, 2, 3, 4, 5, 6]"
      ]
     },
     "execution_count": 68,
     "metadata": {},
     "output_type": "execute_result"
    }
   ],
   "source": [
    "lis1 + lis2"
   ]
  },
  {
   "cell_type": "code",
   "execution_count": 74,
   "id": "20ac11dd-bca5-4d1e-8b91-c2811e6a9f60",
   "metadata": {},
   "outputs": [
    {
     "name": "stdout",
     "output_type": "stream",
     "text": [
      "Yes\n"
     ]
    }
   ],
   "source": [
    "if 3 in lis1:\n",
    "    print(\"Yes\")"
   ]
  },
  {
   "cell_type": "code",
   "execution_count": 86,
   "id": "a4fea285-55e0-40a2-bb88-b23b4bf6575a",
   "metadata": {},
   "outputs": [],
   "source": [
    "name = \"naimul-hasan-emon\""
   ]
  },
  {
   "cell_type": "code",
   "execution_count": 88,
   "id": "3c24d16d-36f0-4e77-bf22-b9de3f0bb2e8",
   "metadata": {},
   "outputs": [
    {
     "data": {
      "text/plain": [
       "['naimul', 'hasan', 'emon']"
      ]
     },
     "execution_count": 88,
     "metadata": {},
     "output_type": "execute_result"
    }
   ],
   "source": [
    "name.split(\"-\")"
   ]
  },
  {
   "cell_type": "code",
   "execution_count": null,
   "id": "38954cc1-ab9e-48d6-91e2-13eeb9a7a443",
   "metadata": {},
   "outputs": [],
   "source": []
  }
 ],
 "metadata": {
  "kernelspec": {
   "display_name": "Python [conda env:base] *",
   "language": "python",
   "name": "conda-base-py"
  },
  "language_info": {
   "codemirror_mode": {
    "name": "ipython",
    "version": 3
   },
   "file_extension": ".py",
   "mimetype": "text/x-python",
   "name": "python",
   "nbconvert_exporter": "python",
   "pygments_lexer": "ipython3",
   "version": "3.12.7"
  }
 },
 "nbformat": 4,
 "nbformat_minor": 5
}
