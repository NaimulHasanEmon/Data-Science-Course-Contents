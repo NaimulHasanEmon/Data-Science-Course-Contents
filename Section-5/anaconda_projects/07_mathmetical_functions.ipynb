{
 "cells": [
  {
   "cell_type": "markdown",
   "id": "ec3fb400-d355-4ae3-b1e8-c0214d1f0e7c",
   "metadata": {},
   "source": [
    "# 📊 Built-in Mathematical Functions in NumPy\n",
    "\n",
    "Here are some common **NumPy** methods frequently used for statistical and mathematical operations:\n",
    "\n",
    "---\n",
    "\n",
    "### 📌 Statistical Functions\n",
    "\n",
    "- **Mean** – Compute the average of an array  \n",
    "  ```python\n",
    "  np.mean(arr)\n",
    "  ```\n",
    "\n",
    "- **Standard Deviation** – Measure the amount of variation  \n",
    "  ```python\n",
    "  np.std(arr)\n",
    "  ```\n",
    "\n",
    "- **Variance** – Measure of how far elements spread from the mean  \n",
    "  ```python\n",
    "  np.var(arr)\n",
    "  ```\n",
    "\n",
    "- **Minimum Value**  \n",
    "  ```python\n",
    "  np.min(arr)\n",
    "  ```\n",
    "\n",
    "- **Maximum Value**  \n",
    "  ```python\n",
    "  np.max(arr)\n",
    "  ```\n",
    "\n",
    "- **Sum of All Elements**  \n",
    "  ```python\n",
    "  np.sum(arr)\n",
    "  ```\n",
    "\n",
    "- **Product of All Elements**  \n",
    "  ```python\n",
    "  np.prod(arr)\n",
    "  ```\n",
    "\n",
    "- **Median** – Middle value of an array  \n",
    "  ```python\n",
    "  np.median(arr)\n",
    "  ```\n",
    "\n",
    "- **Percentile** – e.g., 50th percentile (median)  \n",
    "  ```python\n",
    "  np.percentile(arr, 50)\n",
    "  ```\n",
    "\n",
    "- **Index of Minimum Value**  \n",
    "  ```python\n",
    "  np.argmin(arr)\n",
    "  ```\n",
    "\n",
    "- **Index of Maximum Value**  \n",
    "  ```python\n",
    "  np.argmax(arr)\n",
    "  ```\n",
    "\n",
    "- **Correlation Coefficient Matrix**  \n",
    "  ```python\n",
    "  np.corrcoef(arr1, arr2)\n",
    "  ```\n",
    "\n",
    "- **Unique Elements**  \n",
    "  ```python\n",
    "  np.unique(arr)\n",
    "  ```\n",
    "\n",
    "---\n",
    "\n",
    "### 🔢 Mathematical Functions\n",
    "\n",
    "- **First Differences** – Difference between consecutive elements  \n",
    "  ```python\n",
    "  np.diff(arr)\n",
    "  ```\n",
    "\n",
    "- **Cumulative Sum**  \n",
    "  ```python\n",
    "  np.cumsum(arr)\n",
    "  ```\n",
    "\n",
    "- **Evenly Spaced Numbers over an Interval**  \n",
    "  ```python\n",
    "  np.linspace(0, 10, 5)  # 5 numbers from 0 to 10\n",
    "  ```\n",
    "\n",
    "- **Natural Logarithm**  \n",
    "  ```python\n",
    "  np.log(arr)\n",
    "  ```\n",
    "\n",
    "- **Exponential (e^x)**  \n",
    "  ```python\n",
    "  np.exp(arr)\n",
    "  ```"
   ]
  },
  {
   "cell_type": "code",
   "execution_count": 3,
   "id": "a569e6b3-2349-4fc9-9ed5-b294a05cb491",
   "metadata": {},
   "outputs": [],
   "source": [
    "import numpy as np"
   ]
  },
  {
   "cell_type": "code",
   "execution_count": 4,
   "id": "d60fced0-14ad-4bfa-b38f-9453af5d5756",
   "metadata": {},
   "outputs": [],
   "source": [
    "arr = np.array([4, 6, 34, 27, 10])"
   ]
  },
  {
   "cell_type": "code",
   "execution_count": 5,
   "id": "b3604e03-465c-41ae-b339-2e5540cdd4b6",
   "metadata": {},
   "outputs": [
    {
     "data": {
      "text/plain": [
       "16.2"
      ]
     },
     "execution_count": 5,
     "metadata": {},
     "output_type": "execute_result"
    }
   ],
   "source": [
    "np.mean(arr)"
   ]
  },
  {
   "cell_type": "code",
   "execution_count": 6,
   "id": "7aed1f02-85db-4750-82f2-48a1721b530a",
   "metadata": {},
   "outputs": [
    {
     "data": {
      "text/plain": [
       "34"
      ]
     },
     "execution_count": 6,
     "metadata": {},
     "output_type": "execute_result"
    }
   ],
   "source": [
    "np.max(arr)"
   ]
  },
  {
   "cell_type": "code",
   "execution_count": 7,
   "id": "c869a105-6cc2-4818-b9ac-2d099cff89b7",
   "metadata": {},
   "outputs": [
    {
     "data": {
      "text/plain": [
       "4"
      ]
     },
     "execution_count": 7,
     "metadata": {},
     "output_type": "execute_result"
    }
   ],
   "source": [
    "np.min(arr)"
   ]
  },
  {
   "cell_type": "code",
   "execution_count": 8,
   "id": "3288fc0e-52ed-404e-860b-f101c516f3de",
   "metadata": {},
   "outputs": [
    {
     "data": {
      "text/plain": [
       "12.039933554633928"
      ]
     },
     "execution_count": 8,
     "metadata": {},
     "output_type": "execute_result"
    }
   ],
   "source": [
    "np.std(arr)"
   ]
  },
  {
   "cell_type": "code",
   "execution_count": 9,
   "id": "9c821cf1-af3b-4e31-89bb-1e9b76258f45",
   "metadata": {},
   "outputs": [
    {
     "data": {
      "text/plain": [
       "144.95999999999998"
      ]
     },
     "execution_count": 9,
     "metadata": {},
     "output_type": "execute_result"
    }
   ],
   "source": [
    "np.var(arr)"
   ]
  },
  {
   "cell_type": "code",
   "execution_count": 10,
   "id": "156560d9-6268-46ea-92e4-9d2b616f834e",
   "metadata": {},
   "outputs": [
    {
     "data": {
      "text/plain": [
       "81"
      ]
     },
     "execution_count": 10,
     "metadata": {},
     "output_type": "execute_result"
    }
   ],
   "source": [
    "np.sum(arr)"
   ]
  },
  {
   "cell_type": "code",
   "execution_count": 11,
   "id": "6857b37f-ff61-4088-ac39-7da6a62111b7",
   "metadata": {},
   "outputs": [
    {
     "data": {
      "text/plain": [
       "220320"
      ]
     },
     "execution_count": 11,
     "metadata": {},
     "output_type": "execute_result"
    }
   ],
   "source": [
    "np.prod(arr)"
   ]
  },
  {
   "cell_type": "code",
   "execution_count": 12,
   "id": "2674d5ba-50f8-433c-87bf-e5908d19f489",
   "metadata": {},
   "outputs": [
    {
     "data": {
      "text/plain": [
       "10.0"
      ]
     },
     "execution_count": 12,
     "metadata": {},
     "output_type": "execute_result"
    }
   ],
   "source": [
    "np.median(arr)"
   ]
  },
  {
   "cell_type": "code",
   "execution_count": 13,
   "id": "3b755438-d03f-441e-b5c5-367f23e22ab7",
   "metadata": {},
   "outputs": [
    {
     "data": {
      "text/plain": [
       "10.0"
      ]
     },
     "execution_count": 13,
     "metadata": {},
     "output_type": "execute_result"
    }
   ],
   "source": [
    "np.percentile(arr, 50)"
   ]
  },
  {
   "cell_type": "code",
   "execution_count": 14,
   "id": "fc18122c-bc7d-4d80-9840-b09eb118d4b6",
   "metadata": {},
   "outputs": [
    {
     "data": {
      "text/plain": [
       "0"
      ]
     },
     "execution_count": 14,
     "metadata": {},
     "output_type": "execute_result"
    }
   ],
   "source": [
    "np.argmin(arr)    # Index of min value"
   ]
  },
  {
   "cell_type": "code",
   "execution_count": 15,
   "id": "7c0e8f44-caf7-4bf1-b065-32f6b7fd2a69",
   "metadata": {},
   "outputs": [
    {
     "data": {
      "text/plain": [
       "2"
      ]
     },
     "execution_count": 15,
     "metadata": {},
     "output_type": "execute_result"
    }
   ],
   "source": [
    "np.argmax(arr)    # Index of max value"
   ]
  },
  {
   "cell_type": "code",
   "execution_count": 16,
   "id": "9088ff8b-ab56-4621-967c-6ba091fb79a6",
   "metadata": {},
   "outputs": [
    {
     "data": {
      "text/plain": [
       "array([ 2,  4,  5,  8, 19, 22])"
      ]
     },
     "execution_count": 16,
     "metadata": {},
     "output_type": "execute_result"
    }
   ],
   "source": [
    "arr2 = np.array([2, 5, 4, 2, 8, 19, 22, 4, 5])\n",
    "np.unique(arr2)      # Returns unique valus by removing duplicate values"
   ]
  }
 ],
 "metadata": {
  "kernelspec": {
   "display_name": "Python [conda env:base] *",
   "language": "python",
   "name": "conda-base-py"
  },
  "language_info": {
   "codemirror_mode": {
    "name": "ipython",
    "version": 3
   },
   "file_extension": ".py",
   "mimetype": "text/x-python",
   "name": "python",
   "nbconvert_exporter": "python",
   "pygments_lexer": "ipython3",
   "version": "3.12.7"
  }
 },
 "nbformat": 4,
 "nbformat_minor": 5
}
