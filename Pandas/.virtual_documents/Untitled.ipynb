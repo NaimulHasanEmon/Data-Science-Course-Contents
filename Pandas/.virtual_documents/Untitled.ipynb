


import pandas as pd


df = pd.read_csv("data_cleaning_sample.csv")


df


df.isnull()           # Returns true and false value to show if there is any null values or not


df.isnull().sum()      # Returns how many null values are there in each column


df.dropna()            # Returns a view of the dataset where there is no null values in any column


df.dropna(axis=1)       # It drops the whole column where there is null value


df.fillna(0)        # Replace null with 0


df["Age"].fillna(df["Age"].mean())      # Replace the Age column with the mean of Age


df.fillna(method="ffill")


df.fillna(method="bfill")


df.ffill()


df.bfill()



