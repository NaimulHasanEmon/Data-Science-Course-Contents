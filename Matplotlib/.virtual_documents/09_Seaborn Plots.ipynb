


import seaborn as sns


print(sns.get_dataset_names())


tips = sns.load_dataset("tips")


tips


tips.head()


tips.info()


tips.describe()


sns.lineplot(x="total_bill", y="tip", data=tips)

import matplotlib.pyplot as plt
plt.title("Total bill Vs Tips Plot")
# plt.xlabel("Total Bill")
# plt.ylabel("Tips")


sns.scatterplot(x="total_bill", y="tip", data=tips)
plt.title("Scatter Plot")


sns.barplot(x="total_bill", y="tip", data=tips)
plt.title("Bar Plot")


sns.boxplot(x="total_bill", y="tip", data=tips)
plt.title("Box Plot")


flights = sns.load_dataset('flights')


flights


pv = flights.pivot(index='month', columns='year', values='passengers')


pv


sns.heatmap(pv, annot=True, fmt='d', cmap='YlGnBu')
plt.title("Heatmap")
