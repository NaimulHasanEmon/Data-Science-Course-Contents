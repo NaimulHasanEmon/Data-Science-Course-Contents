{
 "cells": [
  {
   "cell_type": "code",
   "execution_count": 2,
   "id": "06d3c485-f29d-47db-9bb0-564934eef8d2",
   "metadata": {},
   "outputs": [],
   "source": [
    "import json"
   ]
  },
  {
   "cell_type": "code",
   "execution_count": 3,
   "id": "ae3da830-66d0-4612-9a49-c34dc9e2abac",
   "metadata": {},
   "outputs": [],
   "source": [
    "def load_file(filename):\n",
    "    with open(filename, 'r') as f:\n",
    "        data = json.load(f)\n",
    "    return data"
   ]
  },
  {
   "cell_type": "code",
   "execution_count": 4,
   "id": "4bf0c6ab-42be-4626-814e-cca1d36e444f",
   "metadata": {},
   "outputs": [],
   "source": [
    "# Load the data\n",
    "data = load_file(\"massive_data.json\")\n",
    "# data"
   ]
  },
  {
   "cell_type": "code",
   "execution_count": 5,
   "id": "cfd1da22-2a43-4ffc-bab8-632e26acb047",
   "metadata": {},
   "outputs": [
    {
     "name": "stdout",
     "output_type": "stream",
     "text": [
      "[7, 10, 12, 15, 19, 18, 22, 3, 4, 5, 9, 17, 26]\n"
     ]
    }
   ],
   "source": [
    "def people_you_may_know(user_id, data):\n",
    "    user_friends = {}\n",
    "    for user in data[\"users\"]:\n",
    "        user_friends[user[\"id\"]] = set(user[\"friends\"])\n",
    "\n",
    "    # print(user_friends)   # show the friends list of current user.\n",
    "\n",
    "    if user_id not in user_friends:\n",
    "        return[]\n",
    "\n",
    "    direct_friends = user_friends[user_id]\n",
    "    suggestions = {}\n",
    "    for friend in direct_friends:\n",
    "        for mutual_friends in user_friends[friend]:\n",
    "            if mutual_friends != user_id and mutual_friends not in direct_friends:\n",
    "                # Count mutual friends\n",
    "                suggestions[mutual_friends] = suggestions.get(mutual_friends, 0) + 1\n",
    "    sorted_suggestions = sorted(suggestions.items(), key=lambda x: x[1], reverse = True)\n",
    "    return [user_id for user_id, murual_count in sorted_suggestions]\n",
    "\n",
    "user_id = 14\n",
    "recc = people_you_may_know(user_id, data)\n",
    "print(recc)"
   ]
  }
 ],
 "metadata": {
  "kernelspec": {
   "display_name": "Python [conda env:base] *",
   "language": "python",
   "name": "conda-base-py"
  },
  "language_info": {
   "codemirror_mode": {
    "name": "ipython",
    "version": 3
   },
   "file_extension": ".py",
   "mimetype": "text/x-python",
   "name": "python",
   "nbconvert_exporter": "python",
   "pygments_lexer": "ipython3",
   "version": "3.12.7"
  }
 },
 "nbformat": 4,
 "nbformat_minor": 5
}
