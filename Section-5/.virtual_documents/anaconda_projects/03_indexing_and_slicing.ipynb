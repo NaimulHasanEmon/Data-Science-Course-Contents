import numpy as np


arr = np.array([[1, 2, 3], [4, 5, 6], [7, 8, 9], [10, 11, 12]])
arr


flat = arr.flatten()
flat


flat[0]


flat[5]


flat[3:6]


flat[:5]


flat[4:]


flat[::2]       # Every second (2nd) element


flat


b = flat[3: 7]


b


b[0]


b[0] = 4444


b


flat


c = flat[0:5].copy()


c


c[0] = 333


c


flat


arr = np.array([1, 43, 45, 34, 67, 28, 12])


# Fancy Indexing

arr[[1, 4, 5]]     # Will return the elements of these index


# Boolean Masking

arr[arr > 3]        # Will return the elements that are greater than 3


newArr = np.random.randint(0, 10, size=(3, 3))
newArr


newArr.shape


floarArr = np.array([1.1, 2.2, 3.3], dtype='int32')
floarArr


arr = np.array([1, 2, 3, 4, 5, 6])
arr[arr % 2 == 0]


demo = np.array([1, 2, 3, 4, 5, 6, 7, 8, 9])


demo.reshape(3, 3)


boolFind = np.random.randint(1, 100, size=(1, 50))
boolFind


boolFind[boolFind > 50]            # Using Boolean Masking
