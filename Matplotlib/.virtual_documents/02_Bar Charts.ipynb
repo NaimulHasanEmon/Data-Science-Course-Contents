


import matplotlib.pyplot as plt


years = [1990, 1992, 1994, 1996, 1998, 2000, 2003, 2005, 2007, 2010]
runs =  [500, 700, 1100, 1500, 1800, 1200, 1700, 1300, 900, 1500]


plt.bar(years, runs)
plt.xlabel("Year")
plt.ylabel("Runs")
plt.title("Sachin Tendulkar's Yearly Runs")


import numpy as np


sachin = [500, 700, 1100, 1500, 1800, 1200, 1700, 1300, 900, 1500]
sehwag = [0, 200, 900, 1400, 1600, 1800, 1500, 1100, 800, 0]
kohli  = [0, 0, 500, 800, 1100, 1300, 1500, 1800, 1900, 2100]

x = np.arange(len(years))       # Index positions
width = 0.25


plt.bar(x - width, sachin, width = width, label = "Sachin")
plt.bar(x, sehwag, width = width, label = "Sehwag")
plt.bar(x + width, kohli, width = width, label = "Kohli")

plt.xlabel("Year")
plt.ylabel("Runs")
plt.title("Run Comparison")
plt.xticks(x, years)
plt.tight_layout()
plt.legend()


sachin = [500, 700, 1100, 1500, 1800, 1200, 1700, 1300, 900, 1500]
sehwag = [0, 200, 900, 1400, 1600, 1800, 1500, 1100, 800, 0]
kohli  = [0, 0, 500, 800, 1100, 1300, 1500, 1800, 1900, 2100]

x = np.arange(len(years))
width = 0.2

plt.bar(x - width, sachin, width = width, label = "Sachin")
plt.bar(x, sehwag, width = width, label = "Sehwag")
plt.bar(x + width, kohli, width = width, label = "Kohli")

plt.xlabel("Year")
plt.ylabel("Runs")
plt.title("Run comparisons")
plt.xticks(x, years)
plt.tight_layout()
plt.legend()





players = ["Sachin", "Sehwag", "Kohli", "Yuvraj"]
runs_5yrs = [500+700+1100+1500+1800, 0+200+900+1400+1600, 0+0+500+800+1100, 300+600+800+1100+900]

plt.barh(players, runs_5yrs, color="skyblue")
plt.xlabel("Total runs in first 5 years")
plt.title("First 5 years performance of players")
plt.tight_layout()


players = ["Sachin", "Sehwag", "Kohli"]
runs = [1500, 1200, 1800]
 
plt.bar(players, runs, color="skyblue")
 
# Add labels on top of bars
for i in range(len(runs)):
    plt.text(i, runs[i] + 20, str(runs[i]), ha='center')
 
plt.ylabel("Runs")
plt.title("Runs Scored by Players")
plt.tight_layout()





import numpy as np

years = [2003, 2007, 2010, 2013, 2018]

sachin = [1741, 1050, 1482, 1001, 516]
kohli = [1750, 1598, 1388, 1122, 523]
sehwag = [1500, 1200, 1305, 890, 657]

x = np.arange(len(years))
width = 0.3

plt.bar(x - width, sachin, width = width, color="orange", label = "Sachin")
plt.bar(x, kohli, width = width, label = "Kohli")
plt.bar(x + width, sehwag, width = width, color = "green", label = "Sehwag")

plt.xlabel("Years")
plt.ylabel("Runs")
plt.title("Runs comparison")
plt.xticks(x, years)

# With AI help
for i in range(len(years)):
    plt.text(x[i] - width, sachin[i] + 20, str(sachin[i]), ha="center", fontsize="8")
    plt.text(x[i], kohli[i] + 20, str(kohli[i]), ha="center", fontsize="8")
    plt.text(x[i] + width, sehwag[i] + 20, str(sehwag[i]), ha="center", fontsize="8")

plt.tight_layout()
plt.legend()


import numpy as np

years = [2003, 2007, 2010, 2013, 2018]

sachin = [1741, 1050, 1482, 1001, 516]
kohli = [1750, 1598, 1388, 1122, 523]
sehwag = [1500, 1200, 1305, 890, 657]

x = np.arange(len(years))
height = 0.25

plt.barh(x - height, sachin, height = height, color="orange", label = "Sachin")
plt.barh(x, kohli, height = height, label = "Kohli")
plt.barh(x + height, sehwag, height = height, color = "green", label = "Sehwag")

plt.xlabel("Years")
plt.ylabel("Runs")
plt.title("Runs comparison")
plt.yticks(x, years)

# With AI help
for i in range(len(years)):
    plt.text(sachin[i] + 10, x[i] - height, str(sachin[i]), va="center", fontsize="8")
    plt.text(kohli[i] + 10, x[i], str(kohli[i]), va="center", fontsize="8")
    plt.text(sehwag[i] + 10, x[i] + height, str(sehwag[i]), va="center", fontsize="8")

plt.tight_layout()
plt.legend()
