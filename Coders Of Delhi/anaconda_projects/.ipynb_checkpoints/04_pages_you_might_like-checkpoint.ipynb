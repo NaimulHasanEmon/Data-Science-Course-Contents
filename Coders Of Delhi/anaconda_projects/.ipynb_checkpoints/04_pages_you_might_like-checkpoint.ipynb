{
 "cells": [
  {
   "cell_type": "code",
   "execution_count": 1,
   "id": "5a8a5c55-729c-4803-be04-3f36a206b956",
   "metadata": {},
   "outputs": [],
   "source": [
    "import json"
   ]
  },
  {
   "cell_type": "code",
   "execution_count": 2,
   "id": "04a4eaff-eb3f-4d4f-a954-b0f74ddeb7b3",
   "metadata": {},
   "outputs": [],
   "source": [
    "def load_file(loadfile):\n",
    "    with open(loadfile, 'r') as f:\n",
    "        data = json.load(f)\n",
    "    return data"
   ]
  },
  {
   "cell_type": "code",
   "execution_count": 3,
   "id": "c5e20306-6cba-4308-b87a-f41d0f8339db",
   "metadata": {},
   "outputs": [],
   "source": [
    "data = load_file(\"massive_data.json\")"
   ]
  },
  {
   "cell_type": "code",
   "execution_count": 4,
   "id": "2a183682-6d50-48f1-9383-74cc2b4c0eb6",
   "metadata": {},
   "outputs": [],
   "source": [
    "# Function to find pages a user might like based on common interest\n",
    "def pages_you_might_like(user_id, data):\n",
    "    # Dictionary to store user interactions with pages\n",
    "    user_pages = {}\n",
    "\n",
    "    # Populate the dictonary\n",
    "    for user in data[\"users\"]:\n",
    "        user_pages[user[\"id\"]] = set(user[\"liked_pages\"])\n",
    "    # print(user_pages)\n",
    "\n",
    "    # If the user is not found, return an empty list\n",
    "    if user_id not in user_pages:\n",
    "        return []\n",
    "\n",
    "    user_liked_pages = user_pages[user_id]\n",
    "    page_suggestions = {}\n",
    "\n",
    "    for other_user, pages in user_pages.items():\n",
    "        if other_user != user_id:\n",
    "            shared_pages = user_liked_pages.intersection(pages)\n",
    "\n",
    "        for page in pages:\n",
    "            if page not in user_liked_pages:\n",
    "                page_suggestions[page] = page_suggestions.get(page, 0) + len(shared_pages)\n",
    "\n",
    "    sorted_pages = sorted(page_suggestions.items(), key=lambda x:x[1], reverse=True)\n",
    "    return [(page_id, score) for page_id, score in sorted_pages]"
   ]
  },
  {
   "cell_type": "code",
   "execution_count": 5,
   "id": "09e3861d-5796-412c-be64-cbac60fdacf7",
   "metadata": {},
   "outputs": [
    {
     "data": {
      "text/plain": [
       "[(103, 2),\n",
       " (105, 1),\n",
       " (107, 1),\n",
       " (104, 0),\n",
       " (106, 0),\n",
       " (108, 0),\n",
       " (109, 0),\n",
       " (110, 0),\n",
       " (111, 0),\n",
       " (112, 0),\n",
       " (113, 0),\n",
       " (114, 0),\n",
       " (115, 0),\n",
       " (116, 0),\n",
       " (117, 0),\n",
       " (118, 0),\n",
       " (119, 0),\n",
       " (120, 0),\n",
       " (121, 0),\n",
       " (122, 0),\n",
       " (123, 0),\n",
       " (124, 0),\n",
       " (125, 0),\n",
       " (126, 0),\n",
       " (127, 0)]"
      ]
     },
     "execution_count": 5,
     "metadata": {},
     "output_type": "execute_result"
    }
   ],
   "source": [
    "user_id = 1\n",
    "pages_you_might_like(user_id, data)"
   ]
  }
 ],
 "metadata": {
  "kernelspec": {
   "display_name": "Python [conda env:base] *",
   "language": "python",
   "name": "conda-base-py"
  },
  "language_info": {
   "codemirror_mode": {
    "name": "ipython",
    "version": 3
   },
   "file_extension": ".py",
   "mimetype": "text/x-python",
   "name": "python",
   "nbconvert_exporter": "python",
   "pygments_lexer": "ipython3",
   "version": "3.12.7"
  }
 },
 "nbformat": 4,
 "nbformat_minor": 5
}
