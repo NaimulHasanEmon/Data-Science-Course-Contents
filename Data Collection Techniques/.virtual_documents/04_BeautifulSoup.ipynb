


from bs4 import BeautifulSoup


with open("htmls/page-1.html") as f:
    content = f.read()


soup = BeautifulSoup(content, "html.parser")


articles = soup.select("article.product_pod")


items = []
for article in articles:
    title = article.find("h3").find("a")["title"]
    price = article.select_one("p.price_color").text.split('£')[1]
    rating_element = article.select_one("p.star-rating")
    rating = rating_element['class'][1]
    items.append([title, price, rating])


items


import pandas as pd


df = pd.DataFrame(items, columns=["Books", "Price", "Rating"])
df


df.to_csv("Data.csv", index=False)
