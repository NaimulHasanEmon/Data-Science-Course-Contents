{
 "cells": [
  {
   "cell_type": "markdown",
   "id": "883ecb6d-26d9-4fa8-ac5c-1658cfc93dbf",
   "metadata": {},
   "source": [
    "# Multidimensional Indexing and Axis in NumPy\n",
    "\n",
    "NumPy allows you to efficiently work with multidimensional arrays, where indexing and axis manipulation play a crucial role. Understanding how indexing works across multiple dimensions is essential for data science and machine learning tasks.\n",
    "\n",
    "---\n",
    "\n",
    "## 1. Understanding Axes in NumPy\n",
    "\n",
    "Each dimension in a NumPy array is called an **axis**. Axes are numbered starting from 0.\n",
    "\n",
    "- **1D array** → 1 axis (`axis 0`)  \n",
    "- **2D array** → 2 axes (`axis 0 = rows`, `axis 1 = columns`)  \n",
    "- **3D array** → 3 axes (`axis 0 = depth`, `axis 1 = rows`, `axis 2 = columns`)  \n",
    "\n",
    "### Example: Axes in a 2D Array\n",
    "\n",
    "```python\n",
    "import numpy as np\n",
    "\n",
    "arr = np.array([[1, 2, 3], \n",
    "                [4, 5, 6], \n",
    "                [7, 8, 9]])\n",
    "\n",
    "print(arr)\n",
    "```\n",
    "\n",
    "**Output:**\n",
    "```\n",
    "[[1 2 3]\n",
    " [4 5 6]\n",
    " [7 8 9]]\n",
    "```\n",
    "\n",
    "- **Axis 0 (rows)** → Operations move down the columns  \n",
    "- **Axis 1 (columns)** → Operations move across the rows  \n",
    "\n",
    "### Summing Along Axes\n",
    "\n",
    "```python\n",
    "print(np.sum(arr, axis=0))  # Sum along rows (down each column)\n",
    "print(np.sum(arr, axis=1))  # Sum along columns (across each row)\n",
    "```\n",
    "\n",
    "**Output:**\n",
    "```\n",
    "[12 15 18]  # Column-wise sum\n",
    "[ 6 15 24]  # Row-wise sum\n",
    "```\n",
    "\n",
    "---\n",
    "\n",
    "## 2. Indexing in Multidimensional Arrays\n",
    "\n",
    "You can access elements using row and column indices.\n",
    "\n",
    "### Accessing an Element\n",
    "\n",
    "```python\n",
    "print(arr[1, 2])  # Row index 1, Column index 2 → Output: 6\n",
    "```\n",
    "\n",
    "### Using Slicing to Extract Subarrays\n",
    "\n",
    "```python\n",
    "print(arr[0:2, 1:3])  # Extracts first 2 rows and last 2 columns\n",
    "```\n",
    "\n",
    "**Output:**\n",
    "```\n",
    "[[2 3]\n",
    " [5 6]]\n",
    "```\n",
    "\n",
    "---\n",
    "\n",
    "## 3. Indexing in 3D Arrays\n",
    "\n",
    "For 3D arrays, the first index refers to the \"depth\" (sheets of data).\n",
    "\n",
    "```python\n",
    "arr3D = np.array([[[1, 2, 3], [4, 5, 6]],\n",
    "                  [[7, 8, 9], [10, 11, 12]]])\n",
    "\n",
    "print(arr3D.shape)  # Output: (2, 2, 3)\n",
    "```\n",
    "\n",
    "### Accessing Elements in 3D\n",
    "\n",
    "```python\n",
    "# First sheet, second row, third column\n",
    "print(arr3D[0, 1, 2])  # Output: 6\n",
    "\n",
    "# Get the first row from both sheets\n",
    "print(arr3D[:, 0, :])\n",
    "```\n",
    "\n",
    "---\n",
    "\n",
    "## 4. Practical Example: Selecting Data Along Axes\n",
    "\n",
    "### Get All Rows of the First Column\n",
    "\n",
    "```python\n",
    "first_col = arr[:, 0]\n",
    "print(first_col)  # Output: [1 4 7]\n",
    "```\n",
    "\n",
    "### Get the First Row from Each \"Sheet\" in a 3D Array\n",
    "\n",
    "```python\n",
    "first_rows = arr3D[:, 0, :]\n",
    "print(first_rows)\n",
    "```\n",
    "\n",
    "**Output:**\n",
    "```\n",
    "[[1 2 3]\n",
    " [7 8 9]]\n",
    "```\n",
    "\n",
    "---\n",
    "\n",
    "## 5. Changing Data Along an Axis\n",
    "\n",
    "### Replace All Elements in Column 1 with 0\n",
    "\n",
    "```python\n",
    "arr[:, 1] = 0\n",
    "print(arr)\n",
    "```\n",
    "\n",
    "**Output:**\n",
    "```\n",
    "[[1 0 3]\n",
    " [4 0 6]\n",
    " [7 0 9]]\n",
    "```\n",
    "\n",
    "---\n",
    "\n",
    "## 6. Summary\n",
    "\n",
    "- `axis 0` = rows (vertical movement)  \n",
    "- `axis 1` = columns (horizontal movement)  \n",
    "- Indexing:\n",
    "  - 2D: `arr[row, column]`\n",
    "  - 3D: `arr[depth, row, column]`\n",
    "- Slicing allows extracting subarrays\n",
    "- Operations along axes help efficiently manipulate data without loops"
   ]
  },
  {
   "cell_type": "code",
   "execution_count": 2,
   "id": "cd909592-6e87-4c6c-9077-b27fb0ff16ef",
   "metadata": {},
   "outputs": [],
   "source": [
    "import numpy as np"
   ]
  },
  {
   "cell_type": "code",
   "execution_count": 3,
   "id": "960a95ee-7f27-4aa9-9fcc-9455c0e159af",
   "metadata": {},
   "outputs": [],
   "source": [
    "arr = np.array([[1, 2, 3], \n",
    "                [4, 5, 6], \n",
    "                [7, 8, 9]])"
   ]
  },
  {
   "cell_type": "code",
   "execution_count": 4,
   "id": "d3961f94-29d6-4eda-bf68-8142e0d4f0ca",
   "metadata": {},
   "outputs": [
    {
     "data": {
      "text/plain": [
       "array([[1, 2, 3],\n",
       "       [4, 5, 6],\n",
       "       [7, 8, 9]])"
      ]
     },
     "execution_count": 4,
     "metadata": {},
     "output_type": "execute_result"
    }
   ],
   "source": [
    "arr"
   ]
  },
  {
   "cell_type": "code",
   "execution_count": 5,
   "id": "efd90185-cf01-4be5-90fd-72230d3f1307",
   "metadata": {},
   "outputs": [
    {
     "data": {
      "text/plain": [
       "array([1, 2, 3])"
      ]
     },
     "execution_count": 5,
     "metadata": {},
     "output_type": "execute_result"
    }
   ],
   "source": [
    "arr[0]"
   ]
  },
  {
   "cell_type": "code",
   "execution_count": 6,
   "id": "dacdd1b8-7ea5-4c2e-9350-0d17d09bb972",
   "metadata": {},
   "outputs": [
    {
     "data": {
      "text/plain": [
       "array([4, 5, 6])"
      ]
     },
     "execution_count": 6,
     "metadata": {},
     "output_type": "execute_result"
    }
   ],
   "source": [
    "arr[1]"
   ]
  },
  {
   "cell_type": "code",
   "execution_count": 7,
   "id": "aa1a2ad1-efec-49e4-871a-0e8b51bdf548",
   "metadata": {},
   "outputs": [
    {
     "data": {
      "text/plain": [
       "array([12, 15, 18])"
      ]
     },
     "execution_count": 7,
     "metadata": {},
     "output_type": "execute_result"
    }
   ],
   "source": [
    "np.sum(arr, axis=0)"
   ]
  },
  {
   "cell_type": "code",
   "execution_count": 8,
   "id": "8fd1d7c0-42ee-46c7-841d-9f8ecabeb413",
   "metadata": {},
   "outputs": [
    {
     "data": {
      "text/plain": [
       "array([ 6, 15, 24])"
      ]
     },
     "execution_count": 8,
     "metadata": {},
     "output_type": "execute_result"
    }
   ],
   "source": [
    "np.sum(arr, axis=1)"
   ]
  },
  {
   "cell_type": "code",
   "execution_count": 9,
   "id": "f8c4d934-2174-4db8-8c14-9ab3d9939bcb",
   "metadata": {},
   "outputs": [
    {
     "data": {
      "text/plain": [
       "array([[1, 2, 3],\n",
       "       [4, 5, 6],\n",
       "       [7, 8, 9]])"
      ]
     },
     "execution_count": 9,
     "metadata": {},
     "output_type": "execute_result"
    }
   ],
   "source": [
    "arr"
   ]
  },
  {
   "cell_type": "code",
   "execution_count": 10,
   "id": "6e05ff68-01b8-438e-8dfb-5d669feea1d1",
   "metadata": {},
   "outputs": [
    {
     "data": {
      "text/plain": [
       "2"
      ]
     },
     "execution_count": 10,
     "metadata": {},
     "output_type": "execute_result"
    }
   ],
   "source": [
    "arr[0][1]"
   ]
  },
  {
   "cell_type": "code",
   "execution_count": 11,
   "id": "08653f47-811a-4b33-b225-9a693207415b",
   "metadata": {},
   "outputs": [
    {
     "data": {
      "text/plain": [
       "2"
      ]
     },
     "execution_count": 11,
     "metadata": {},
     "output_type": "execute_result"
    }
   ],
   "source": [
    "arr[0, 1]"
   ]
  },
  {
   "cell_type": "code",
   "execution_count": 12,
   "id": "9cd359cc-8f33-4c92-b9d6-1e9a9824a461",
   "metadata": {},
   "outputs": [
    {
     "data": {
      "text/plain": [
       "array([[2, 3],\n",
       "       [5, 6]])"
      ]
     },
     "execution_count": 12,
     "metadata": {},
     "output_type": "execute_result"
    }
   ],
   "source": [
    "arr[0:2, 1:]"
   ]
  },
  {
   "cell_type": "code",
   "execution_count": 13,
   "id": "80d309ab-5267-4b0e-9529-045fc872744e",
   "metadata": {},
   "outputs": [],
   "source": [
    "arr3D = np.array([\n",
    "    [[1, 2, 3],\n",
    "     [4, 5, 6]],\n",
    "    \n",
    "    [[7, 8, 9],\n",
    "     [10, 11, 12]]\n",
    "])"
   ]
  },
  {
   "cell_type": "code",
   "execution_count": 14,
   "id": "38fb6649-e2e7-4395-91f9-a7eef6c973df",
   "metadata": {},
   "outputs": [
    {
     "data": {
      "text/plain": [
       "array([[1, 2, 3],\n",
       "       [7, 8, 9]])"
      ]
     },
     "execution_count": 14,
     "metadata": {},
     "output_type": "execute_result"
    }
   ],
   "source": [
    "arr3D[:, 0, :]"
   ]
  },
  {
   "cell_type": "code",
   "execution_count": 15,
   "id": "b7e619c3-0433-442c-a254-74be998d0f30",
   "metadata": {},
   "outputs": [
    {
     "data": {
      "text/plain": [
       "array([1, 7])"
      ]
     },
     "execution_count": 15,
     "metadata": {},
     "output_type": "execute_result"
    }
   ],
   "source": [
    "arr3D[:, 0, 0]"
   ]
  },
  {
   "cell_type": "code",
   "execution_count": 16,
   "id": "bb090ad9-f1a2-410d-9309-f5d170c84d78",
   "metadata": {},
   "outputs": [
    {
     "data": {
      "text/plain": [
       "array([[[ 0,  0,  0],\n",
       "        [ 4,  5,  6]],\n",
       "\n",
       "       [[ 0,  0,  0],\n",
       "        [10, 11, 12]]])"
      ]
     },
     "execution_count": 16,
     "metadata": {},
     "output_type": "execute_result"
    }
   ],
   "source": [
    "# Changing all elements of a specific row or column\n",
    "\n",
    "arr3D[:,0,:] = 0     # Replacing all elements of 0th row with 0 \n",
    "arr3D"
   ]
  }
 ],
 "metadata": {
  "kernelspec": {
   "display_name": "Python [conda env:base] *",
   "language": "python",
   "name": "conda-base-py"
  },
  "language_info": {
   "codemirror_mode": {
    "name": "ipython",
    "version": 3
   },
   "file_extension": ".py",
   "mimetype": "text/x-python",
   "name": "python",
   "nbconvert_exporter": "python",
   "pygments_lexer": "ipython3",
   "version": "3.12.7"
  }
 },
 "nbformat": 4,
 "nbformat_minor": 5
}
