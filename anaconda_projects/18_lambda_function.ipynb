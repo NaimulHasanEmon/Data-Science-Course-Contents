{
 "cells": [
  {
   "cell_type": "code",
   "execution_count": 5,
   "id": "c58505db-c210-4afe-be45-545cd034b5df",
   "metadata": {},
   "outputs": [],
   "source": [
    "cube = lambda x:x**x"
   ]
  },
  {
   "cell_type": "code",
   "execution_count": 7,
   "id": "e229bb5c-1652-4110-836f-c044781109ae",
   "metadata": {},
   "outputs": [
    {
     "data": {
      "text/plain": [
       "27"
      ]
     },
     "execution_count": 7,
     "metadata": {},
     "output_type": "execute_result"
    }
   ],
   "source": [
    "cube(3)"
   ]
  },
  {
   "cell_type": "code",
   "execution_count": 9,
   "id": "996ad0ae-f5df-4b6b-98b8-8326242009a9",
   "metadata": {},
   "outputs": [],
   "source": [
    "sum = lambda a, b: a + b"
   ]
  },
  {
   "cell_type": "code",
   "execution_count": 11,
   "id": "7f89c6b3-ab9e-455c-8d26-2c07915a4197",
   "metadata": {},
   "outputs": [
    {
     "data": {
      "text/plain": [
       "7"
      ]
     },
     "execution_count": 11,
     "metadata": {},
     "output_type": "execute_result"
    }
   ],
   "source": [
    "sum(3, 4)"
   ]
  },
  {
   "cell_type": "code",
   "execution_count": null,
   "id": "014a6ed6-cc65-430d-a01e-f91f71c0cf7b",
   "metadata": {},
   "outputs": [],
   "source": []
  }
 ],
 "metadata": {
  "kernelspec": {
   "display_name": "Python [conda env:base] *",
   "language": "python",
   "name": "conda-base-py"
  },
  "language_info": {
   "codemirror_mode": {
    "name": "ipython",
    "version": 3
   },
   "file_extension": ".py",
   "mimetype": "text/x-python",
   "name": "python",
   "nbconvert_exporter": "python",
   "pygments_lexer": "ipython3",
   "version": "3.12.7"
  }
 },
 "nbformat": 4,
 "nbformat_minor": 5
}
