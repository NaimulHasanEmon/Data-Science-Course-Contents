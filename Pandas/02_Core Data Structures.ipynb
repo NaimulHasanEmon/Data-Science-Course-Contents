{
 "cells": [
  {
   "cell_type": "markdown",
   "id": "88702ca4-c854-4a4c-bf6e-05e04ed267a4",
   "metadata": {},
   "source": [
    "# Core Data Structures in Pandas\n",
    "\n",
    "Pandas is built on two main data structures:\n",
    "\n",
    "- **Series** → One-dimensional (like a single column in Excel)  \n",
    "- **DataFrame** → Two-dimensional (like a full spreadsheet or SQL table)\n",
    "\n",
    "---\n",
    "\n",
    "## Series — 1D Labeled Array\n",
    "\n",
    "A Series is like a list with labels (index).\n",
    "\n",
    "```python\n",
    "import pandas as pd\n",
    "\n",
    "s = pd.Series([10, 20, 30, 40])\n",
    "print(s)\n",
    "```\n",
    "\n",
    "**Output:**\n",
    "```\n",
    "0    10\n",
    "1    20\n",
    "2    30\n",
    "3    40\n",
    "dtype: int64\n",
    "```\n",
    "\n",
    "Notice the automatic index: `0, 1, 2, 3`\n",
    "\n",
    "You can also define a custom index:\n",
    "\n",
    "```python\n",
    "s = pd.Series([10, 20, 30], index=[\"a\", \"b\", \"c\"])\n",
    "```\n",
    "\n",
    "---\n",
    "\n",
    "## DataFrame — 2D Labeled Table\n",
    "\n",
    "A DataFrame is like a dictionary of Series — multiple columns with labels.\n",
    "\n",
    "```python\n",
    "data = {\n",
    "    \"name\": [\"Alice\", \"Bob\", \"Charlie\"],\n",
    "    \"age\": [25, 30, 35],\n",
    "    \"city\": [\"Dhaka\", \"Bogura\", \"Chattogram\"]\n",
    "}\n",
    "\n",
    "df = pd.DataFrame(data)\n",
    "print(df)\n",
    "```\n",
    "\n",
    "**Output:**\n",
    "```\n",
    "     name  age      city\n",
    "0   Alice   25     Delhi\n",
    "1     Bob   30    Mumbai\n",
    "2  Charlie   35  Bangalore\n",
    "```\n",
    "\n",
    "Each column in a DataFrame is a Series.\n",
    "\n",
    "---\n",
    "\n",
    "## Index and Labels\n",
    "\n",
    "Every **Series** and **DataFrame** has an **Index** — it helps with:\n",
    "\n",
    "- Fast lookups  \n",
    "- Aligning data  \n",
    "- Merging & joining  \n",
    "- Time series operations  \n",
    "\n",
    "```python\n",
    "df.index     # Row labels\n",
    "df.columns   # Column labels\n",
    "```\n",
    "\n",
    "You can change them using:\n",
    "\n",
    "```python\n",
    "df.index = [\"a\", \"b\", \"c\"]\n",
    "df.columns = [\"Name\", \"Age\", \"City\"]\n",
    "```\n",
    "\n",
    "---\n",
    "\n",
    "## Why Learn These Well?\n",
    "\n",
    "Most Pandas operations are built on these foundations:\n",
    "\n",
    "- Selection  \n",
    "- Filtering  \n",
    "- Merging  \n",
    "- Aggregation  \n",
    "\n",
    "Understanding **Series** & **DataFrames** will make everything else easier.\n",
    "\n",
    "---\n",
    "\n",
    "## Summary\n",
    "\n",
    "- `Series` = 1D array with labels  \n",
    "- `DataFrame` = 2D table with rows + columns  \n",
    "- Both come with **index** and are the heart of **Pandas**"
   ]
  },
  {
   "cell_type": "code",
   "execution_count": 2,
   "id": "b7d901d1-745e-49f0-a747-3ad56ce16474",
   "metadata": {},
   "outputs": [],
   "source": [
    "import pandas as pd"
   ]
  },
  {
   "cell_type": "code",
   "execution_count": 3,
   "id": "d60e9053-f8dc-4acd-99d0-40257280be9f",
   "metadata": {},
   "outputs": [],
   "source": [
    "s1 = pd.Series([78, 69, 83, 91, 85])"
   ]
  },
  {
   "cell_type": "code",
   "execution_count": 4,
   "id": "1638e5cd-8b8d-468c-9074-3ba97bf4f05e",
   "metadata": {},
   "outputs": [
    {
     "data": {
      "text/plain": [
       "0    78\n",
       "1    69\n",
       "2    83\n",
       "3    91\n",
       "4    85\n",
       "dtype: int64"
      ]
     },
     "execution_count": 4,
     "metadata": {},
     "output_type": "execute_result"
    }
   ],
   "source": [
    "s1"
   ]
  },
  {
   "cell_type": "code",
   "execution_count": 5,
   "id": "5c348e90-7182-43d4-a90a-ea0bff4dcf87",
   "metadata": {},
   "outputs": [
    {
     "data": {
      "text/plain": [
       "pandas.core.series.Series"
      ]
     },
     "execution_count": 5,
     "metadata": {},
     "output_type": "execute_result"
    }
   ],
   "source": [
    "type(s1)"
   ]
  },
  {
   "cell_type": "code",
   "execution_count": 6,
   "id": "7a2be9d2-a1a0-4d20-b287-5a5695b261e5",
   "metadata": {},
   "outputs": [],
   "source": [
    "s2 = pd.Series([78, 69, 83, 91, 85], index=[\"Emon\", \"Naimul\", \"Hasan\", \"Tasnim\", \"Bindu\"])"
   ]
  },
  {
   "cell_type": "code",
   "execution_count": 7,
   "id": "56b1f028-938d-42e5-ad2a-629bcc2070a2",
   "metadata": {},
   "outputs": [
    {
     "data": {
      "text/plain": [
       "Emon      78\n",
       "Naimul    69\n",
       "Hasan     83\n",
       "Tasnim    91\n",
       "Bindu     85\n",
       "dtype: int64"
      ]
     },
     "execution_count": 7,
     "metadata": {},
     "output_type": "execute_result"
    }
   ],
   "source": [
    "s2"
   ]
  },
  {
   "cell_type": "code",
   "execution_count": 8,
   "id": "5416a61f-63ff-4000-8b97-37bfa0dab2b4",
   "metadata": {},
   "outputs": [
    {
     "data": {
      "text/plain": [
       "83"
      ]
     },
     "execution_count": 8,
     "metadata": {},
     "output_type": "execute_result"
    }
   ],
   "source": [
    "s2[\"Hasan\"]"
   ]
  },
  {
   "cell_type": "code",
   "execution_count": 9,
   "id": "5654c9ed-2897-4c8e-b5e9-a5f55ebf6c43",
   "metadata": {},
   "outputs": [
    {
     "data": {
      "text/plain": [
       "91"
      ]
     },
     "execution_count": 9,
     "metadata": {},
     "output_type": "execute_result"
    }
   ],
   "source": [
    "s2[\"Tasnim\"]"
   ]
  },
  {
   "cell_type": "code",
   "execution_count": 10,
   "id": "5c4aa587-1398-4056-9d7f-689a6b9ea532",
   "metadata": {},
   "outputs": [],
   "source": [
    "data = {\n",
    "    \"name\": [\"Alice\", \"Bob\", \"Charlie\"],\n",
    "    \"age\": [25, 30, 35],\n",
    "    \"city\": [\"Dhaka\", \"Bogura\", \"Chattogram\"]\n",
    "}"
   ]
  },
  {
   "cell_type": "code",
   "execution_count": 11,
   "id": "c17d6ced-aa3f-4b0e-b93f-ebe94f58038c",
   "metadata": {},
   "outputs": [
    {
     "data": {
      "text/html": [
       "<div>\n",
       "<style scoped>\n",
       "    .dataframe tbody tr th:only-of-type {\n",
       "        vertical-align: middle;\n",
       "    }\n",
       "\n",
       "    .dataframe tbody tr th {\n",
       "        vertical-align: top;\n",
       "    }\n",
       "\n",
       "    .dataframe thead th {\n",
       "        text-align: right;\n",
       "    }\n",
       "</style>\n",
       "<table border=\"1\" class=\"dataframe\">\n",
       "  <thead>\n",
       "    <tr style=\"text-align: right;\">\n",
       "      <th></th>\n",
       "      <th>name</th>\n",
       "      <th>age</th>\n",
       "      <th>city</th>\n",
       "    </tr>\n",
       "  </thead>\n",
       "  <tbody>\n",
       "    <tr>\n",
       "      <th>0</th>\n",
       "      <td>Alice</td>\n",
       "      <td>25</td>\n",
       "      <td>Dhaka</td>\n",
       "    </tr>\n",
       "    <tr>\n",
       "      <th>1</th>\n",
       "      <td>Bob</td>\n",
       "      <td>30</td>\n",
       "      <td>Bogura</td>\n",
       "    </tr>\n",
       "    <tr>\n",
       "      <th>2</th>\n",
       "      <td>Charlie</td>\n",
       "      <td>35</td>\n",
       "      <td>Chattogram</td>\n",
       "    </tr>\n",
       "  </tbody>\n",
       "</table>\n",
       "</div>"
      ],
      "text/plain": [
       "      name  age        city\n",
       "0    Alice   25       Dhaka\n",
       "1      Bob   30      Bogura\n",
       "2  Charlie   35  Chattogram"
      ]
     },
     "execution_count": 11,
     "metadata": {},
     "output_type": "execute_result"
    }
   ],
   "source": [
    "df = pd.DataFrame(data)\n",
    "df"
   ]
  },
  {
   "cell_type": "code",
   "execution_count": 12,
   "id": "6a5d30c7-f96a-43a5-8fa1-45267705d8db",
   "metadata": {},
   "outputs": [
    {
     "data": {
      "text/plain": [
       "RangeIndex(start=0, stop=3, step=1)"
      ]
     },
     "execution_count": 12,
     "metadata": {},
     "output_type": "execute_result"
    }
   ],
   "source": [
    "df.index"
   ]
  },
  {
   "cell_type": "code",
   "execution_count": 13,
   "id": "7a0fd74c-a8cb-44f8-bf64-679beec11197",
   "metadata": {},
   "outputs": [
    {
     "data": {
      "text/plain": [
       "Index(['name', 'age', 'city'], dtype='object')"
      ]
     },
     "execution_count": 13,
     "metadata": {},
     "output_type": "execute_result"
    }
   ],
   "source": [
    "df.columns"
   ]
  }
 ],
 "metadata": {
  "kernelspec": {
   "display_name": "Python [conda env:base] *",
   "language": "python",
   "name": "conda-base-py"
  },
  "language_info": {
   "codemirror_mode": {
    "name": "ipython",
    "version": 3
   },
   "file_extension": ".py",
   "mimetype": "text/x-python",
   "name": "python",
   "nbconvert_exporter": "python",
   "pygments_lexer": "ipython3",
   "version": "3.12.7"
  }
 },
 "nbformat": 4,
 "nbformat_minor": 5
}
