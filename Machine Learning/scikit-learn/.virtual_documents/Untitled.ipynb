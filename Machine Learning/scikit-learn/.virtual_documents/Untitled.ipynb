


import pandas as pd


data = pd.read_csv("xlsx/California Housing Prices/housing.csv")


data


data.head()


data.tail()


data.info()


data['ocean_proximity'].value_counts()


data.describe()


import matplotlib.pyplot as plt



