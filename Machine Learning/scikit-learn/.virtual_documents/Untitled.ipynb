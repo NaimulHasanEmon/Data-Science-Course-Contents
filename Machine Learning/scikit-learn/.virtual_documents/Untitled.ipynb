


from sklearn.tree import DecisionTreeClassifier


features = [[150, 0],
           [170, 0],
           [130, 1],
            [120, 1]]


labels = ["apple", "apple", "orange", "orange"]


clf = DecisionTreeClassifier()


clf = clf.fit(features, labels)


prediction = clf.predict([[150, 1], [34, 0]])


for i in range(len(prediction)):
    print(f'The fruit is {prediction[i]}')



