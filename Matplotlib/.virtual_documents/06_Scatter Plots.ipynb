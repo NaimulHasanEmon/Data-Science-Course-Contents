


import matplotlib.pyplot as plt


study_hours = [1, 2, 3, 4, 5, 6, 7, 8, 9]
exam_scores = [40, 45, 85, 55, 60, 35, 75, 85, 90]


colors = ['red' if score < 60 else 'green' for score in exam_scores]
sizes = [score*2 for score in exam_scores]

plt.scatter(study_hours, exam_scores, c=colors, s=sizes)
plt.grid(True)
plt.xlabel("Study Hours")
plt.ylabel("Exam Scores")
plt.title("Study Hours Vs Marks")


plt.scatter(study_hours, exam_scores, c=exam_scores, cmap='viridis')
plt.grid(True)

for i in range(len(study_hours)):
    plt.annotate(f'S{i+1}', (study_hours[i], exam_scores[i] - 2.7))

plt.colorbar(label="Score")
plt.xlabel("Study Hours")
plt.ylabel("Exam Scores")
plt.title("Study Hours Vs Marks")


class_a_hours = [2, 4, 6, 8]
class_a_scores = [45, 55, 65, 85]

class_b_hours = [1, 3, 5, 7, 9]
class_b_scores = [40, 50, 60, 70, 90]

plt.scatter(class_a_hours, class_a_scores, label="A")
plt.scatter(class_b_hours, class_b_scores, label="B")

plt.grid(True)
plt.xlabel("Hours")
plt.ylabel("Scores")
plt.title("Class A Vs Class B")
plt.legend()
