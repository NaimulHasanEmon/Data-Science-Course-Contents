


import pandas as pd


df = pd.read_csv("data2.csv")


df


df["Actor"]


df["Actor"][0]


type(df["Actor"])


df[["Actor", "IMDb"]]


df.loc[1]        # Shows result by the label name. If the label name were with a, b, c.... then we would use a, b, c.....


df.iloc[1]       # Shows result by the row number


df.loc[8, 'IMDb']       # for getting specific infor of that pertucular row column


df.iloc[8]              # for getting all the informationons of row 8


df.iloc[8, 5]          # 8 is the index of row and 5 is the index of column


df.loc[:2, ["Actor", "Film", "IMDb"]]


df.at[0, "Actor"]


df.iat[0, 0]


df[df["IMDb"] > 7]


df[df["IMDb"] > 7]["Actor"]


df[(df["IMDb"] > 7) & (df["Year"] > 2018)]


df.query("Year > 2018 and IMDb > 7")



