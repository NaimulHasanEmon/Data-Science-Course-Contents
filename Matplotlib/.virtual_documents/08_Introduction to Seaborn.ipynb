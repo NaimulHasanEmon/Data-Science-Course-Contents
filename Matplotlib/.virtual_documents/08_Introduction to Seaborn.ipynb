


import seaborn as sns
import numpy as np


sns.set_theme(style='darkgrid')


x = np.array([0, 2, 3, 4, 5, 6, 7, 8, 9, 10, 60])


y = np.sin(x)


sns.lineplot(x=x, y=y)
