


import numpy as np


arr = [1, 2, 3, 4, 5]
res = []

for i in arr:
    res.append(i**2)

print(res)


arr = np.array([1, 2, 3, 4, 5])
result = arr**2
print(result)


result + 10


arr1 = np.array([[1, 2, 3], [4, 5, 6]])
arr2 = np.array([1, 2, 3])
res = arr1 + arr2         # Broadcasting arr2 across arr1
print(res)
