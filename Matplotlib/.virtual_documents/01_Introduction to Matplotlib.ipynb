


import matplotlib.pyplot as plt


plt.plot([1, 2, 3], [4, 5, 6])


years = [1990, 1992, 1994, 1996, 1998, 2000, 2003, 2005, 2007, 2010]
runs =  [500, 700, 1100, 1500, 1800, 1200, 1700, 1300, 900, 1500]

plt.plot(years, runs)


plt.plot(years, runs)
plt.xlabel("Years")
plt.ylabel("Runs")
plt.title("Sachin Tendulkar's yearly runs")


kohli = [0, 0, 500, 800, 1100, 1300, 1500, 1800, 1900, 2100]
sehwag = [0, 300, 800, 1200, 1500, 1700, 1600, 1400, 1000, 0]

plt.plot(years, kohli, label="Viral Kohli")
plt.plot(years, sehwag, label="Virender Sehwag")

plt.xlabel("Years")
plt.ylabel("Runs")
plt.title("Performance comparison")
plt.legend()


plt.plot(years, kohli, 'ro--', label="Kohli")  # red circles with dashed lines
plt.plot(years, sehwag, 'g^:', label="Sehwag")  # green triangles dotted
plt.legend()


plt.plot(years, kohli, 'rX-', label="Kholi")
plt.plot(years, sehwag, 'gD-.', label="Sehwag")
plt.legend()


plt.plot(years, kohli, color='orange', linestyle='--', linewidth=3, label="Kohli")
plt.plot(years, sehwag, color='green', linestyle='-.', label="Sehwag")
plt.plot(years, runs, color='blue', label="Tendulkar")

plt.tight_layout()
plt.grid(True)

plt.legend()
plt.xlabel("Year")
plt.ylabel("Runs")
plt.title("Performance Comparison")


plt.style.available


plt.style.use('ggplot')


plt.plot(years, kohli, color='orange', linestyle='--', linewidth=3, label="Kohli")
plt.plot(years, sehwag, color='green', linestyle='-.', label="Sehwag")
plt.plot(years, runs, color='blue', label="Tendulkar")

plt.tight_layout()
plt.grid(True)

plt.legend()
plt.xlabel("Year")
plt.ylabel("Runs")
plt.title("Performance Comparison")


# For Comic style plot, use xkcd

with plt.xkcd():
    plt.plot(years, kohli, color='orange', linestyle='--', linewidth=3, label="Kohli")
    plt.plot(years, sehwag, color='green', linestyle='-.', label="Sehwag")
    plt.plot(years, runs, color='blue', label="Tendulkar")
    
    plt.tight_layout()
    plt.grid(True)
    
    plt.legend()
    plt.xlabel("Year")
    plt.ylabel("Runs")
    plt.title("Performance Comparison")


import numpy as np

for i in range(5):
    plt.plot(np.random.rand(100), linewidth=1)

plt.title("Too Much Data Can Be Confusing!")
plt.grid(True)
plt.tight_layout()
plt.show()





Kohli = [0, 0, 500, 800, 1100, 1300, 1500, 1800, 1900, 2100]
Sehwag = [0, 300, 800, 1200, 1500, 1700, 1600, 1400, 1000, 0]
Rohit = [0, 200, 600, 1100, 1300, 1400, 1600, 1700, 1800, 2200]
years = [1990, 1992, 1994, 1996, 1998, 2000, 2003, 2005, 2007, 2010]

plt.plot(years, Kohli, color='green', linestyle=':', label='Kohli')
plt.plot(years, Sehwag, color='blue', linestyle='-.', label='Sehwag')
plt.plot(years, Rohit, color='orange', linestyle='--', label='Rohit')

plt.style.use('ggplot')
plt.tight_layout()
plt.legend()


with plt.xkcd():
    Kohli = [0, 0, 500, 800, 1100, 1300, 1500, 1800, 1900, 2100]
    Sehwag = [0, 300, 800, 1200, 1500, 1700, 1600, 1400, 1000, 0]
    Rohit = [0, 200, 600, 1100, 1300, 1400, 1600, 1700, 1800, 2200]
    years = [1990, 1992, 1994, 1996, 1998, 2000, 2003, 2005, 2007, 2010]
    
    plt.plot(years, Kohli, color='green', linestyle=':', label='Kohli')
    plt.plot(years, Sehwag, color='blue', linestyle='-.', label='Sehwag')
    plt.plot(years, Rohit, color='orange', linestyle='--', label='Rohit')
    
    plt.style.use('ggplot')
    plt.tight_layout()
    plt.legend()
