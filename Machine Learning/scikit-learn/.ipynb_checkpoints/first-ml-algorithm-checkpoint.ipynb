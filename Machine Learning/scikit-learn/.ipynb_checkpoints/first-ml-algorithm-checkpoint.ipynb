{
 "cells": [
  {
   "cell_type": "markdown",
   "id": "4fcb9d0c-9b62-4415-91fc-8fccc9d071cd",
   "metadata": {},
   "source": [
    "# 🍎🍊 Our First Machine Learning Model Using Scikit-learn\n",
    "\n",
    "Welcome to your first machine learning project! In just a few minutes, we'll train a model that can predict whether a fruit is an **apple** or an **orange** based on its **weight** and **color**.\n",
    "\n",
    "---\n",
    "\n",
    "## 🛠 Step 1: Installing Scikit-learn\n",
    "\n",
    "Open your terminal, Jupyter Notebook, or Google Colab and run:\n",
    "\n",
    "```bash\n",
    "pip install scikit-learn\n",
    "```\n",
    "\n",
    "Or in **Google Colab**, use:\n",
    "\n",
    "```python\n",
    "!pip install scikit-learn\n",
    "```\n",
    "\n",
    "---\n",
    "\n",
    "## 🚀 Step 2: Build Your First ML Model (in 5 Minutes!)\n",
    "\n",
    "### 🧠 The Idea\n",
    "\n",
    "We want to answer:\n",
    "**\"Can we predict if a fruit is an apple or an orange?\"**\n",
    "\n",
    "Assumptions:\n",
    "\n",
    "* **Apples** tend to be **heavy** and **red**\n",
    "* **Oranges** tend to be **lighter** and **orange-colored**\n",
    "\n",
    "Let’s train a machine to **learn** this pattern instead of writing manual rules!\n",
    "\n",
    "---\n",
    "\n",
    "### 🧪 Code Example\n",
    "\n",
    "```python\n",
    "from sklearn import tree\n",
    "\n",
    "# Step 1: Collect Data\n",
    "# Features: [weight in grams, color (0 = red, 1 = orange)]\n",
    "features = [\n",
    "    [150, 0],  # Apple\n",
    "    [170, 0],  # Apple\n",
    "    [130, 1],  # Orange\n",
    "    [120, 1],  # Orange\n",
    "]\n",
    "labels = [\"apple\", \"apple\", \"orange\", \"orange\"]\n",
    "\n",
    "# Step 2: Train the model\n",
    "clf = tree.DecisionTreeClassifier()\n",
    "clf = clf.fit(features, labels)\n",
    "\n",
    "# Step 3: Make Predictions!\n",
    "print(clf.predict([[160, 0]]))  # Expecting 'apple'\n",
    "print(clf.predict([[115, 1]]))  # Expecting 'orange'\n",
    "```\n",
    "\n",
    "---\n",
    "\n",
    "## ✅ What We Learned\n",
    "\n",
    "* We just **taught a computer** to recognize fruits!\n",
    "* It looked at **weight** and **color** to decide.\n",
    "* We didn't write any `if-else` rules – it learned from data!\n",
    "* That’s **Machine Learning** in action! 🚀\n",
    "\n",
    "---\n",
    "\n",
    "## 🧪 Step 3: Test Your Model\n",
    "\n",
    "Try different values and test how the model responds:\n",
    "\n",
    "```python\n",
    "print(clf.predict([[140, 1]]))  # What do you think?\n",
    "print(clf.predict([[180, 0]]))  # Big and red?\n",
    "print(clf.predict([[100, 1]]))  # Small and orange?\n",
    "```\n",
    "\n",
    "---\n",
    "\n",
    "## 🌳 Visualize the Decision Tree\n",
    "\n",
    "Make your model more understandable by visualizing the decision process:\n",
    "\n",
    "```python\n",
    "from sklearn.tree import plot_tree\n",
    "import matplotlib.pyplot as plt\n",
    "\n",
    "plt.figure(figsize=(10, 6))\n",
    "plot_tree(clf, feature_names=[\"weight\", \"color\"], class_names=[\"apple\", \"orange\"], filled=True)\n",
    "plt.show()\n",
    "```\n",
    "\n",
    "---\n",
    "\n",
    "## 🎉 You're Done!\n",
    "\n",
    "You've built and trained your very first machine learning model using Scikit-learn.\n",
    "\n",
    "👏 Congrats!\n",
    "Now go ahead and try different fruits, features, or models!"
   ]
  },
  {
   "cell_type": "code",
   "execution_count": 3,
   "id": "8b6c42c0-8ce2-4061-a604-0c971ca6034b",
   "metadata": {},
   "outputs": [],
   "source": [
    "from sklearn.tree import DecisionTreeClassifier"
   ]
  },
  {
   "cell_type": "code",
   "execution_count": 5,
   "id": "2a5f311b-a861-4471-ae62-8c13607fcd04",
   "metadata": {},
   "outputs": [],
   "source": [
    "features = [[150, 0],\n",
    "           [170, 0],\n",
    "           [130, 1],\n",
    "            [120, 1]]"
   ]
  },
  {
   "cell_type": "code",
   "execution_count": 7,
   "id": "4392c09f-0980-42af-bcb8-f96947f17af4",
   "metadata": {},
   "outputs": [],
   "source": [
    "labels = [\"apple\", \"apple\", \"orange\", \"orange\"]"
   ]
  },
  {
   "cell_type": "code",
   "execution_count": 9,
   "id": "8e98db3c-01fd-40e7-a42f-3dfc22370b35",
   "metadata": {},
   "outputs": [],
   "source": [
    "clf = DecisionTreeClassifier()"
   ]
  },
  {
   "cell_type": "code",
   "execution_count": 11,
   "id": "725347e2-0adf-422e-bbd1-f3ae3225cffb",
   "metadata": {},
   "outputs": [],
   "source": [
    "clf = clf.fit(features, labels)"
   ]
  },
  {
   "cell_type": "code",
   "execution_count": 21,
   "id": "b6886eb1-c3ae-49a0-a643-cf8186cdf0fc",
   "metadata": {},
   "outputs": [
    {
     "data": {
      "text/plain": [
       "array(['apple', 'orange'], dtype='<U6')"
      ]
     },
     "execution_count": 21,
     "metadata": {},
     "output_type": "execute_result"
    }
   ],
   "source": [
    "clf.predict([[150, 1], [34, 0]])"
   ]
  }
 ],
 "metadata": {
  "kernelspec": {
   "display_name": "Python [conda env:base] *",
   "language": "python",
   "name": "conda-base-py"
  },
  "language_info": {
   "codemirror_mode": {
    "name": "ipython",
    "version": 3
   },
   "file_extension": ".py",
   "mimetype": "text/x-python",
   "name": "python",
   "nbconvert_exporter": "python",
   "pygments_lexer": "ipython3",
   "version": "3.12.7"
  }
 },
 "nbformat": 4,
 "nbformat_minor": 5
}
