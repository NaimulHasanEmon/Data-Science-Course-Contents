


import pandas as pd


data = [["Emon", 87], ["Naimul", 83], ["Hasan", 80]]


data


pd.DataFrame(data, columns=["Name", "Marks"])


data = {"a": [1, 4, 7], "b": [56, 35, 59]}


data


df = pd.DataFrame(data)
df


import numpy as np


arr = np.array([[1, 2], [5, 6]])
arr


df = pd.DataFrame(arr, columns=["A", "B"])
df


df = pd.read_excel("data.xlsx")
df


df = pd.read_csv("data.csv")
df


df = pd.read_json("data.json")
df


df = pd.read_csv("https://raw.githubusercontent.com/mwaskom/seaborn-data/master/tips.csv")
df


df.head()          # Will show the first 5 rows of the dataset


df.tail()          # Will show the last 5 rows of the dataset


df.info()


df.describe()


df.columns


df.shape
