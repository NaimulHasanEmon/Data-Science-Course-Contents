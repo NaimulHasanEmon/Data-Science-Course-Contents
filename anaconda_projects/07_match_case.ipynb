{
 "cells": [
  {
   "cell_type": "code",
   "execution_count": 5,
   "id": "f75b72d6-97fd-4aef-a5bf-c3c278c34be2",
   "metadata": {},
   "outputs": [],
   "source": [
    "code = 400"
   ]
  },
  {
   "cell_type": "code",
   "execution_count": 7,
   "id": "7c284596-fcc9-4878-89ea-402b2cd54692",
   "metadata": {},
   "outputs": [
    {
     "name": "stdout",
     "output_type": "stream",
     "text": [
      "Bad Request\n",
      "End of Program\n"
     ]
    }
   ],
   "source": [
    "match code:\n",
    "    case 200:\n",
    "        print(\"OK\")\n",
    "    case 400:\n",
    "        print(\"Bad Request\")\n",
    "    case 404:\n",
    "        print(\"Not Found\")\n",
    "print(\"End of Program\")"
   ]
  },
  {
   "cell_type": "code",
   "execution_count": null,
   "id": "331b8168-7f71-4d44-93a4-aae78649cd6e",
   "metadata": {},
   "outputs": [],
   "source": []
  }
 ],
 "metadata": {
  "kernelspec": {
   "display_name": "Python [conda env:base] *",
   "language": "python",
   "name": "conda-base-py"
  },
  "language_info": {
   "codemirror_mode": {
    "name": "ipython",
    "version": 3
   },
   "file_extension": ".py",
   "mimetype": "text/x-python",
   "name": "python",
   "nbconvert_exporter": "python",
   "pygments_lexer": "ipython3",
   "version": "3.12.7"
  }
 },
 "nbformat": 4,
 "nbformat_minor": 5
}
