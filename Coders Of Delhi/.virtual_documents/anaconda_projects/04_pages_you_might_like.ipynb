import json


def load_file(loadfile):
    with open(loadfile, 'r') as f:
        data = json.load(f)
    return data


data = load_file("data.json")
data


# Function to find pages a user might like based on common interest
def pages_you_might_like(user_id, data):
    # Dictionary to store user interactions with pages
    user_pages = {}
    for user in data["users"]:
        user_pages[user["id"]] = set(user["liked_pages"])
    print(user_pages)

    # If the user is not found, return an empty list
    if user_id not in user_pages:
        return []

    user_liked_pages = user_pages[user_id]


user_id = 1
pages_you_might_like(user_id, data)



