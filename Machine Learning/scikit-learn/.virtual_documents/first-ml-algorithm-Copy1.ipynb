from sklearn.ensemble import RandomForestClassifier


features = [[150, 0],
           [170, 0],
           [130, 1],
            [120, 1]]


labels = ["apple", "apple", "orange", "orange"]


clf = RandomForestClassifier()


clf = clf.fit(features, labels)


prediction = clf.predict([[150, 1], [34, 0]])


for i in range(len(prediction)):
    print(f'The {i+1} number fruit is {prediction[i]}')
