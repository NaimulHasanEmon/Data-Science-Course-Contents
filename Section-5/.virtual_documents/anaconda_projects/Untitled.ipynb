


import numpy as np


arr = np.array([1, 2, 3, 4, 5])


arr.dtype


arr.astype("float64")


arr2 = arr.astype("int64")


arr.nbytes        # Memory uses


arr2.nbytes       # Memory uses
