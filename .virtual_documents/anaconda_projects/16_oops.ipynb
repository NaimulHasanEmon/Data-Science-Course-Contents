class Employee:
    company = "HP"
    def __init__(self, name, salary):
        self.name = name
        self.salary = salary

    def printDetails(self):
        print(f"The company of {self.name} is {self.company} with salary ${self.salary}")

    @staticmethod
    def printTime():
        print(f"The time is now")

    @classmethod
    def printClassDetails(cls):
        print(f"The company is {cls.company}")

e = Employee("Emon", 47000)
e.printDetails()
e.printTime()
e.printClassDetails()
