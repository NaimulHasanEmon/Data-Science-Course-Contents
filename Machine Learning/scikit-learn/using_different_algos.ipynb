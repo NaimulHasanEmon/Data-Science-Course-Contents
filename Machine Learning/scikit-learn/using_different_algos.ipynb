{
 "cells": [
  {
   "cell_type": "code",
   "execution_count": null,
   "id": "8b6c42c0-8ce2-4061-a604-0c971ca6034b",
   "metadata": {},
   "outputs": [],
   "source": [
    "from sklearn.ensemble import RandomForestClassifier"
   ]
  },
  {
   "cell_type": "code",
   "execution_count": null,
   "id": "2a5f311b-a861-4471-ae62-8c13607fcd04",
   "metadata": {},
   "outputs": [],
   "source": [
    "features = [[150, 0],\n",
    "           [170, 0],\n",
    "           [130, 1],\n",
    "            [120, 1]]"
   ]
  },
  {
   "cell_type": "code",
   "execution_count": null,
   "id": "4392c09f-0980-42af-bcb8-f96947f17af4",
   "metadata": {},
   "outputs": [],
   "source": [
    "labels = [\"apple\", \"apple\", \"orange\", \"orange\"]"
   ]
  },
  {
   "cell_type": "code",
   "execution_count": null,
   "id": "8e98db3c-01fd-40e7-a42f-3dfc22370b35",
   "metadata": {},
   "outputs": [],
   "source": [
    "clf = RandomForestClassifier()"
   ]
  },
  {
   "cell_type": "code",
   "execution_count": null,
   "id": "725347e2-0adf-422e-bbd1-f3ae3225cffb",
   "metadata": {},
   "outputs": [],
   "source": [
    "clf = clf.fit(features, labels)"
   ]
  },
  {
   "cell_type": "code",
   "execution_count": null,
   "id": "b6886eb1-c3ae-49a0-a643-cf8186cdf0fc",
   "metadata": {},
   "outputs": [],
   "source": [
    "prediction = clf.predict([[150, 1], [34, 0]])"
   ]
  },
  {
   "cell_type": "code",
   "execution_count": null,
   "id": "bccb4b96-5335-4cb8-9ee7-a97a9fcf4745",
   "metadata": {},
   "outputs": [],
   "source": [
    "for i in range(len(prediction)):\n",
    "    print(f'The {i+1} number fruit is {prediction[i]}')"
   ]
  }
 ],
 "metadata": {
  "kernelspec": {
   "display_name": "Python [conda env:base] *",
   "language": "python",
   "name": "conda-base-py"
  },
  "language_info": {
   "codemirror_mode": {
    "name": "ipython",
    "version": 3
   },
   "file_extension": ".py",
   "mimetype": "text/x-python",
   "name": "python",
   "nbconvert_exporter": "python",
   "pygments_lexer": "ipython3",
   "version": "3.12.7"
  }
 },
 "nbformat": 4,
 "nbformat_minor": 5
}
