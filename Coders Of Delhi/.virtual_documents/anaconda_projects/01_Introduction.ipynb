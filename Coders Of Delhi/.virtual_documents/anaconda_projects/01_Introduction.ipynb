


import json


#Let's write a function to load the data
def load_data(filename):
    with open(filename, 'r') as f:
        data = json.load(f)
    return data


data = load_data("data.json")


data


type(data)


# Write a function to display users and their connections
def display_users(data):
    print("Users and their connections:\n")
    for user in data['users']:
        print(f"{user['name']} is friends with: {user['friends']} and liked pages are: {user['liked_pages']}")

    print('\nFriends Informations:')
    for user in data['users']:
        print(f"{user['id']}: {user['name']}")

    print("\nPages Information:")
    for page in data['pages']:
        print(f"{page['id']}: {page['name']}")

display_users(data)
