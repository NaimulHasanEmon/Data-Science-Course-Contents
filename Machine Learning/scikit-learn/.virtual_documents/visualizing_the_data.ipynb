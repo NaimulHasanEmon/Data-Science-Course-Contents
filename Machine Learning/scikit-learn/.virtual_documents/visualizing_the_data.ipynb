


import pandas as pd
import numpy as np


data = pd.read_csv("xlsx/California Housing Prices/housing.csv")


data["income_cat"] = pd.cut(data["median_income"], bins=[0, 1.5, 3.0, 4.5, 6.0, np.inf], labels=[1, 2, 3, 4, 5])


import matplotlib.pyplot as plt


from sklearn.model_selection import StratifiedShuffleSplit


split = StratifiedShuffleSplit(n_splits=1, test_size=0.2, random_state=42)


for train_index, test_index in split.split(data, data["income_cat"]):
    strat_train_set = data.loc[train_index]
    strat_test_set = data.loc[test_index]


# Remove the income_cat column
for sett in (strat_train_set, strat_test_set):
    sett.drop("income_cat", axis=1, inplace=True)


strat_train_set.head()


strat_test_set.head()


df = strat_train_set.copy()


df.plot(kind="scatter", x="latitude", y="longitude", grid=True)


df.plot(kind="scatter", x="latitude", y="longitude", grid=True, alpha=0.3)


df.plot(kind="scatter", x="latitude", y="longitude", grid=True, cmap="jet", c="median_house_value")





df.drop(labels="ocean_proximity", inplace=True, axis=1)


df.corr()


from pandas.plotting import scatter_matrix


attributes = ["housing_median_age", "median_income", "median_house_value"]


scatter_matrix(df[attributes], figsize=(12, 8))
