{
 "cells": [
  {
   "cell_type": "code",
   "execution_count": 1,
   "id": "9bd69f6f-d79e-4f1b-9a4b-56be3f09c6a7",
   "metadata": {},
   "outputs": [],
   "source": [
    "a = 5"
   ]
  },
  {
   "cell_type": "code",
   "execution_count": 2,
   "id": "bc5cd270-ad7e-473e-9048-e1c19fa6bc11",
   "metadata": {},
   "outputs": [],
   "source": [
    "b = 32"
   ]
  },
  {
   "cell_type": "code",
   "execution_count": 6,
   "id": "56ec7aaf-dd0b-428c-a9a2-e5ccd22d0a26",
   "metadata": {},
   "outputs": [
    {
     "data": {
      "text/plain": [
       "37"
      ]
     },
     "execution_count": 6,
     "metadata": {},
     "output_type": "execute_result"
    }
   ],
   "source": [
    "a + b"
   ]
  },
  {
   "cell_type": "code",
   "execution_count": 10,
   "id": "2067b637-cd1a-4d9c-ab78-d6d56beaded8",
   "metadata": {},
   "outputs": [],
   "source": [
    "str = \"Emon\""
   ]
  },
  {
   "cell_type": "code",
   "execution_count": 12,
   "id": "ca5a5832-bd95-4fc1-b8a7-a1310ecc7279",
   "metadata": {},
   "outputs": [
    {
     "data": {
      "text/plain": [
       "'Emon'"
      ]
     },
     "execution_count": 12,
     "metadata": {},
     "output_type": "execute_result"
    }
   ],
   "source": [
    "str"
   ]
  },
  {
   "cell_type": "code",
   "execution_count": null,
   "id": "431b19bb-36a5-4910-810b-9ca65d5d2821",
   "metadata": {},
   "outputs": [],
   "source": []
  }
 ],
 "metadata": {
  "kernelspec": {
   "display_name": "Python [conda env:base] *",
   "language": "python",
   "name": "conda-base-py"
  },
  "language_info": {
   "codemirror_mode": {
    "name": "ipython",
    "version": 3
   },
   "file_extension": ".py",
   "mimetype": "text/x-python",
   "name": "python",
   "nbconvert_exporter": "python",
   "pygments_lexer": "ipython3",
   "version": "3.12.7"
  }
 },
 "nbformat": 4,
 "nbformat_minor": 5
}
