{
 "cells": [
  {
   "cell_type": "code",
   "execution_count": 4,
   "id": "69eb9482-96a5-4d69-bcbe-6505028214eb",
   "metadata": {},
   "outputs": [],
   "source": [
    "f = open(\"text.txt\", \"r\")"
   ]
  },
  {
   "cell_type": "code",
   "execution_count": 6,
   "id": "8e5e7242-b5ee-4792-b85d-df845ba06b94",
   "metadata": {},
   "outputs": [
    {
     "data": {
      "text/plain": [
       "'hello, i am emon.'"
      ]
     },
     "execution_count": 6,
     "metadata": {},
     "output_type": "execute_result"
    }
   ],
   "source": [
    "f.read()"
   ]
  },
  {
   "cell_type": "code",
   "execution_count": 8,
   "id": "ce60edcf-31b0-46ba-9499-0ca7bcf95f95",
   "metadata": {},
   "outputs": [],
   "source": [
    "s = \"This is a nice way to learn Data Science\""
   ]
  },
  {
   "cell_type": "code",
   "execution_count": 10,
   "id": "094cb4cd-9189-4d55-b654-65fdad19c6b5",
   "metadata": {},
   "outputs": [],
   "source": [
    "f.close()"
   ]
  },
  {
   "cell_type": "code",
   "execution_count": 12,
   "id": "53885f14-f4a9-4515-8b88-5476131c9cb8",
   "metadata": {},
   "outputs": [],
   "source": [
    "f = open(\"emon.txt\", \"w\")"
   ]
  },
  {
   "cell_type": "code",
   "execution_count": 14,
   "id": "7c80e15d-cc0e-4c52-8d8e-c9a05eaa71ad",
   "metadata": {},
   "outputs": [
    {
     "data": {
      "text/plain": [
       "40"
      ]
     },
     "execution_count": 14,
     "metadata": {},
     "output_type": "execute_result"
    }
   ],
   "source": [
    "f.write(s)"
   ]
  },
  {
   "cell_type": "code",
   "execution_count": 16,
   "id": "b1ca0afc-7be9-4be8-a281-9a21963c37db",
   "metadata": {},
   "outputs": [],
   "source": [
    "f.close()"
   ]
  },
  {
   "cell_type": "code",
   "execution_count": null,
   "id": "6ebb56d6-85fd-4df7-9092-1005ce25c15d",
   "metadata": {},
   "outputs": [],
   "source": []
  }
 ],
 "metadata": {
  "kernelspec": {
   "display_name": "Python [conda env:base] *",
   "language": "python",
   "name": "conda-base-py"
  },
  "language_info": {
   "codemirror_mode": {
    "name": "ipython",
    "version": 3
   },
   "file_extension": ".py",
   "mimetype": "text/x-python",
   "name": "python",
   "nbconvert_exporter": "python",
   "pygments_lexer": "ipython3",
   "version": "3.12.7"
  }
 },
 "nbformat": 4,
 "nbformat_minor": 5
}
