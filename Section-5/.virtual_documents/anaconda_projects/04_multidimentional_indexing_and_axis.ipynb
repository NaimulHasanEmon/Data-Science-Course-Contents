


import numpy as np


arr = np.array([[1, 2, 3], 
                [4, 5, 6], 
                [7, 8, 9]])


arr


arr[0]


arr[1]


np.sum(arr, axis=0)


np.sum(arr, axis=1)


arr


arr[0][1]


arr[0, 1]


arr[0:2, 1:]


arr3D = np.array([
    [[1, 2, 3],
     [4, 5, 6]],
    
    [[7, 8, 9],
     [10, 11, 12]]
])


arr3D[:, 0, :]


arr3D[:, 0, 0]


# Changing all elements of a specific row or column

arr3D[:,0,:] = 0     # Replacing all elements of 0th row with 0 
arr3D
