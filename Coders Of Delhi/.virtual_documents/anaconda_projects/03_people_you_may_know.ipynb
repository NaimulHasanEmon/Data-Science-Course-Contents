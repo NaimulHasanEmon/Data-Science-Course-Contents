import json


def load_file(filename):
    with open(filename, 'r') as f:
        data = json.load(f)
    return data


# Load the data
data = load_file("massive_data.json")
# data


def people_you_may_know(user_id, data):
    user_friends = {}
    for user in data["users"]:
        user_friends[user["id"]] = set(user["friends"])

    # print(user_friends)   # show the friends list of current user.

    if user_id not in user_friends:
        return[]

    direct_friends = user_friends[user_id]
    suggestions = {}
    for friend in direct_friends:
        for mutual_friends in user_friends[friend]:
            if mutual_friends != user_id and mutual_friends not in direct_friends:
                # Count mutual friends
                suggestions[mutual_friends] = suggestions.get(mutual_friends, 0) + 1
    sorted_suggestions = sorted(suggestions.items(), key=lambda x: x[1], reverse = True)
    return [user_id for user_id, murual_count in sorted_suggestions]

user_id = 14
recc = people_you_may_know(user_id, data)
print(recc)
