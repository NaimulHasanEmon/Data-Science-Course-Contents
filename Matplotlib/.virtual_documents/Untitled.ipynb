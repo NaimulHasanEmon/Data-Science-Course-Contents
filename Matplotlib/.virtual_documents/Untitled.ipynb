


import matplotlib.pyplot as plt


data = [87, 76, 92, 65, 58, 79, 84, 90, 73, 68,
        81, 95, 62, 77, 69, 88, 71, 66, 83, 74,
        91, 64, 59, 80, 85, 97, 61, 70, 89, 67,
        93, 78, 75, 96, 82, 72, 60, 86, 63, 98,
        55, 94, 99, 57, 56, 53, 52, 54, 50, 100]

plt.hist(data, bins=5, edgecolor="black")       # 5 Equal-width bins



