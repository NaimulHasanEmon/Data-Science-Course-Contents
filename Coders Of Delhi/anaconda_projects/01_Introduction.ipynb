{
 "cells": [
  {
   "attachments": {},
   "cell_type": "markdown",
   "id": "1387e41d-5d72-4f8f-b505-908d9df93917",
   "metadata": {},
   "source": [
    "# **Welcome to CodeBook – Your Data Science Internship Begins!**\n",
    "\n",
    "---\n",
    "\n",
    "### **Introduction**\n",
    "\n",
    "Congratulations! You have just been hired as a Data Scientist Intern at **CodeBook** – The Social Media for Coders. This Delhi-based company is offering you a **₹10 LPA** job if you successfully complete this 1-month internship. But before you get there, you must prove your skills using **only Python**—no pandas, NumPy, or fancy libraries!\n",
    "\n",
    "Your manager, **Puneet Kumar**, has assigned you your first task: analyzing a data dump of **CodeBook users** using pure Python. Your job is to load and explore the data to understand its structure.\n",
    "\n",
    "---\n",
    "\n",
    "### **Task 1: Load the User Data**\n",
    "\n",
    "Your manager has given you a dataset containing information about CodeBook users, their connections (friends), and the pages they have liked.\n",
    "\n",
    "The data is in JSON format and looks like this:\n",
    "\n",
    "```json\n",
    "{\n",
    "    \"users\": [\n",
    "        {\"id\": 1, \"name\": \"Amit\", \"friends\": [2, 3], \"liked_pages\": [101]},\n",
    "        {\"id\": 2, \"name\": \"Priya\", \"friends\": [1, 4], \"liked_pages\": [102]},\n",
    "        {\"id\": 3, \"name\": \"Rahul\", \"friends\": [1], \"liked_pages\": [101, 103]},\n",
    "        {\"id\": 4, \"name\": \"Sara\", \"friends\": [2], \"liked_pages\": [104]}\n",
    "    ],\n",
    "    \"pages\": [\n",
    "        {\"id\": 101, \"name\": \"Python Developers\"},\n",
    "        {\"id\": 102, \"name\": \"Data Science Enthusiasts\"},\n",
    "        {\"id\": 103, \"name\": \"AI & ML Community\"},\n",
    "        {\"id\": 104, \"name\": \"Web Dev Hub\"}\n",
    "    ]\n",
    "}\n",
    "```\n",
    "\n",
    "We need to **read** this data and **understand its structure**. The data contains three main components:\n",
    "\n",
    "1. **Users**: Each user has:\n",
    "   - An ID\n",
    "   - A name\n",
    "   - A list of friends (by their IDs)\n",
    "   - A list of liked pages (by their IDs)\n",
    "\n",
    "2. **Pages**: Each page has:\n",
    "   - An ID\n",
    "   - A name\n",
    "\n",
    "3. **Connections**: Users can have multiple friends and can like multiple pages.\n",
    "\n",
    "---\n",
    "\n",
    "## **Task 2: Read and Display the Data using Python**\n",
    "\n",
    "### Goal\n",
    "The goal of this task is to load data from a JSON file and display it in a structured way using Python's built-in modules.\n",
    "\n",
    "### Steps:\n",
    "\n",
    "1. **Save the JSON data**  \n",
    "   First, save the given JSON data in a file named `codebook_data.json`.\n",
    "\n",
    "2. **Read the JSON file**  \n",
    "   Use Python to read the `codebook_data.json` file.\n",
    "\n",
    "3. **Print user details and their connections**  \n",
    "   After loading the JSON data, print out the user details and their connections.\n",
    "\n",
    "4. **Print available pages**  \n",
    "   Finally, display the list of available pages.\n",
    "\n",
    "---\n",
    "\n",
    "### Next Steps:\n",
    "Your manager is happy with your progress but says,  \n",
    "> \"**The data looks messy. Can you clean and structure it better?**\""
   ]
  },
  {
   "cell_type": "code",
   "execution_count": 3,
   "id": "6c7dd7e2-1c4b-4a91-9930-ad10baf03f54",
   "metadata": {},
   "outputs": [],
   "source": [
    "import json"
   ]
  },
  {
   "cell_type": "code",
   "execution_count": 4,
   "id": "615dacc8-e89c-4c88-b5d3-a4600cec089f",
   "metadata": {},
   "outputs": [],
   "source": [
    "#Let's write a function to load the data\n",
    "def load_data(filename):\n",
    "    with open(filename, 'r') as f:\n",
    "        data = json.load(f)\n",
    "    return data"
   ]
  },
  {
   "cell_type": "code",
   "execution_count": 5,
   "id": "9c917c68-a8fd-4c90-96f7-2e1195ccc690",
   "metadata": {},
   "outputs": [],
   "source": [
    "data = load_data(\"data.json\")"
   ]
  },
  {
   "cell_type": "code",
   "execution_count": 6,
   "id": "366ec6b5-684d-4c64-9d69-dc779b9082d0",
   "metadata": {},
   "outputs": [
    {
     "data": {
      "text/plain": [
       "{'users': [{'id': 1, 'name': 'Amit', 'friends': [2, 3], 'liked_pages': [101]},\n",
       "  {'id': 2, 'name': 'Priya', 'friends': [1, 4], 'liked_pages': [102]},\n",
       "  {'id': 3, 'name': 'Rahul', 'friends': [1], 'liked_pages': [101, 103]},\n",
       "  {'id': 4, 'name': 'Sara', 'friends': [2], 'liked_pages': [104]}],\n",
       " 'pages': [{'id': 101, 'name': 'Python Developers'},\n",
       "  {'id': 102, 'name': 'Data Science Enthusiasts'},\n",
       "  {'id': 103, 'name': 'AI & ML Community'},\n",
       "  {'id': 104, 'name': 'Web Dev Hub'}]}"
      ]
     },
     "execution_count": 6,
     "metadata": {},
     "output_type": "execute_result"
    }
   ],
   "source": [
    "data"
   ]
  },
  {
   "cell_type": "code",
   "execution_count": 7,
   "id": "9d9cab0a-9627-40ad-bf2c-1c38f3e49f84",
   "metadata": {},
   "outputs": [
    {
     "data": {
      "text/plain": [
       "dict"
      ]
     },
     "execution_count": 7,
     "metadata": {},
     "output_type": "execute_result"
    }
   ],
   "source": [
    "type(data)"
   ]
  },
  {
   "cell_type": "code",
   "execution_count": 8,
   "id": "073f2fdc-1113-4bdc-a88b-7a2416beb21b",
   "metadata": {},
   "outputs": [
    {
     "name": "stdout",
     "output_type": "stream",
     "text": [
      "Users and their connections:\n",
      "\n",
      "Amit is friends with: [2, 3] and liked pages are: [101]\n",
      "Priya is friends with: [1, 4] and liked pages are: [102]\n",
      "Rahul is friends with: [1] and liked pages are: [101, 103]\n",
      "Sara is friends with: [2] and liked pages are: [104]\n",
      "\n",
      "Friends Informations:\n",
      "1: Amit\n",
      "2: Priya\n",
      "3: Rahul\n",
      "4: Sara\n",
      "\n",
      "Pages Information:\n",
      "101: Python Developers\n",
      "102: Data Science Enthusiasts\n",
      "103: AI & ML Community\n",
      "104: Web Dev Hub\n"
     ]
    }
   ],
   "source": [
    "# Write a function to display users and their connections\n",
    "def display_users(data):\n",
    "    print(\"Users and their connections:\\n\")\n",
    "    for user in data['users']:\n",
    "        print(f\"{user['name']} is friends with: {user['friends']} and liked pages are: {user['liked_pages']}\")\n",
    "\n",
    "    print('\\nFriends Informations:')\n",
    "    for user in data['users']:\n",
    "        print(f\"{user['id']}: {user['name']}\")\n",
    "\n",
    "    print(\"\\nPages Information:\")\n",
    "    for page in data['pages']:\n",
    "        print(f\"{page['id']}: {page['name']}\")\n",
    "\n",
    "display_users(data)"
   ]
  }
 ],
 "metadata": {
  "kernelspec": {
   "display_name": "Python [conda env:base] *",
   "language": "python",
   "name": "conda-base-py"
  },
  "language_info": {
   "codemirror_mode": {
    "name": "ipython",
    "version": 3
   },
   "file_extension": ".py",
   "mimetype": "text/x-python",
   "name": "python",
   "nbconvert_exporter": "python",
   "pygments_lexer": "ipython3",
   "version": "3.12.7"
  }
 },
 "nbformat": 4,
 "nbformat_minor": 5
}
