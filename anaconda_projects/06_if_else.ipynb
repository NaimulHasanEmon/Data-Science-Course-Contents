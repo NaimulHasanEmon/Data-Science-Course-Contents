{
 "cells": [
  {
   "cell_type": "code",
   "execution_count": 23,
   "id": "6247d95b-5235-4020-8837-c57f1613bb77",
   "metadata": {},
   "outputs": [],
   "source": [
    "a = 25"
   ]
  },
  {
   "cell_type": "code",
   "execution_count": 29,
   "id": "ca892912-2ef5-44b5-9d3b-13a462b36341",
   "metadata": {},
   "outputs": [
    {
     "name": "stdout",
     "output_type": "stream",
     "text": [
      "Smaller\n"
     ]
    }
   ],
   "source": [
    "if (a > 53):\n",
    "    print('Greater')\n",
    "else:\n",
    "    print('Smaller')"
   ]
  },
  {
   "cell_type": "code",
   "execution_count": 31,
   "id": "dbe550da-127c-4276-a8c8-347076f91bfe",
   "metadata": {},
   "outputs": [
    {
     "name": "stdout",
     "output_type": "stream",
     "text": [
      "Done!\n"
     ]
    }
   ],
   "source": [
    "if a > 50:\n",
    "    print('Greater than 50')\n",
    "elif a > 40:\n",
    "    print('Greater than 40')\n",
    "elif a > 30:\n",
    "    print('Greater than 30')\n",
    "else:\n",
    "    print('Done!')"
   ]
  },
  {
   "cell_type": "code",
   "execution_count": 37,
   "id": "a466a185-009c-4ca0-932a-6191bec1fcc5",
   "metadata": {},
   "outputs": [],
   "source": [
    "def avg(a, b=10):\n",
    "    return (a+b)/2"
   ]
  },
  {
   "cell_type": "code",
   "execution_count": 39,
   "id": "2a03292d-55fa-4d17-bf77-a57ca3579182",
   "metadata": {},
   "outputs": [
    {
     "data": {
      "text/plain": [
       "5.0"
      ]
     },
     "execution_count": 39,
     "metadata": {},
     "output_type": "execute_result"
    }
   ],
   "source": [
    "avg(4, 6)"
   ]
  },
  {
   "cell_type": "code",
   "execution_count": 41,
   "id": "06e0e579-b52a-426e-855d-2c953ce25648",
   "metadata": {},
   "outputs": [
    {
     "data": {
      "text/plain": [
       "7.0"
      ]
     },
     "execution_count": 41,
     "metadata": {},
     "output_type": "execute_result"
    }
   ],
   "source": [
    "avg(4)"
   ]
  },
  {
   "cell_type": "code",
   "execution_count": 49,
   "id": "7531e354-f0b6-44af-a294-5cd75344ae9a",
   "metadata": {},
   "outputs": [],
   "source": [
    "def greet():\n",
    "    print('Hello Good Morning')"
   ]
  },
  {
   "cell_type": "code",
   "execution_count": 51,
   "id": "29c3ec42-04d1-490b-846b-ebab2cc50375",
   "metadata": {},
   "outputs": [
    {
     "name": "stdout",
     "output_type": "stream",
     "text": [
      "Hello Good Morning\n"
     ]
    }
   ],
   "source": [
    "greet()"
   ]
  },
  {
   "cell_type": "code",
   "execution_count": null,
   "id": "ec8ffbd7-e004-4133-bf72-9e6e4bbb3522",
   "metadata": {},
   "outputs": [],
   "source": []
  }
 ],
 "metadata": {
  "kernelspec": {
   "display_name": "Python [conda env:base] *",
   "language": "python",
   "name": "conda-base-py"
  },
  "language_info": {
   "codemirror_mode": {
    "name": "ipython",
    "version": 3
   },
   "file_extension": ".py",
   "mimetype": "text/x-python",
   "name": "python",
   "nbconvert_exporter": "python",
   "pygments_lexer": "ipython3",
   "version": "3.12.7"
  }
 },
 "nbformat": 4,
 "nbformat_minor": 5
}
