cube = lambda x:x**x


cube(3)


sum = lambda a, b: a + b


sum(3, 4)



