import numpy as np


np.array([1, 2, 3])


np.zeros((3, 4))


np.ones((3, 4))


np.full((3, 3), 8)


np.identity(4)


np.eye(3)      # same as identity function


np.arange(1, 100, 4)      # From 1 to (100 - 4), with difference 4


np.linspace(1, 100, 5)        # From 1 to 100, divided into 5 parts where difference is same.


myArr = np.array([[1, 2, 3], [4, 5, 6], [7, 8, 9], [10, 11, 12]])
myArr


myArr.shape


myArr.size     # Total number of elements (4 x 3)


myArr.ndim


myArr.dtype


myArrFloat = np.array([[1, 2, 3], [4, 5, 6], [7, 8, 9], [10, 11, 12]], dtype='float32')
myArrFloat


n = myArrFloat.astype('float64')


n.dtype


myArr.shape


reshapred = myArr.reshape(6, 2)
print(myArr)
print(reshapred)


reshapred.shape


myArr.flatten()       # Will convert the array in 1D array
