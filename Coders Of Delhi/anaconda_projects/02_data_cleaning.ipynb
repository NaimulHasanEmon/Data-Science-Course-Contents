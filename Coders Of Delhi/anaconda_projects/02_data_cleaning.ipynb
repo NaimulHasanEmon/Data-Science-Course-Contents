{
 "cells": [
  {
   "cell_type": "markdown",
   "id": "f472ef03-9e55-4a3b-9f8a-3b861c90eb4c",
   "metadata": {},
   "source": [
    "# Cleaning and Structuring the Data\n",
    "\n",
    "## Introduction\n",
    "\n",
    "Your manager is impressed with your progress but points out that the data is messy. Before we can analyze it effectively, we need to clean and structure the data properly.\n",
    "\n",
    "Your task is to:\n",
    "\n",
    "- Handle missing values\n",
    "- Remove duplicate or inconsistent data\n",
    "- Standardize the data format\n",
    "\n",
    "Let's get started!\n",
    "\n",
    "## Task 1: Identify Issues in the Data\n",
    "\n",
    "Your manager provides you with an example dataset where some records are incomplete or incorrect. Here’s an example:\n",
    "\n",
    "```json\n",
    "{\n",
    "    \"users\": [\n",
    "        {\"id\": 1, \"name\": \"Amit\", \"friends\": [2, 3], \"liked_pages\": [101]},\n",
    "        {\"id\": 2, \"name\": \"Priya\", \"friends\": [1, 4], \"liked_pages\": [102]},\n",
    "        {\"id\": 3, \"name\": \"\", \"friends\": [1], \"liked_pages\": [101, 103]},\n",
    "        {\"id\": 4, \"name\": \"Sara\", \"friends\": [2, 2], \"liked_pages\": [104]},\n",
    "        {\"id\": 5, \"name\": \"Amit\", \"friends\": [], \"liked_pages\": []}\n",
    "    ],\n",
    "    \"pages\": [\n",
    "        {\"id\": 101, \"name\": \"Python Developers\"},\n",
    "        {\"id\": 102, \"name\": \"Data Science Enthusiasts\"},\n",
    "        {\"id\": 103, \"name\": \"AI & ML Community\"},\n",
    "        {\"id\": 104, \"name\": \"Web Dev Hub\"},\n",
    "        {\"id\": 104, \"name\": \"Web Development\"}\n",
    "    ]\n",
    "}\n",
    "```\n",
    "\n",
    "### Problems:\n",
    "- User ID 3 has an empty name.\n",
    "- User ID 4 has a duplicate friend entry.\n",
    "- User ID 5 has no connections or liked pages (inactive user).\n",
    "- The pages list contains duplicate page IDs.\n",
    "\n",
    "## Task 2: Clean the Data\n",
    "\n",
    "We will:\n",
    "\n",
    "- Remove users with missing names.\n",
    "- Remove duplicate friend entries.\n",
    "- Remove inactive users (users with no friends and no liked pages).\n",
    "- Deduplicate pages based on IDs.\n",
    "\n",
    "\n",
    "### Expected Output:\n",
    "\n",
    "```json\n",
    "{\n",
    "    \"users\": [\n",
    "        {\"id\": 1, \"name\": \"Amit\", \"friends\": [2, 3], \"liked_pages\": [101]},\n",
    "        {\"id\": 2, \"name\": \"Priya\", \"friends\": [1, 4], \"liked_pages\": [102]},\n",
    "        {\"id\": 4, \"name\": \"Sara\", \"friends\": [2], \"liked_pages\": [104]}\n",
    "    ],\n",
    "    \"pages\": [\n",
    "        {\"id\": 101, \"name\": \"Python Developers\"},\n",
    "        {\"id\": 102, \"name\": \"Data Science Enthusiasts\"},\n",
    "        {\"id\": 103, \"name\": \"AI & ML Community\"},\n",
    "        {\"id\": 104, \"name\": \"Web Development\"}\n",
    "    ]\n",
    "}\n",
    "```\n",
    "\n",
    "### Result:\n",
    "- The cleaned dataset will:\n",
    "    - Remove users with missing names.\n",
    "    - Ensure friend lists contain unique entries.\n",
    "    - Remove inactive users.\n",
    "    - Deduplicate pages.\n",
    "\n",
    "## Next Steps\n",
    "\n",
    "Your manager is happy with the cleaned data and says: \n",
    "\n",
    "**\"Great! Now that our data is structured, let's start analyzing it. You are an intern, but he is so confident in your skills that he asks you - Can you build a 'People You May Know' feature?\"**\n",
    "\n",
    "Let's do that next!"
   ]
  },
  {
   "cell_type": "code",
   "execution_count": 3,
   "id": "3116b12b-284d-4d78-8dbb-83d7b2eb05e6",
   "metadata": {},
   "outputs": [],
   "source": [
    "import json"
   ]
  },
  {
   "cell_type": "code",
   "execution_count": 4,
   "id": "21ca62fa-da38-4e1a-a55f-13576819bd39",
   "metadata": {},
   "outputs": [],
   "source": [
    "def clean_data(data):\n",
    "    # Remove users with missing names\n",
    "    data[\"users\"] = [user for user in data[\"users\"] if user[\"name\"].strip()]\n",
    "\n",
    "    # Remove duplicate friends\n",
    "    for user in data[\"users\"]:\n",
    "        user[\"friends\"] = list(set(user[\"friends\"]))\n",
    "\n",
    "    # Remove inactive users\n",
    "    data[\"users\"] = [user for user in data[\"users\"] if (user[\"friends\"] or user[\"liked_pages\"])]\n",
    "\n",
    "    # Remove duplicate pages\n",
    "    unique_pages = {}\n",
    "    for page in data[\"pages\"]:\n",
    "        unique_pages[page[\"id\"]] = page\n",
    "    data[\"pages\"] = list(unique_pages.values())\n",
    "    \n",
    "    return data"
   ]
  },
  {
   "cell_type": "code",
   "execution_count": 5,
   "id": "fcf5578c-bbab-4eb7-b15a-53f258b4cf6a",
   "metadata": {},
   "outputs": [],
   "source": [
    "#write function for loading data\n",
    "def load_file(filename):\n",
    "    with open(filename, 'r') as f:\n",
    "        data = json.load(f)\n",
    "    return data"
   ]
  },
  {
   "cell_type": "code",
   "execution_count": 6,
   "id": "1820461c-e25d-4150-ba6e-fc6620ccb078",
   "metadata": {},
   "outputs": [],
   "source": [
    "data = load_file(\"data2.json\")"
   ]
  },
  {
   "cell_type": "code",
   "execution_count": 7,
   "id": "dd40d4be-5725-4476-9e98-20caa69b308c",
   "metadata": {
    "scrolled": true
   },
   "outputs": [
    {
     "data": {
      "text/plain": [
       "{'users': [{'id': 1, 'name': 'Amit', 'friends': [2, 3], 'liked_pages': [101]},\n",
       "  {'id': 2, 'name': 'Priya', 'friends': [1, 4], 'liked_pages': [102]},\n",
       "  {'id': 3, 'name': '', 'friends': [1], 'liked_pages': [101, 103]},\n",
       "  {'id': 4, 'name': 'Sara', 'friends': [2, 2], 'liked_pages': [104]},\n",
       "  {'id': 5, 'name': 'Amit', 'friends': [], 'liked_pages': []}],\n",
       " 'pages': [{'id': 101, 'name': 'Python Developers'},\n",
       "  {'id': 102, 'name': 'Data Science Enthusiasts'},\n",
       "  {'id': 103, 'name': 'AI & ML Community'},\n",
       "  {'id': 104, 'name': 'Web Dev Hub'},\n",
       "  {'id': 104, 'name': 'Web Development'}]}"
      ]
     },
     "execution_count": 7,
     "metadata": {},
     "output_type": "execute_result"
    }
   ],
   "source": [
    "data"
   ]
  },
  {
   "cell_type": "code",
   "execution_count": 8,
   "id": "a48140a6-016a-4f3f-97d3-50671d59f42f",
   "metadata": {},
   "outputs": [],
   "source": [
    "data = clean_data(data)"
   ]
  },
  {
   "cell_type": "code",
   "execution_count": 9,
   "id": "af5dc7ea-7eb0-47cf-ae05-54d6c2dc13b8",
   "metadata": {},
   "outputs": [
    {
     "data": {
      "text/plain": [
       "{'users': [{'id': 1, 'name': 'Amit', 'friends': [2, 3], 'liked_pages': [101]},\n",
       "  {'id': 2, 'name': 'Priya', 'friends': [1, 4], 'liked_pages': [102]},\n",
       "  {'id': 4, 'name': 'Sara', 'friends': [2], 'liked_pages': [104]}],\n",
       " 'pages': [{'id': 101, 'name': 'Python Developers'},\n",
       "  {'id': 102, 'name': 'Data Science Enthusiasts'},\n",
       "  {'id': 103, 'name': 'AI & ML Community'},\n",
       "  {'id': 104, 'name': 'Web Development'}]}"
      ]
     },
     "execution_count": 9,
     "metadata": {},
     "output_type": "execute_result"
    }
   ],
   "source": [
    "data"
   ]
  },
  {
   "cell_type": "code",
   "execution_count": 10,
   "id": "efe9b2dd-3c10-4ec2-ab09-bf98468529d8",
   "metadata": {},
   "outputs": [
    {
     "name": "stdout",
     "output_type": "stream",
     "text": [
      "Data has been cleaned successfully!\n"
     ]
    }
   ],
   "source": [
    "json.dump(data, open(\"cleaned_data2.json\", \"w\"), indent=4)\n",
    "print(\"Data has been cleaned successfully!\")"
   ]
  },
  {
   "cell_type": "code",
   "execution_count": null,
   "id": "84977491-ae76-483d-b1fd-cab13d7675a9",
   "metadata": {},
   "outputs": [],
   "source": []
  }
 ],
 "metadata": {
  "kernelspec": {
   "display_name": "Python [conda env:base] *",
   "language": "python",
   "name": "conda-base-py"
  },
  "language_info": {
   "codemirror_mode": {
    "name": "ipython",
    "version": 3
   },
   "file_extension": ".py",
   "mimetype": "text/x-python",
   "name": "python",
   "nbconvert_exporter": "python",
   "pygments_lexer": "ipython3",
   "version": "3.12.7"
  }
 },
 "nbformat": 4,
 "nbformat_minor": 5
}
