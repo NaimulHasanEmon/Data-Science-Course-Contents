{
 "cells": [
  {
   "cell_type": "code",
   "execution_count": 19,
   "id": "29bfb6b9-0a93-4d13-863a-7b4b06ab6d20",
   "metadata": {},
   "outputs": [
    {
     "name": "stdout",
     "output_type": "stream",
     "text": [
      "[0, 2, 4, 6, 8, 10, 12, 14, 16, 18]\n",
      "0.5770008563995361\n"
     ]
    }
   ],
   "source": [
    "# Using Python List\n",
    "import numpy as np\n",
    "import time\n",
    "\n",
    "size = 100_000_000\n",
    "l1 = list(range(size))\n",
    "l2 = list(range(size))\n",
    "\n",
    "start = time.time()\n",
    "add = [x + y for x, y in zip(l1, l2)]\n",
    "end = time.time()\n",
    "\n",
    "print(add[0: 10])\n",
    "print(end-start)"
   ]
  },
  {
   "cell_type": "code",
   "execution_count": 2,
   "id": "d2f4855d-83fd-46c3-9822-48bf954733d4",
   "metadata": {},
   "outputs": [
    {
     "name": "stdout",
     "output_type": "stream",
     "text": [
      "[        0         2         4 ... 199999994 199999996 199999998]\n",
      "0.33072948455810547\n"
     ]
    }
   ],
   "source": [
    "# Using Numpy Arrays\n",
    "\n",
    "import numpy as np\n",
    "import time\n",
    "\n",
    "size = 10_000_000\n",
    "l1 = np.array(list(range(size)))\n",
    "l2 = np.array(list(range(size)))\n",
    "\n",
    "start = time.time()\n",
    "add = l1 + l2\n",
    "end = time.time()\n",
    "\n",
    "print(add)\n",
    "print(end-start)"
   ]
  },
  {
   "cell_type": "code",
   "execution_count": 3,
   "id": "809822ae-dfbc-4871-a23d-b220fd54bee3",
   "metadata": {},
   "outputs": [
    {
     "data": {
      "text/plain": [
       "[(1, 4), (2, 5), (3, 6)]"
      ]
     },
     "execution_count": 3,
     "metadata": {},
     "output_type": "execute_result"
    }
   ],
   "source": [
    "# Python Zip Expalined\n",
    "lis1 = [1, 2, 3]\n",
    "lis2 = [4, 5, 6]\n",
    "\n",
    "\n",
    "list(zip(lis1, lis2))"
   ]
  },
  {
   "cell_type": "code",
   "execution_count": 4,
   "id": "858f5d78-60ea-4582-ad97-3958c9d4a93e",
   "metadata": {},
   "outputs": [
    {
     "data": {
      "text/plain": [
       "array([1, 2, 3, 4, 5, 6])"
      ]
     },
     "execution_count": 4,
     "metadata": {},
     "output_type": "execute_result"
    }
   ],
   "source": [
    "# 1D array\n",
    "np.array([1, 2, 3, 4, 5, 6])"
   ]
  },
  {
   "cell_type": "code",
   "execution_count": 5,
   "id": "fe0ae145-d8d8-4e20-a3fe-fe0a9450c71f",
   "metadata": {},
   "outputs": [
    {
     "data": {
      "text/plain": [
       "array([[1, 2, 3],\n",
       "       [4, 5, 6]])"
      ]
     },
     "execution_count": 5,
     "metadata": {},
     "output_type": "execute_result"
    }
   ],
   "source": [
    "# 2D array\n",
    "arr = np.array([[1, 2, 3], [4, 5, 6]])\n",
    "arr"
   ]
  },
  {
   "cell_type": "code",
   "execution_count": 6,
   "id": "d7870c6c-c3f0-43c4-9bdb-6b2c6b885544",
   "metadata": {},
   "outputs": [
    {
     "data": {
      "text/plain": [
       "numpy.ndarray"
      ]
     },
     "execution_count": 6,
     "metadata": {},
     "output_type": "execute_result"
    }
   ],
   "source": [
    "type(arr)"
   ]
  },
  {
   "cell_type": "code",
   "execution_count": 7,
   "id": "8bdaf5c3-8b57-49e7-8b8b-f070ffa2340c",
   "metadata": {},
   "outputs": [
    {
     "data": {
      "text/plain": [
       "(2, 3)"
      ]
     },
     "execution_count": 7,
     "metadata": {},
     "output_type": "execute_result"
    }
   ],
   "source": [
    "arr.shape"
   ]
  },
  {
   "cell_type": "code",
   "execution_count": 8,
   "id": "0c46b55d-a227-4d2b-8bd5-f92485a00e99",
   "metadata": {},
   "outputs": [
    {
     "name": "stdout",
     "output_type": "stream",
     "text": [
      "[0, 1, 4, 9, 16, 25, 36, 49, 64, 81]\n",
      "7.922995090484619\n"
     ]
    }
   ],
   "source": [
    "# Squaring usingpython list\n",
    "start_time = time.time()\n",
    "list_square = [x**2 for x in range(100_000_000)]\n",
    "end_time = time.time()\n",
    "\n",
    "print(list_square[0: 10])\n",
    "print(end_time-start_time)"
   ]
  },
  {
   "cell_type": "code",
   "execution_count": 9,
   "id": "c3f0c9f4-30ed-4f2a-bb2f-2b73376dc9c2",
   "metadata": {},
   "outputs": [
    {
     "name": "stdout",
     "output_type": "stream",
     "text": [
      "[ 0  1  4  9 16 25 36 49 64 81]\n",
      "1.2863295078277588\n"
     ]
    }
   ],
   "source": [
    "# Squaring using numpy\n",
    "start_time = time.time()\n",
    "arr = np.arange(100_000_000)\n",
    "list_square = arr**2\n",
    "end_time = time.time()\n",
    "\n",
    "print(list_square[0: 10])\n",
    "print(end_time-start_time)"
   ]
  }
 ],
 "metadata": {
  "kernelspec": {
   "display_name": "Python [conda env:base] *",
   "language": "python",
   "name": "conda-base-py"
  },
  "language_info": {
   "codemirror_mode": {
    "name": "ipython",
    "version": 3
   },
   "file_extension": ".py",
   "mimetype": "text/x-python",
   "name": "python",
   "nbconvert_exporter": "python",
   "pygments_lexer": "ipython3",
   "version": "3.12.7"
  }
 },
 "nbformat": 4,
 "nbformat_minor": 5
}
