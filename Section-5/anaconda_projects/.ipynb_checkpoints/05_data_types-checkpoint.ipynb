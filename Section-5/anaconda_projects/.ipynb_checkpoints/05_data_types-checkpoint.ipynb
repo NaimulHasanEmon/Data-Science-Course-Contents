{
 "cells": [
  {
   "cell_type": "markdown",
   "id": "5d3d562b-b1bf-452c-ac84-ecdc9e9205cd",
   "metadata": {},
   "source": [
    "# Data Types in NumPy\n",
    "\n",
    "Let's learn about NumPy’s data types and explore how they affect memory usage and performance in your arrays.\n",
    "\n",
    "## 1. Introduction to NumPy Data Types\n",
    "\n",
    "NumPy arrays are homogeneous, meaning that they can only store elements of the same type. This is different from Python lists, which can hold mixed data types. NumPy supports various data types (also called `dtypes`), and understanding them is crucial for optimizing memory usage and performance.\n",
    "\n",
    "### Common Data Types in NumPy:\n",
    "\n",
    "- `int32`, `int64`: Integer types with different bit sizes.\n",
    "- `float32`, `float64`: Floating-point types with different precision.\n",
    "- `bool`: Boolean data type.\n",
    "- `complex64`, `complex128`: Complex number types.\n",
    "- `object`: For storing objects (e.g., Python objects, strings).\n",
    "\n",
    "You can check the `dtype` of a NumPy array using the `.dtype` attribute.\n",
    "\n",
    "```python\n",
    "import numpy as np\n",
    "\n",
    "arr = np.array([1, 2, 3, 4, 5])\n",
    "print(arr.dtype)  # Output: int64 (or int32 depending on the system)\n",
    "```\n",
    "\n",
    "## 2. Changing Data Types\n",
    "\n",
    "You can cast (convert) the data type of an array using the `.astype()` method. This is useful when you need to change the type for a specific operation or when you want to reduce memory usage.\n",
    "\n",
    "### Example: Changing Data Types\n",
    "\n",
    "```python\n",
    "arr = np.array([1.5, 2.7, 3.9])\n",
    "print(arr.dtype)  # Output: float64\n",
    "\n",
    "arr_int = arr.astype(np.int32)  # Converting float to int\n",
    "print(arr_int)    # Output: [1 2 3]\n",
    "print(arr_int.dtype)  # Output: int32\n",
    "```\n",
    "\n",
    "### Example: Downcasting to Save Memory\n",
    "\n",
    "```python\n",
    "arr_large = np.array([1000000, 2000000, 3000000], dtype=np.int64)\n",
    "arr_small = arr_large.astype(np.int32)  # Downcasting to a smaller dtype\n",
    "print(arr_small)  # Output: [1000000 2000000 3000000]\n",
    "print(arr_small.dtype)  # Output: int32\n",
    "```\n",
    "\n",
    "## 3. Why Data Types Matter in NumPy\n",
    "\n",
    "The choice of data type affects:\n",
    "\n",
    "- **Memory Usage**: Smaller data types use less memory.\n",
    "- **Performance**: Operations on smaller data types are faster due to less data being processed.\n",
    "- **Precision**: Choosing the appropriate data type ensures that you don't lose precision (e.g., using `float32` instead of `float64` if you don't need that extra precision).\n",
    "\n",
    "### Example: Memory Usage\n",
    "\n",
    "```python\n",
    "arr_int64 = np.array([1, 2, 3], dtype=np.int64)\n",
    "arr_int32 = np.array([1, 2, 3], dtype=np.int32)\n",
    "\n",
    "print(arr_int64.nbytes)  # Output: 24 bytes (3 elements * 8 bytes each)\n",
    "print(arr_int32.nbytes)  # Output: 12 bytes (3 elements * 4 bytes each)\n",
    "```\n",
    "\n",
    "## 4. String Data Type in NumPy\n",
    "\n",
    "Although NumPy arrays typically store numerical data, you can also store strings by using the `dtype='str'` or `dtype='U'` (Unicode string) format. However, working with strings in NumPy is less efficient than using lists or Python's built-in string types.\n",
    "\n",
    "### Example: String Array\n",
    "\n",
    "```python\n",
    "arr = np.array(['apple', 'banana', 'cherry'], dtype='U10')  # Unicode string array\n",
    "print(arr)\n",
    "```\n",
    "\n",
    "## 5. Complex Numbers\n",
    "\n",
    "NumPy also supports complex numbers, which consist of a real and imaginary part. You can store complex numbers using `complex64` or `complex128` data types.\n",
    "\n",
    "### Example: Complex Numbers\n",
    "\n",
    "```python\n",
    "arr = np.array([1 + 2j, 3 + 4j, 5 + 6j], dtype='complex128')\n",
    "print(arr)\n",
    "```\n",
    "\n",
    "## 6. Object Data Type\n",
    "\n",
    "If you need to store mixed or complex data types (e.g., Python objects), you can use `dtype='object'`. However, this type sacrifices performance, so it should only be used when absolutely necessary.\n",
    "\n",
    "### Example: Object Data Type\n",
    "\n",
    "```python\n",
    "arr = np.array([{'a': 1}, [1, 2, 3], 'hello'], dtype=object)\n",
    "print(arr)\n",
    "```\n",
    "\n",
    "## 7. Choosing the Right Data Type\n",
    "\n",
    "Choosing the correct data type is essential for:\n",
    "\n",
    "- **Optimizing memory**: Using the smallest data type that fits your data.\n",
    "- **Improving performance**: Smaller types generally lead to faster operations.\n",
    "- **Ensuring precision**: Avoid truncating or losing important decimal places or values.\n",
    "\n",
    "## Summary:\n",
    "\n",
    "- NumPy arrays are homogeneous, meaning all elements must be of the same type.\n",
    "- Use `.astype()` to change data types and optimize memory and performance.\n",
    "- The choice of data type affects memory usage, performance, and precision.\n",
    "- Be mindful of complex numbers and object data types, which can increase memory usage and reduce performance."
   ]
  },
  {
   "cell_type": "code",
   "execution_count": 2,
   "id": "27e581dd-22eb-4934-a55e-a186275ea7b6",
   "metadata": {},
   "outputs": [],
   "source": [
    "import numpy as np"
   ]
  },
  {
   "cell_type": "code",
   "execution_count": 4,
   "id": "05e6831c-e5f8-4052-8e2b-ae5ac23017f5",
   "metadata": {},
   "outputs": [],
   "source": [
    "arr = np.array([1, 2, 3, 4, 5])"
   ]
  },
  {
   "cell_type": "code",
   "execution_count": 6,
   "id": "802a0b76-13d4-4828-9df2-0b3ec3f11a10",
   "metadata": {},
   "outputs": [
    {
     "data": {
      "text/plain": [
       "dtype('int32')"
      ]
     },
     "execution_count": 6,
     "metadata": {},
     "output_type": "execute_result"
    }
   ],
   "source": [
    "arr.dtype"
   ]
  },
  {
   "cell_type": "code",
   "execution_count": 14,
   "id": "a2489a2a-565c-489a-b5d8-64f47d827007",
   "metadata": {},
   "outputs": [
    {
     "data": {
      "text/plain": [
       "array([1., 2., 3., 4., 5.])"
      ]
     },
     "execution_count": 14,
     "metadata": {},
     "output_type": "execute_result"
    }
   ],
   "source": [
    "arr.astype(\"float64\")"
   ]
  },
  {
   "cell_type": "code",
   "execution_count": 26,
   "id": "bb526a4b-c5df-452e-bbd3-36e5d7c0c5df",
   "metadata": {},
   "outputs": [],
   "source": [
    "arr2 = arr.astype(\"int64\")"
   ]
  },
  {
   "cell_type": "code",
   "execution_count": 32,
   "id": "364af0de-5250-4162-b8ce-0ee3992ba7c2",
   "metadata": {},
   "outputs": [
    {
     "data": {
      "text/plain": [
       "20"
      ]
     },
     "execution_count": 32,
     "metadata": {},
     "output_type": "execute_result"
    }
   ],
   "source": [
    "arr.nbytes        # Memory uses"
   ]
  },
  {
   "cell_type": "code",
   "execution_count": 36,
   "id": "c5d53592-12d6-4ae0-b93c-0d4deae782dd",
   "metadata": {},
   "outputs": [
    {
     "data": {
      "text/plain": [
       "40"
      ]
     },
     "execution_count": 36,
     "metadata": {},
     "output_type": "execute_result"
    }
   ],
   "source": [
    "arr2.nbytes       # Memory uses"
   ]
  }
 ],
 "metadata": {
  "kernelspec": {
   "display_name": "Python [conda env:base] *",
   "language": "python",
   "name": "conda-base-py"
  },
  "language_info": {
   "codemirror_mode": {
    "name": "ipython",
    "version": 3
   },
   "file_extension": ".py",
   "mimetype": "text/x-python",
   "name": "python",
   "nbconvert_exporter": "python",
   "pygments_lexer": "ipython3",
   "version": "3.12.7"
  }
 },
 "nbformat": 4,
 "nbformat_minor": 5
}
