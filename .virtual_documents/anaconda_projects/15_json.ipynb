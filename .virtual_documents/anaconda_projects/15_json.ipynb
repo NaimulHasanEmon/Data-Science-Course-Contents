import json


obj = {"name": "Emon", "company": "IBM", "salary": 45000}
s = json.dumps(obj)


s


type(s)


d = json.loads(s)


d


type(d)


file = open("data.json", "w")


json.dump(obj, file)


file.close()


student = {"name": "Naimul Hasan", "age": 25, "Id": 5601}


student


infoJson = json.dumps(student)
infoJson


infoDict = json.loads(infoJson)
infoDict


studentFile = open("student.json", "w")


json.dump(infoDict, studentFile)


studentFile.close()



