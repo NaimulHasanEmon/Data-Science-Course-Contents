import pandas as pd
import numpy as np


df = pd.read_csv("xlsx/California Housing Prices/housing.csv")


df.head()


df["income_cat"] = pd.cut(df["median_income"], bins=[0, 1.5, 3, 4.5, 6, np.inf], labels=[1, 2, 3, 4, 5])


df.head()


from sklearn.model_selection import StratifiedShuffleSplit


split = StratifiedShuffleSplit(n_splits=1, test_size=0.2, random_state=42)


for train_split, test_split in split.split(df, df["income_cat"]):
    strat_train_split = df.loc[train_split]
    strat_test_split = df.loc[test_split]


strat_train_split.head()


strat_test_split.head()


import matplotlib.pyplot as plt


strat_train_split["income_cat"].value_counts().sort_index().plot.bar(grid=True)


strat_test_split["income_cat"].value_counts().sort_index().plot.bar(grid=True)


for sett in (strat_train_split, strat_test_split):
    sett.drop("income_cat", axis=1, inplace=True)


strat_train_split.head()


strat_test_split.head()


df_train = strat_train_split.copy()


df_train.plot(kind="scatter", x="latitude", y="longitude", grid=True)


df_train.plot(kind="scatter", x="latitude", y="longitude", alpha=0.3 , grid=True)


df_train.plot(kind="scatter", x="latitude", y="longitude", cmap="jet", c="median_house_value" , grid=True)


housing = strat_train_split.drop("median_house_value", axis=1)
housing_labels = strat_train_split["median_house_value"].copy()


housing.head()


housing_labels.head()


from sklearn.impute import SimpleImputer


imputer = SimpleImputer(strategy="median")


housing_num = housing.select_dtypes(include=[np.number])


imputer.fit(housing_num)


imputer.statistics_


X = imputer.transform(housing_num)


X



