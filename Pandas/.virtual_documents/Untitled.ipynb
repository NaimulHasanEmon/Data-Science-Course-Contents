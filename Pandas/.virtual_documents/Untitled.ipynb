


import pandas as pd


df = pd.read_csv("data2.csv")


df


df = df[df["IMDb"] > 6.0]


df


df.to_csv("data_updated.csv")



