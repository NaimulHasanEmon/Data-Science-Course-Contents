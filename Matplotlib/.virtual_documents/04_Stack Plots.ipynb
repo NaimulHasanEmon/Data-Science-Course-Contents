


import matplotlib.pyplot as plt


activities = ['Studying', 'Playing', 'Watching TV', 'Sleeping']
time_spent = [3, 2, 2, 5]  # hours in a day
colors = ['skyblue', 'lightgreen', 'gold', 'lightcoral']

plt.figure(figsize=(6, 6))
explode = [0.1, 0, 0, 0]
plt.pie(time_spent, labels=activities, colors=colors, autopct="%1.1f%%", shadow=True, explode=explode)
plt.title("Hours distribution of a school student")
plt.axis("equal")        # This makes the pie chart a circle


days = [1, 2, 3, 4, 5, 6, 7]          # Days of the week
studying = [3, 4, 3, 5, 4, 3, 4]
playing = [2, 2, 1, 1, 2, 3, 2]
watching_tv = [2, 1, 2, 2, 1, 1, 1]
sleeping = [5, 5, 6, 5, 6, 5, 5]

labels = ["Studying", "Playing", "Watching TV", "Sleeping"]
colors = ['violet', 'lightgreen', 'gold', 'lightcoral']
plt.figure(figsize=(6, 6))
plt.stackplot(
    days,
    studying,
    playing,
    watching_tv,
    sleeping,
    labels=labels,
    colors=colors,
    alpha=0.5           # Alpha defins opacity
)
plt.xlabel("Days")
plt.ylabel("Hours")
plt.title("Hour / Days comparison")
plt.legend(loc="best")
plt.grid(True)





days = [1, 2, 3, 4, 5, 6, 7]          # Days of the week (Monday to Sunday)
coding = [2, 3, 2.5, 2, 3, 4, 3.5]
class_hours = [0, 1, 1.5, 2.5, 2, 0, 0]
course = [2, 2, 2.5, 1.5, 2, 3, 3]
visiting_outside = [1.3, 1, 0.5, 1, 0, 2, 2.5]

labels = ["Coding", "Class Hours", "Course", "Visiting Outside"]
colors = ['deepskyblue', 'mediumseagreen', 'orange', 'tomato']

plt.figure(figsize=(6, 6))

plt.stackplot(
    days,
    coding,
    class_hours,
    course,
    visiting_outside,
    labels=labels,
    colors=colors,
    alpha=0.7
)

plt.xlabel("Days")
plt.ylabel("Hours")
plt.title("My Weekly Hour Distribusion")
plt.grid(True)
plt.legend()
