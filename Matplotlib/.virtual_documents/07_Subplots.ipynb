


import matplotlib.pyplot as plt


x = [1, 2, 3, 4, 5, 6, 7, 8, 9, 10, 11, 12, 13, 14, 15]
y1 = [i * 2 for i in x]
y2 = [i ** 2 for i in x]


plt.subplot(1, 2, 1)
plt.plot(x, y1)
plt.xlabel("Value of X")
plt.ylabel("Double of X")
plt.title("Double of X")

plt.subplot(1, 2, 2)
plt.plot(x, y2)
plt.xlabel("Value of X")
plt.ylabel("Square of X")
plt.title("Square of x")

plt.tight_layout()


y3 = [i**0.5 for i in x]
y4 = [10-i for i in x]

plt.figure(figsize=(8, 6))

plt.subplot(2, 2, 1)
plt.plot(x, y1)
plt.title("Double of X")

plt.subplot(2, 2, 2)
plt.plot(x, y2)
plt.title("Square of X")

plt.subplot(2, 2, 3)
plt.plot(x, y3)
plt.title("Square root of X")

plt.subplot(2, 2, 4)
plt.plot(x, y4)
plt.title("10 - X")

plt.tight_layout()


fig, axs = plt.subplots(1, 2, figsize=(10, 4))
axs[0].plot(x, y1)
axs[0].set_title("X * 2")

axs[1].plot(x, y2)
axs[1].set_title("X ** 2")

fig.suptitle("My Comparison Plots", fontsize=15)
