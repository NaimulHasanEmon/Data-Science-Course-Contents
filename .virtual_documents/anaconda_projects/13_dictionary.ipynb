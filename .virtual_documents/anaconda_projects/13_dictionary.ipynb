d = {}


type(d)


student = {
    "name": "Emon",
    "age": 25,
    "grade": "A+"
}


student.get("name")


student["age"]


student["age"] = 50


student["age"]


student.keys()


student.values()


student.items()


student.update({"name":"emon"})


student



