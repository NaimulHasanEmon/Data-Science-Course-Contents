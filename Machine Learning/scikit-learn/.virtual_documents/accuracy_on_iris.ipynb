


import pandas as pd


from sklearn.ensemble import RandomForestClassifier


data = pd.read_excel("xlsx/iris-train.xlsx")


data


x = data.iloc[:, :-1]


x


y = data.iloc[:, -1]


y


model = RandomForestClassifier()


model.fit(x.values, y.values)


prediction = model.predict([[5, 3.6, 1.4, 0.2]])


prediction


dataTest = pd.read_excel("xlsx/iris-test.xlsx")


dataTest.head()


x = dataTest.iloc[:, :-1]


x


y = dataTest.iloc[:, -1]


y


correct_predictions = 0
for i in range(len(x)):
    prediction_whole_test = model.predict([x.values[i]])
    if (y.values[i] == prediction_whole_test):
        correct_predictions += 1
        print(f'✅ Correct')
    else:
        print(f'❌ Incorrect')


total_predictions = len(y)


accuracy = (correct_predictions / total_predictions) * 100


print(f'Accuracy: {accuracy:.2f}%')
