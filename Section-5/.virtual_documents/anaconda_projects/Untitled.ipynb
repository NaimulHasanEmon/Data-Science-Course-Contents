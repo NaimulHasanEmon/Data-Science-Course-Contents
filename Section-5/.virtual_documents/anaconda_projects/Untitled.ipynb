


import numpy as np


arr = [1, 2, 3, 4, 5]
res = []

for i in arr:
    res.append(i**2)

print(res)


arr = np.array([1, 2, 3, 4, 5])
res = arr**2
print(res)
