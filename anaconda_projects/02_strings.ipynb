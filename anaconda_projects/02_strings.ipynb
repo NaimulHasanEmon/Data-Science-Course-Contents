{
 "cells": [
  {
   "cell_type": "code",
   "execution_count": 1,
   "id": "3c748017-4155-4bfc-bc12-c34a31ea2326",
   "metadata": {},
   "outputs": [],
   "source": [
    "name = 'Emon'"
   ]
  },
  {
   "cell_type": "code",
   "execution_count": 2,
   "id": "b1871b98-f78d-4f2a-8ceb-7e1753e4e439",
   "metadata": {},
   "outputs": [
    {
     "data": {
      "text/plain": [
       "'Emon'"
      ]
     },
     "execution_count": 2,
     "metadata": {},
     "output_type": "execute_result"
    }
   ],
   "source": [
    "name"
   ]
  },
  {
   "cell_type": "code",
   "execution_count": 3,
   "id": "a2c96e9d-77f7-414a-9062-71b2c6a342d4",
   "metadata": {},
   "outputs": [
    {
     "data": {
      "text/plain": [
       "'EMON'"
      ]
     },
     "execution_count": 3,
     "metadata": {},
     "output_type": "execute_result"
    }
   ],
   "source": [
    "name.upper()"
   ]
  },
  {
   "cell_type": "code",
   "execution_count": 4,
   "id": "9b573e6c-9d0e-467c-9a29-48554d8ea183",
   "metadata": {},
   "outputs": [
    {
     "data": {
      "text/plain": [
       "True"
      ]
     },
     "execution_count": 4,
     "metadata": {},
     "output_type": "execute_result"
    }
   ],
   "source": [
    "name.endswith('on')"
   ]
  },
  {
   "cell_type": "code",
   "execution_count": 5,
   "id": "cb809c92-446f-4f71-b875-5a13497fbf49",
   "metadata": {},
   "outputs": [
    {
     "data": {
      "text/plain": [
       "False"
      ]
     },
     "execution_count": 5,
     "metadata": {},
     "output_type": "execute_result"
    }
   ],
   "source": [
    "name.endswith('ab')"
   ]
  },
  {
   "cell_type": "code",
   "execution_count": 6,
   "id": "c971b308-0664-4c40-a197-57212419d1b9",
   "metadata": {},
   "outputs": [
    {
     "data": {
      "text/plain": [
       "'emon'"
      ]
     },
     "execution_count": 6,
     "metadata": {},
     "output_type": "execute_result"
    }
   ],
   "source": [
    "name.lower()"
   ]
  },
  {
   "cell_type": "code",
   "execution_count": 7,
   "id": "e8b09d74-cd4d-41a0-924d-2b1f8ffd6aa9",
   "metadata": {},
   "outputs": [
    {
     "data": {
      "text/plain": [
       "1"
      ]
     },
     "execution_count": 7,
     "metadata": {},
     "output_type": "execute_result"
    }
   ],
   "source": [
    "name.count('o')"
   ]
  },
  {
   "cell_type": "code",
   "execution_count": 8,
   "id": "222f121b-ef7a-4807-972e-bcbc154342f7",
   "metadata": {},
   "outputs": [],
   "source": [
    "str = 'apple'"
   ]
  },
  {
   "cell_type": "code",
   "execution_count": 9,
   "id": "2aa26caf-3355-4f6f-aea6-949d3d9c64fa",
   "metadata": {},
   "outputs": [
    {
     "data": {
      "text/plain": [
       "2"
      ]
     },
     "execution_count": 9,
     "metadata": {},
     "output_type": "execute_result"
    }
   ],
   "source": [
    "str.count('p')"
   ]
  },
  {
   "cell_type": "code",
   "execution_count": 11,
   "id": "49d1ce4d-32b7-4aa5-985f-e93c477dde20",
   "metadata": {},
   "outputs": [
    {
     "data": {
      "text/plain": [
       "4"
      ]
     },
     "execution_count": 11,
     "metadata": {},
     "output_type": "execute_result"
    }
   ],
   "source": [
    "len(name)"
   ]
  },
  {
   "cell_type": "code",
   "execution_count": 17,
   "id": "59e1c1f9-ab04-4ba6-8570-cd43b83582cb",
   "metadata": {},
   "outputs": [
    {
     "data": {
      "text/plain": [
       "'Emo'"
      ]
     },
     "execution_count": 17,
     "metadata": {},
     "output_type": "execute_result"
    }
   ],
   "source": [
    "name[0:3]   # Till 3 - 1 = 2 index"
   ]
  },
  {
   "cell_type": "code",
   "execution_count": 23,
   "id": "08666cbb-f1d5-47a4-acee-c0caeb72a4ba",
   "metadata": {},
   "outputs": [
    {
     "data": {
      "text/plain": [
       "'mo'"
      ]
     },
     "execution_count": 23,
     "metadata": {},
     "output_type": "execute_result"
    }
   ],
   "source": [
    "name[1:len(name)-1]"
   ]
  }
 ],
 "metadata": {
  "kernelspec": {
   "display_name": "Python [conda env:base] *",
   "language": "python",
   "name": "conda-base-py"
  },
  "language_info": {
   "codemirror_mode": {
    "name": "ipython",
    "version": 3
   },
   "file_extension": ".py",
   "mimetype": "text/x-python",
   "name": "python",
   "nbconvert_exporter": "python",
   "pygments_lexer": "ipython3",
   "version": "3.12.7"
  }
 },
 "nbformat": 4,
 "nbformat_minor": 5
}
