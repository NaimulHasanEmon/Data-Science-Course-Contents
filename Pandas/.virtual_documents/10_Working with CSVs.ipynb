


import pandas as pd


df = pd.read_csv("data2.csv")


df


df = df[df["IMDb"] > 6.0]


df


df.to_csv("data_updated.csv", index=False)


df = pd.read_json("myData.json")


df


data = [
    {"id": 1, "name": "Naimul", "address": {"city": "Dhaka", "zip-code": "1284"}},
    {"id": 2, "name": "Emon", "address": {"city": "Bogura", "zip-code": "5801"}}
]


data


df = pd.json_normalize(data)


df
